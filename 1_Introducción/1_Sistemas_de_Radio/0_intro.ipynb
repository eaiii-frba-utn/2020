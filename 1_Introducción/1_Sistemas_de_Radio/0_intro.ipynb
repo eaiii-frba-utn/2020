{
 "cells": [
  {
   "cell_type": "markdown",
   "metadata": {},
   "source": [
    "# Sistemas de radio\n",
    "\n",
    "Los sistemas de comunicación a menudo implican transmitir un mensaje $m(t)$ a través de un canal de ancho de banda finito, es decir, un canal donde solo se puede usar un rango limitado de frecuencias. Un buen ejemplo son las transmisiones de radio FM comerciales, generalmente restringidas a una banda de frecuencia entre $85MHz$ y $108MHz$ donde se transmiten múltiples estaciones, a cada una de las cuales se le asigna una banda $\\le 200 KHz$. \n",
    "\n",
    "\n",
    "Dado que el mensaje que estamos interesados en transmitir a menudo tiene soporte en un rango diferente de frecuencias, como es el caso de las señales de audio sin procesar en el rango de audición humana ($20 Hz - 20 kHz$), la señal primero debe transladarse en frecuencia para satisfacer los requerimientos del canal particular de comunicación.\n",
    "\n",
    "El siguiente diagrama en bloques presenta un sistema de radio basico.\n",
    "\n",
    "<img src=\"fig/radio1.png\" style=\"height:300px\">\n",
    "\n",
    "El sistema de radio tiene como objetivo enviar y/o recibir información de dos lugares remotos. \n"
   ]
  },
  {
   "cell_type": "markdown",
   "metadata": {},
   "source": [
    "En el caso representado, la información sera trasmitica por un enlace inalambrico realizado mediante dos antenas. \n",
    "El enlace atenua la señal enviada y, ademas, adiciona ruido a la señal. \n",
    "\n",
    "Recordando el teorema de Shannon-Hartley, el cual establece cuál es la capacidad del canal, para un canal con ancho de banda finito y una señal continua que sufre un ruido gaussian:\n",
    "\n",
    "$$ C=B\\log _{2}\\left(1+{\\frac {S}{N}}\\right)$$\n",
    "\n",
    "donde:\n",
    "\n",
    " $B$ es el ancho de banda del canal en Hertzios,  $C$ es la capacidad del canal (tasa de bits de información bit/s),  $S$ es la potencia de la señal útil,  $N$ es la potencia del ruido presente en el canal, que trata de enmascarar a la señal útil.\n",
    "\n",
    "El teorema muestra el limite de la velocidad de transmision depende del ancho de banda y el ruido adicional al canal.  \n",
    "\n",
    "\n"
   ]
  },
  {
   "cell_type": "markdown",
   "metadata": {},
   "source": [
    "## Ejemplo de valores tipicos de BLU y STM\n",
    "\n",
    "\n",
    "\n",
    "<img src=\"fig/AM_radio.jpg\" style=\"height:500px\">\n",
    "\n",
    "\n",
    "\n",
    "<img src=\"fig/radio2.png\" >\n",
    "\n",
    "\n",
    "\n",
    "\n",
    "<img src=\"fig/enlaceCband.png\" style=\"height:400px\">\n"
   ]
  },
  {
   "cell_type": "markdown",
   "metadata": {},
   "source": [
    "## Enlace de radiocomunicaciones\n",
    "\n",
    "<img src=\"fig/radio3.png\" >"
   ]
  },
  {
   "cell_type": "markdown",
   "metadata": {},
   "source": [
    "# Cualidades de un receptor:\n",
    "## Sensibilidad: \n",
    "Capacidad de recibir señales débiles. Se mide como tensión en la entrada necesaria para obtener una relación determinada entre señal y ruido a la salida.\n",
    "\n",
    "## Selectividad: \n",
    "Capacidad de rechazar frecuencias indeseadas. Se mide como cociente de potencias de entrada de las señales de frecuencias indeseadas y de la deseada que generan la misma señal de salida.\n",
    "\n",
    "## Fidelidad: \n",
    "Capacidad de reproducir las señales de banda base para una distorsión especificada.\n",
    "\n",
    "## Margen dinámico: \n",
    "Cociente entre niveles máximos y mínimos de potencia de entrada que garantizan funcionamiento correcto del receptor.\n",
    "\n",
    "## Liniealidad\n",
    "\n",
    "\n",
    "\n",
    "## Tipos de receptores: \n",
    "### Homodino o de detección directa o de conversión directa \n",
    "\n",
    "### Reflex Regenerativo o receptores a reacción \n",
    "\n",
    "Superregenerativo \n",
    "\n",
    "### Heterodino\n",
    "\n",
    "#### Superheterodinos \n",
    "#### De simple conversión \n",
    "#### De conversión múltiple "
   ]
  },
  {
   "cell_type": "code",
   "execution_count": null,
   "metadata": {},
   "outputs": [],
   "source": []
  }
 ],
 "metadata": {
  "kernelspec": {
   "display_name": "Python 3",
   "language": "python",
   "name": "python3"
  },
  "language_info": {
   "codemirror_mode": {
    "name": "ipython",
    "version": 3
   },
   "file_extension": ".py",
   "mimetype": "text/x-python",
   "name": "python",
   "nbconvert_exporter": "python",
   "pygments_lexer": "ipython3",
   "version": "3.7.4"
  }
 },
 "nbformat": 4,
 "nbformat_minor": 2
}
