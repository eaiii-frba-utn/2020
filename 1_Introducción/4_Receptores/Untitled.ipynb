{
 "cells": [
  {
   "cell_type": "markdown",
   "metadata": {},
   "source": [
    "# RECEPTORES DE RF \n",
    "\n",
    "Un receptor es un dispositivo capaz de aceptar y demodular una señal de radio frecuencia, a fin de obtener la información transportada en ella. La señal de entrada al receptor generalmente presenta una energia extremadamente baja, por lo tanto,  un receptor típico debe ser capaz de amplificar la señal de entrada por un factor del orden de algunos cientos, para que esta tenga suficiente amplitud para ser útil. \n",
    "\n",
    "Existen diversos tipos de receptores con principios de funcionamiento diversos, de estos el tipo más comúnmente utilizado es el Superheterodino, el diagrama en bloques de un receptor de este tipo se ve en la figura.\n",
    "\n",
    "\n",
    "Los receptores a utilizarse en radio-comunicaciones deben cumplir con ciertos parámetros que se encuentran normalizados. \n",
    "\n",
    "## Sensibilidad: \n",
    "\n",
    "La sensibilidad del receptor determina el nivel de señal más débil que el receptor es capaz de recibir con una reproducción aceptable de la señal modulante original. La sensibilidad última del receptor se limita por el ruido generado dentro del propio receptor, siendo la relación señal a ruido y la potencia de la señal en la salida, indispensables en la determinación de la calidad de la señal demodulada. El ruido de salida es un factor importante en cualquier medición de sensibilidad. \n",
    "\n",
    "La sensibilidad se define como el voltaje mínimo de entrada (portadora de RF), que producirá una relación de potencia señal a ruido (SNR) especificada generalmente a la salida de la sección demoduladora, generalmente se especifica en  $\\mu V$. En algunos casos la portadora de RF se modula con un determinado índice y en otros se utiliza a la portadora de RF sin modular. \n",
    "\n",
    "En receptores de AM se define la sensibilidad como el voltaje de la portadora mínimo de entrada, modulado en $30\\%$, con un tono de 1000 Hz, que produce una SNR especificada a la salida del detector de aproximadamente 10 dB, para el caso de receptores de televisión este valor es de aproximadamente 40dB. Para el caso de receptores de FM banda angosta se suelen definir básicamente 3 tipos de sensibilidades: \n",
    "\n",
    "#### Sensibilidad para 12 dB Sinad: \n",
    "A esta se la llama también Sensibilidad Útil y determina el nivel de señal de entrada de RF en el conector de antena que produce en la salida de audio una señal con una relación SRD/RD de 12 dB, donde será: \n",
    "$$SRD/RD = \\frac{Señal + Ruido + Distorsión}{Ruido + Distorsión}$$ \n",
    "\n",
    "en este caso se utiliza a la portadora de RF modulada al $60 \\%$ con un tono de $1 KHz$.\n",
    "\n",
    "#### Sensibilidad para 20 dB de aquietamiento: \n",
    "\n",
    "Esta indica el nivel de señal de RF de entrada que produce un silenciamiento o atenuación del ruido de salida del receptor de 20 dB, en este caso la señal de entrada no se encuentra modulada. Los valores normales que se obtienen están en el orden de $0,35 \\mu V$ a $0,5 \\mu V$.\n",
    "\n",
    "#### Sensibilidad de apertura de silenciador: \n",
    "El circuito silenciador (Squelch) en el receptor es el encargado de silenciar o enmudecer la salida de audio cuando no existe señal de entrada, este se debe habilitar cuando aparece una señal de entrada con un nivel mínimo (ajustable), este nivel mínimo con el cual se habilita la salida de audio es el que se conoce como Sensibilidad de Silenciador (Mute o Silenciador). El valor típico de sensibilidad se apertura está en el orden de $0,18 \\mu V$ a $0,25 \\mu V$, para receptores muy sensibles. \n",
    "\n",
    "## Selectividad: \n",
    "La selectividad es una medida de la capacidad del receptor para seleccionar la estación deseada y discriminar o atenuar señales de canales adyacentes no deseadas. La selectividad se determina por la respuesta en frecuencia que presentan algunos circuitos que anteceden al detector, especialmente los filtros de la sección de FI. El valor normalizado de rechazo de señales de canales adyacentes es como mínimo de 60 dB. \n",
    "\n",
    "La determinación del rechazo de señales de canal adyacente en un receptor se puede realizar en forma estática o dinámica: \n",
    "En la forma dinámica se utilizan dos generadores de radiofrecuencia, uno se sintoniza a la frecuencia nominal del receptor con un nivel equivalente al de sensibilidad útil, el segundo generador se sintoniza a la frecuencia del canal adyacente cuyo rechazo se desea medir, modulado con un tono de 400 Hz. y un índice del 60%, se ajusta el nivel de salida de este generador hasta que la relación SRD / RD se degrade de 12 a 6 dB, el rechazo se especifica por la diferencia en dB de los niveles de salida de los dos generadores. \n",
    "\n",
    "\n",
    "\n",
    "\n"
   ]
  },
  {
   "cell_type": "markdown",
   "metadata": {},
   "source": [
    "#### Rechazo de Frecuencia Imagen: \n",
    "El valor normalizado de rechazo de frecuencia imagen es como mínimo 60 dB. Para la medición de este rechazo se utiliza un solo generador, el que se sintoniza a la frecuencia imagen, con modulación de 400 Hz. con un índice del 60%, se varía el nivel de salida hasta obtener una relación SRD / RD de 12 dB. El rechazo se expresa por la diferencia entre el nivel de salida en dB que presenta el generador sintonizado a la frecuencia imagen y el valor de sensibilidad útil. Este valor de rechazo se lo denomina Estático debido a que la medición se efectúa mediante la aplicación no simultánea de las señales, pero si se aplican con dos generadores simultáneamente las dos señales, al valor obtenido se lo denomina Dinámico. \n",
    "\n",
    "\n",
    "#### Rechazo de Frecuencia Intermedia : \n",
    "La razón en dB de las entradas a frecuencias intermedias y a la frecuencia deseada de portadora que producen salidas iguales procedentes del mezclador, es la razón de rechazo de FI. Esta también cambia con la sintonización del receptor; es decir, un receptor de AM sintonizado en 555 KHz no será capaz de discriminar contra una señal de interferencia en la frecuencia de FI de 455 KHz, tan bien como lo haría si estuviera sintonizado en 1605 KHz. \n",
    "En la forma estática se conecta un generador de RF en el conector de entrada de antena del receptor, se quita la modulación y se sintoniza el generador en la frecuencia correspondiente al canal deseado, entonces se mide la sensibilidad del receptor para 20 dB de aquietamiento, luego sintoniza en el generador una frecuencia correspondiente al canal adyacente y se determina el nivel de señal de salida del generador que se debe colocar para obtener nuevamente 20 dB de aquietamiento, la diferencia de los niveles de entrada para cada caso será el rechazo obtenido de canal adyacente. "
   ]
  }
 ],
 "metadata": {
  "kernelspec": {
   "display_name": "Python 3",
   "language": "python",
   "name": "python3"
  },
  "language_info": {
   "codemirror_mode": {
    "name": "ipython",
    "version": 3
   },
   "file_extension": ".py",
   "mimetype": "text/x-python",
   "name": "python",
   "nbconvert_exporter": "python",
   "pygments_lexer": "ipython3",
   "version": "3.7.4"
  }
 },
 "nbformat": 4,
 "nbformat_minor": 2
}
