{
 "cells": [
  {
   "cell_type": "markdown",
   "metadata": {},
   "source": [
    "## Serie de Fourier\n",
    "\n",
    "\n",
    "Si $f(t)$  es una función de variable real $t$, que es integrable en el intervalo $[t_0-T/2,t_0+T/2]\\,$  entonces se puede obtener el desarrollo en serie de Fourier de $f(t)\\,$ en ese intervalo. \n",
    "Fuera del intervalo la serie es periódica, con período $T\\,$. \n",
    "\n",
    "Si $f(t)$ es periódica en toda la recta real, la aproximación por series de Fourier también será válida en todos los valores de $t\\,$. \n",
    "\n",
    "### Serie de Fourier trigonometrica\n",
    "\n",
    "Luego la serie de Fourier asociada a $f(t)\\,$ es:\n",
    "\n",
    "$$f(t) \\sim \\frac{a_0}{2} + \\sum_{n=1}^\\infty\\left[a_n\\cos \\left( \\frac{2n\\pi}{T}t \\right) + b_n\\sin \\left( \\frac{2n\\pi}{T}t \\right) \\right]$$\n",
    "\n",
    "Donde $a_0$, $a_n$ y $b_n$ son los coeficientes de la serie de Fourier que toman los valores:\n",
    "\n",
    "$$ a_0 = \\frac{2}{T} \\int_{-\\frac{T}{2}}^{\\frac{T}{2}}  f(t) dt $$\n",
    "\n",
    "$$ a_n = \\frac{2}{T} \\int_{-T/2}^{T/2}  f(t) \\cos \\left( \\frac{2n \\pi}{T} t \\right) dt$$\n",
    "\n",
    "$$ b_n = \\frac{2}{T} \\int_{-T/2}^{T/2}  f(t) \\sin \\left(\\frac{2n\\pi}{T}t\\right) dt$$\n",
    "\n",
    "\n",
    "### Serie de Fourier exponencial\n",
    "Por la identidad de Euler, las fórmulas de arriba pueden expresarse también en su forma compleja:\n",
    "\n",
    "$$ f(t) \\sim \\sum_{n=-\\infty}^{\\infty} c_{n}\\,e^{2\\pi i\\frac{n}{T}t}.$$\n",
    "\n",
    "Los coeficientes ahora serían:\n",
    "\n",
    "$$c_n=\\frac{1}{T}\\int_{-T/2}^{T/2} f(t)\\,e^{-2\\pi i\\frac {n}{T}t}\\,dt.$$\n",
    "\n",
    "Otra forma de definir la serie de Fourier es:\n",
    "\n",
    "$$f(t) = \\frac{a_0}{2} + \\sum_{n=1}^\\infty\\left(a_n\\cos{{\\omega_n}{t}} + b_n\\sin{{\\omega_n}{t}}\\right)$$\n",
    "\n",
    "donde\n",
    "$\\omega_n=n\\omega$\n",
    "y\n",
    "$\\omega=2{\\pi}f=\\frac{2{\\pi}}{T}$\n",
    "\n",
    "siendo:\n",
    "\n",
    "$$ a_0 = \\frac{2}{T} \\int_{t_0}^{t_0+T}  f(t) dt$$\n",
    "\n",
    "$$ a_n = \\frac{2}{T} \\int_{t_0}^{t_0+T}  f(t) \\cos{{\\omega_n}{t}} dt$$ \n",
    "\n",
    "$$ b_n=\\frac{2}{T} \\int_{t_0}^{t_0+T} f(t) \\sin{{\\omega_n}{t}} dt$$\n",
    "\n",
    "\n",
    "\n",
    "### Euler's formula:\n",
    "$$ e^{ i \\theta} = cos(\\theta) + i \\cdot sin(\\theta)$$\n",
    "\n",
    "\n"
   ]
  },
  {
   "cell_type": "markdown",
   "metadata": {},
   "source": [
    "### Serie de Fourier exponencial discreta\n",
    "\n",
    "Sea x(n) una señal aperiódica discreta en el tiempo, la transformada discreta de Fourier (DFT) de esta señal se define como:\n",
    "\n",
    "$$X[k]= \\sum_{n=0}^{N-1} x[n]\\,e^{-j 2\\pi n \\frac{k}{N}}$$\n",
    "\n",
    "en la cual X(k) es un conjunto de números complejos. \n",
    "\n",
    "La evaluación directa de esa fórmula requiere $N^{2}$ operaciones aritméticas, pero con un algoritmo FFT se puede obtener el mismo resultado con sólo $N log N$ operaciones.\n",
    "\n",
    "\n",
    "$$x[n] = \\frac{1}{N} \\sum_{k=0}^{N-1} X[k]\\cdot e^{i 2 \\pi k \\frac{n}{N}}$$"
   ]
  },
  {
   "cell_type": "code",
   "execution_count": null,
   "metadata": {},
   "outputs": [],
   "source": []
  }
 ],
 "metadata": {
  "kernelspec": {
   "display_name": "Python 3",
   "language": "python",
   "name": "python3"
  },
  "language_info": {
   "codemirror_mode": {
    "name": "ipython",
    "version": 3
   },
   "file_extension": ".py",
   "mimetype": "text/x-python",
   "name": "python",
   "nbconvert_exporter": "python",
   "pygments_lexer": "ipython3",
   "version": "3.7.4"
  }
 },
 "nbformat": 4,
 "nbformat_minor": 2
}
