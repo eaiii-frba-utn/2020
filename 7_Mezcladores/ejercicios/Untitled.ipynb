{
 "cells": [
  {
   "cell_type": "code",
   "execution_count": 1,
   "metadata": {},
   "outputs": [],
   "source": [
    "import numpy as np\n",
    "import matplotlib.pyplot as plt\n",
    "import scipy                  # http://scipy.org/\n",
    "from scipy import signal\n",
    "\n",
    "from IPython.display import Image  \n",
    "%matplotlib inline\n",
    "params = {'legend.fontsize': 24,\n",
    "          'figure.figsize': (8, 8),\n",
    "         'axes.labelsize': 24,\n",
    "         'axes.titlesize': 24,\n",
    "         'xtick.labelsize':24,\n",
    "         'ytick.labelsize':24}\n",
    "plt.rcParams.update(params) \n",
    "\n",
    "from sympy import symbols, Eq, exp, solve"
   ]
  },
  {
   "cell_type": "code",
   "execution_count": 6,
   "metadata": {},
   "outputs": [
    {
     "name": "stdout",
     "output_type": "stream",
     "text": [
      "1.38375978613983\n"
     ]
    }
   ],
   "source": [
    "VD = 0.7\n",
    "Rs = 0.5\n",
    "n  = 1\n",
    "vt = 25e-3\n",
    "\n",
    "x = symbols('x')\n",
    "sol = solve(Eq(exp( (VD - x*Rs)/(n*vt)), x))\n",
    "print(sol[0])"
   ]
  },
  {
   "cell_type": "code",
   "execution_count": null,
   "metadata": {},
   "outputs": [],
   "source": [
    "## Ejemplo, transferencia de diodo\n",
    "\n",
    "\n",
    "diode            = {} \n",
    "diode['1N4148'] =  [2.52e-9,1.72,0.56] #Is,n,Rs\n",
    "diode['1N5817'] =  [  31e-6,1.37,0.50] #Is,n,Rs\n",
    "\n",
    "\n",
    "def IDT(VD,diode = [10e-9,1,0], vt = 25e-3):\n",
    "    IS  = diode[0]\n",
    "    n   = diode[1]\n",
    "    Rs  = diode[2]\n",
    "\n",
    "    sol = solve(Eq(exp( (VD - x*Rs)/(n*vt)), x))\n",
    "\n",
    "    return sol[0]\n",
    "\n",
    "vgo  = np.arange(0.5,0.8,0.1)\n",
    "\n",
    "ido = [IDT(vg,diode['1N4148']) for vg in vgo]\n",
    "\n",
    "idso = [IDT(vg,diode['1N5817']) for vg in vgo]\n",
    "\n"
   ]
  },
  {
   "cell_type": "code",
   "execution_count": null,
   "metadata": {},
   "outputs": [],
   "source": []
  }
 ],
 "metadata": {
  "kernelspec": {
   "display_name": "Python 3",
   "language": "python",
   "name": "python3"
  },
  "language_info": {
   "codemirror_mode": {
    "name": "ipython",
    "version": 3
   },
   "file_extension": ".py",
   "mimetype": "text/x-python",
   "name": "python",
   "nbconvert_exporter": "python",
   "pygments_lexer": "ipython3",
   "version": "3.8.3"
  }
 },
 "nbformat": 4,
 "nbformat_minor": 4
}
