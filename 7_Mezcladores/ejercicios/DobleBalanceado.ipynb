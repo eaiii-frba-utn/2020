{
 "cells": [
  {
   "cell_type": "markdown",
   "metadata": {},
   "source": [
    "# Doble balanceado\n",
    "\n",
    "Esta simulación es de un mezclador doblemente balanceado de anillo de diodos acoplado a un transformador como el Mini-Circuitos SBL-1. Los transformadores están hechos con inductores, parte LTspice 'ind2'. Los valores de los inductores no son críticos, pero dependen del rango de frecuencia del mezclador.  Se conectan dos transformadores ideales como se muestra en el siguiente diagrama.  \n",
    "\n",
    "![5-cuatrocientos](fig/mezclador_doblebalanceado.png)\n",
    "\n",
    "\n",
    "\n",
    "Los inductores L1, L2 y L3 se ajustan a $10\\mu Hy$ cada uno con un coeficiente de acoplamiento de unidad.  \n",
    "Están configurados como un transformador con un secundario central.  Observe los marcadores de fase (pequeños círculos). \n",
    "De manera similar, los inductores L4, L5 y L6 están configurados en 10μH cada uno con un coeficiente de acoplamiento de unidad.  \n",
    "Los coeficientes de acoplamiento se especifican usando una directiva de SPICE.  \n",
    "Seleccione 'SPICE Directive' en el menú 'Edit'.  \n",
    "\n",
    "Introduce 'K1 L1 L2 L3'.  \n",
    "Esta es la abreviatura que especifica que el acoplamiento mutuo entre los 3 inductores es unidad.  \n",
    "De manera similar, crea una \"Directiva SPICE\" para L4, L5 y L6. \n",
    "Introduce \"K2 L4 L5 L6\". Obtén los diodos Schottky seleccionando la parte \"Schottky\".  \n",
    "Haga clic con el botón derecho del ratón en el símbolo de la pieza para especificar un número de pieza en particular, como el 1N5818 utilizado en este ejemplo.\n",
    "\n",
    "La tensión source V1 es la entrada de RF.  Está configurada a $3.5MHz$ y $50mV$.  \n",
    "\n",
    "VLO es el oscilador local.  Está configurada a $4,0MHz$ y $3V$.  \n",
    "\n",
    "La frecuencia de salida de IF se desarrolla a través de R3.  \n",
    "\n",
    "Son posibles cuatro frecuencias: la frecuencia RF, la frecuencia del oscilador local, la frecuencia sumaria y la frecuencia diferencial.  \n",
    "\n",
    "Las frecuencias RF y LO están altamente atenuadas ya que son balanceadas por este mezclador.  \n",
    "\n",
    "Sólo las frecuencias suma ($7,5MHz$) y diferencia ($0,5MHz$) tendrán una amplitud significativa\n",
    "\n",
    "L7 y C1 resuenan a $500KHz$. Se realiza una simulación transitoria para $10\\mu S$.  \n",
    "\n",
    "El gráfico muestra la salida a través de R3(IF) y a través del circuito resonante.  \n",
    "\n",
    "![5-cuatrocientos](fig/mezclador_doblebalanceado_signal.png)\n",
    "\n",
    "Ejercicios. \n",
    "\n",
    "1. Cambie el tiempo de simulación a $100\\mu S$ para mostrar que la forma de onda filtrada alcanza una amplitud de estado estable de unos $14mV$ en aproximadamente $60\\mu S$.\n",
    "\n",
    "2. Mida la amplitud de RF en el primario del transformador y calcule la pérdida de señal en la salida filtrada (pin 1 a $IFF =6dB$).\n",
    "\n",
    "3. Cambie la frecuencia de resonancia del filtro a $7.5MHz$ ($L = 1\\mu$, $C = 450pF$).  \n",
    "\n",
    "4. Mida la amplitud de RF en la entrada del transformador y la filtrada en IFF.\n",
    "\n",
    "4. Calcule la pérdida de señal entre la clavija 1 y el IFF.\n",
    "\n",
    "5. Cambie la frecuencia de resonancia del filtro a $4MHz$ ($C =1.06nF$, $L = 1.5\\mu H$).Mida la atenuación de la señal LO.\n",
    "\n",
    "6. Frecuencia resonante del filtro a $3.5 MHz$ ($C = 1.03nF$, $L = 2 \\mu H$)Medir la atenuación de la señal de RF entre el pin1 e IFF.\n",
    "\n",
    "\n"
   ]
  },
  {
   "cell_type": "code",
   "execution_count": null,
   "metadata": {},
   "outputs": [],
   "source": []
  }
 ],
 "metadata": {
  "kernelspec": {
   "display_name": "Python 3",
   "language": "python",
   "name": "python3"
  },
  "language_info": {
   "codemirror_mode": {
    "name": "ipython",
    "version": 3
   },
   "file_extension": ".py",
   "mimetype": "text/x-python",
   "name": "python",
   "nbconvert_exporter": "python",
   "pygments_lexer": "ipython3",
   "version": "3.7.0"
  }
 },
 "nbformat": 4,
 "nbformat_minor": 2
}
