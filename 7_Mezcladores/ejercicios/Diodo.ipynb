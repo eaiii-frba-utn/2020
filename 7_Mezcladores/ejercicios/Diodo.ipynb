{
 "cells": [
  {
   "cell_type": "code",
   "execution_count": 1,
   "metadata": {},
   "outputs": [],
   "source": [
    "import numpy as np\n",
    "import matplotlib.pyplot as plt\n",
    "import scipy                  # http://scipy.org/\n",
    "from scipy import signal\n",
    "\n",
    "from IPython.display import Image  \n",
    "%matplotlib inline\n",
    "params = {'legend.fontsize': 24,\n",
    "          'figure.figsize': (8, 8),\n",
    "         'axes.labelsize': 24,\n",
    "         'axes.titlesize': 24,\n",
    "         'xtick.labelsize':24,\n",
    "         'ytick.labelsize':24}\n",
    "plt.rcParams.update(params) \n",
    "\n",
    "from scipy.optimize  import fsolve, root"
   ]
  },
  {
   "cell_type": "code",
   "execution_count": 7,
   "metadata": {},
   "outputs": [],
   "source": [
    "## Ejemplo, transferencia de diodo\n",
    "\n",
    "\n",
    "mydiode            = {} \n",
    "mydiode['1N4148'] =  [2.52e-9,1.72,0.56,25e-3] #Is,n,Rs\n",
    "mydiode['1N5817'] =  (  31e-6,1.37,0.50,25e-3) #Is,n,Rs\n",
    "\n",
    "\n",
    "def IDT(x, *data):\n",
    "    VD,diode = data\n",
    "    IS = diode[0]\n",
    "    n  = diode[1]\n",
    "    Rs = diode[2]\n",
    "    vt = diode[3]\n",
    "    return IS* np.exp((VD - x*Rs)/(n*vt))- x\n",
    "\n",
    "vgo = np.arange(0,1.2,0.01)\n",
    "\n",
    "ido = [ fsolve( IDT, [0.1], args=(vg,mydiode['1N5817']))[0] for vg in vgo]\n",
    "\n",
    "\n"
   ]
  },
  {
   "cell_type": "code",
   "execution_count": 9,
   "metadata": {},
   "outputs": [
    {
     "data": {
      "image/png": "[encoded data removed]",
      "text/plain": [
       "<Figure size 432x288 with 1 Axes>"
      ]
     },
     "metadata": {
      "needs_background": "light"
     },
     "output_type": "display_data"
    }
   ],
   "source": [
    "plt.semilogy(vgo, ido)\n",
    "plt.ylabel('$i_{o}$ [A]')\n",
    "plt.xlabel('$v_g$[V]')\n",
    "#plt.ylim(0, Ic*1.5)\n",
    "plt.grid()\n",
    "plt.show()\n"
   ]
  },
  {
   "cell_type": "code",
   "execution_count": null,
   "metadata": {},
   "outputs": [],
   "source": []
  }
 ],
 "metadata": {
  "kernelspec": {
   "display_name": "Python 3",
   "language": "python",
   "name": "python3"
  },
  "language_info": {
   "codemirror_mode": {
    "name": "ipython",
    "version": 3
   },
   "file_extension": ".py",
   "mimetype": "text/x-python",
   "name": "python",
   "nbconvert_exporter": "python",
   "pygments_lexer": "ipython3",
   "version": "3.7.0"
  }
 },
 "nbformat": 4,
 "nbformat_minor": 4
}
