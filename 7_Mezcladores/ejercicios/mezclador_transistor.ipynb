{
 "cells": [
  {
   "cell_type": "markdown",
   "metadata": {},
   "source": [
    "# Mezclador bipolar\n",
    "\n",
    "El transistor bipolar responde a la ecuación: \n",
    "\n",
    "$I_c = I_s (e^{\\frac{V_{be}}{v_t}})$ \n",
    "\n",
    "\n",
    "siendo $I_s= 1pA$ y $v_t= 26 mV$  para $V_{be}$ positivos y $I_c= 0$ para $V_{be}$ negativos\n",
    "\n",
    "\n",
    "![5-cuatrocientos](fig/mez_transistor.PNG)\n",
    "\n",
    "\n",
    "\n",
    "Todos los elementos reactivos tienen Qo= infinito.\n",
    "\n",
    "Los 3 tanques son magnéticamente independientes  ($M=0$ entre todas las bobinas).\n",
    "\n",
    "El tanque (1) está sintonizado a $f_c$ y opera con el $Q$ necesario como para que en la base aparezca solamente Vin.\n",
    "\n",
    "El tanque (2) está sintonizado a fol y opera con el Q necesario como para que en el emisor aparezca solamente Vol.\n",
    "\n",
    "El tanque (3) está sintonizado a 1 Mhz y trabaja con Q= 10.\n",
    "\n",
    "\n",
    "Medido sobre la base: $V_{in}= 10 \\mu V cos(\\omega_c t)$\t\n",
    "\n",
    "Siendo $f_c= 10 MHz$.\n",
    "\n",
    "Medido sobre el  emisor:  $V_{ol}= 0,3 V cos(\\omega_{ol} t)$\t\t\n",
    "\n",
    "Siendo $f_{ol} = 9MHz$.\n",
    "\n",
    "$V_{pol}= 0,3 Vdc$.\n",
    "\n",
    "Si se utiliza el método de integración por trapecios se considerará válido tomar los ángulos cada 15 grados.\n",
    "\n",
    "\n",
    "Determinar:\n",
    "\n",
    "\n",
    "1. Potencia desarrollada sobre RL en $f=  1 MHz$.\n",
    "2. Potencia desarrollada sobre RL en $f=  9 MHz$. \n",
    "3. Potencia desarrollada sobre RL en $f= 10 MHz$.\n",
    "4. Potencia desarrollada sobre RL en $f= 18 MHz$. \n",
    "5. Idem 4 con $V_{pol} = 0 V$ y $V_{ol}= 0,6 V_{pico}$  \n",
    "6. Se cambia el tono único en Vin por una señal bitonal de frecuencias $f_{c1}=10 MHz$ y $f_{c2}=10001KHz$ y nivel tal que producen sobre Id productos de intermodulación de 3 y 5 órden. \n",
    "Indicar las frecuencias de todas las componentes que aparecen  a la salida entre $990 KHz$ y $1010 KHz$\n"
   ]
  },
  {
   "cell_type": "code",
   "execution_count": null,
   "metadata": {},
   "outputs": [],
   "source": []
  },
  {
   "cell_type": "code",
   "execution_count": 15,
   "metadata": {},
   "outputs": [],
   "source": [
    "import numpy as np\n",
    "import matplotlib.pyplot as plt\n",
    "import scipy                  # http://scipy.org/\n",
    "from scipy import signal\n",
    "\n",
    "from IPython.display import Image  \n",
    "%matplotlib inline\n",
    "params = {'legend.fontsize': 24,\n",
    "          'figure.figsize': (8, 8),\n",
    "         'axes.labelsize': 24,\n",
    "         'axes.titlesize': 24,\n",
    "         'xtick.labelsize':24,\n",
    "         'ytick.labelsize':24}\n",
    "plt.rcParams.update(params) \n",
    "\n",
    "import math"
   ]
  },
  {
   "cell_type": "code",
   "execution_count": 19,
   "metadata": {},
   "outputs": [
    {
     "data": {
      "image/png": "[encoded data removed]",
      "text/plain": [
       "<Figure size 576x576 with 1 Axes>"
      ]
     },
     "metadata": {
      "needs_background": "light"
     },
     "output_type": "display_data"
    }
   ],
   "source": [
    "def myexp(x):\n",
    "    e=0\n",
    "    for i in range(0,30): #Sum the first 100 terms of the series\n",
    "        e=e+(x**i)/math.factorial(i)\n",
    "    return e\n",
    "\n",
    "\n",
    "def IcTS(x,Is, vt=26e-3): # Calculado en 0\n",
    "    v = x/vt\n",
    "    return Is*myexp(v)\n",
    "\n",
    "\n",
    "\n",
    "\n",
    "def Icc(x, Is, vt=26e-3):\n",
    "    v = x/vt\n",
    "    return Is*np.exp(v)\n",
    "\n",
    "\n",
    "Is  = 1e-12\n",
    "vbe = np.arange(0.3,0.9,0.01)\n",
    "\n",
    "ico  = Icc(vbe,Is)\n",
    "\n",
    "ictso  = IcTS(vbe,Is)\n",
    "\n",
    "\n",
    "\n",
    "plt.plot(vbe, ictso, 'bo')\n",
    "plt.plot(vbe, ico)\n",
    "\n",
    "plt.ylabel('$i_{o}$ [A]')\n",
    "plt.xlabel('$v_g$[V]')\n",
    "plt.ylim(0, 1.5)\n",
    "plt.grid()\n",
    "plt.show()\n",
    "\n",
    "    "
   ]
  },
  {
   "cell_type": "code",
   "execution_count": null,
   "metadata": {},
   "outputs": [],
   "source": []
  }
 ],
 "metadata": {
  "kernelspec": {
   "display_name": "Python 3",
   "language": "python",
   "name": "python3"
  },
  "language_info": {
   "codemirror_mode": {
    "name": "ipython",
    "version": 3
   },
   "file_extension": ".py",
   "mimetype": "text/x-python",
   "name": "python",
   "nbconvert_exporter": "python",
   "pygments_lexer": "ipython3",
   "version": "3.7.0"
  }
 },
 "nbformat": 4,
 "nbformat_minor": 2
}
