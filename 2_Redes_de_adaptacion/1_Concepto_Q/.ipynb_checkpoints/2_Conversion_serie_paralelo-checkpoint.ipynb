{
 "cells": [
  {
   "cell_type": "markdown",
   "metadata": {},
   "source": [
    "# Conversion serie paralelo\n",
    "<img src=\"fig/paraserie.png\">\n",
    "\n",
    "\n",
    "En un circuito RLC paralelo, la impedancia de entrada se calcula como:\n",
    "\n",
    "$$ \\frac{1}{ Z_p}  = \\frac{1}{R_p}   + \\frac{1}{j \\cdot X_p} $$\n",
    "\n",
    "$$ \\frac{1}{ Z_p}  = \\frac{R_p + j \\cdot X_p }{R_p \\cdot j \\cdot X_p }  $$\n",
    "\n",
    "$$ Z_p  =  \\frac{R_p \\cdot j \\cdot X_p }{R_p + j \\cdot X_p } \\cdot \\frac{R_p - j \\cdot X_p }{R_p - j \\cdot X_p }  $$\n",
    "\n",
    "$$ Z_p  =  \\frac{R_p \\cdot j \\cdot X_p \\cdot (R_p - j \\cdot X_p) }{(R_p^2 +  X_p^2 ) } $$\n",
    "\n",
    "$$ Z_p  =  \\frac{( R_p \\cdot X_p^2 ) + j \\cdot ( R_p^2 \\cdot X_p) }{(R_p^2 +   X_p^2) } $$\n",
    "\n",
    "$$ Z_p  =  \\frac{( R_p \\cdot X_p^2 ) }{(R_p^2 +   X_p^2) } + j \\cdot \\frac{ ( R_p^2 \\cdot X_p) }{(R_p^2 +   X_p^2)} $$\n",
    "\n",
    "\n",
    "$$ Z_p  =  \\frac{( R_p \\cdot (\\frac{R_p}{Q_o})^2 ) }{(R_p^2 +   (\\frac{R_p}{Q_o})^2) } + j \\cdot \\frac{ ( R_p^2 \\cdot X_p) }{(R_p^2 +   (\\frac{R_p}{Q_o})^2)}$$\n",
    "\n",
    "En un circuito RLC serie, la impedancia de entrada se calcula como:\n",
    "\n",
    "$$  Z_s  = R_s   + j \\cdot X_s $$\n",
    "\n",
    "#### Entonces, en resonancia, igualando la parte real de la impedancia :\n",
    "\n",
    "$$  R_s = \\frac{( R_p \\cdot X_p^2 ) }{(R_p^2 +   X_p^2) } $$\n",
    "\n",
    "En resonancia, $Q_o = \\frac{R}{X_p} $, entonces $X_p = \\frac{R}{Q_o} $. Remplazando resulta:\n",
    "\n",
    "$$  R_s = \\frac{( R_p \\cdot (\\frac{R_p}{Q_o})^2 ) }{(R_p^2 +   (\\frac{R_p}{Q_o})^2) } $$\n",
    "\n",
    "Sacando $ R_p^2 $ como factor comun y simplificando resulta:\n",
    "\n",
    "$$  R_s = \\frac{ R_p \\cdot (\\frac{1}{Q_o^2})  }{(1 +   (\\frac{1}{Q_o^2})) } = \\frac{ R_p }{(1 +   Q_o^2) } $$\n",
    "\n",
    "\n",
    "#### Entonces, en resonancia, igualando la parte imaginaria de la impedancia :\n",
    "\n",
    "$$  X_s = \\frac{ ( R_p^2 \\cdot X_p) }{(R_p^2 +   (\\frac{R_p}{Q_o})^2)} $$\n",
    "\n",
    "$$  X_s = \\frac{ X_p }{(1 +   \\frac{1}{Q_o^2})} $$"
   ]
  },
  {
   "cell_type": "code",
   "execution_count": null,
   "metadata": {},
   "outputs": [],
   "source": []
  }
 ],
 "metadata": {
  "kernelspec": {
   "display_name": "Python 3",
   "language": "python",
   "name": "python3"
  },
  "language_info": {
   "codemirror_mode": {
    "name": "ipython",
    "version": 3
   },
   "file_extension": ".py",
   "mimetype": "text/x-python",
   "name": "python",
   "nbconvert_exporter": "python",
   "pygments_lexer": "ipython3",
   "version": "3.7.0"
  }
 },
 "nbformat": 4,
 "nbformat_minor": 2
}
