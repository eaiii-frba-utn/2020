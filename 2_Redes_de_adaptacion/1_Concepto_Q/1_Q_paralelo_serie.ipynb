{
 "cells": [
  {
   "cell_type": "markdown",
   "metadata": {},
   "source": [
    "# Circuito RLC paralelo.\n",
    "\n",
    "\n",
    "<img src=\"fig/RLCpara.png\">\n",
    "\n",
    "En un circuito  RLC paralelo en resonancia $$w_o  = \\frac{1}{ \\sqrt{LC} } $$, \n",
    "\n",
    "el $Q_o$ se calcula como:\n",
    "\n",
    "$$ Q_o = \\frac{Pot_{reactiva}}{ Pot_{activa}} = \\frac{ \\frac{v_g^2}{w_o \\cdot L} }{ \\frac{v_g^2}{R} } = \\frac{R}{w_o \\cdot L} $$\n",
    "\n",
    "\n",
    "$$ Q_o = \\frac{Pot_{reactiva}}{ Pot_{activa}} =  \\frac{v_g^2 \\cdot w_o \\cdot C }{ \\frac{v_g^2}{R} } = R \\cdot w_o \\cdot C $$"
   ]
  },
  {
   "cell_type": "markdown",
   "metadata": {},
   "source": [
    "## $Q_o $ ($Q$ libre) y  $Q_c $ ($Q$ cargado) en circuitos RLC paralelos.\n",
    "\n",
    "El $ Q_o $ (libre) de un inductor para el modelo paralelo, dada una resistencia de perdida $r_p$ se calcula como:\n",
    "\n",
    "$$ Q_o =  \\frac{r_p}{w_o \\cdot L} $$\n",
    "\n",
    "El $ Q_c $ (cargado) de un inductor para el modelo paralelo, dada una resistencia total $\\frac{1}{r} = \\frac{1}{r_p} + \\frac{1}{R}  $ se calcula como:\n",
    "\n",
    "$$ Q_c =  \\frac{r}{w_o \\cdot L} $$\n",
    "\n",
    "Entonces, remplazando $ r $:\n",
    "\n",
    "$$ \\frac{1}{Q_c} = \\frac{w_o \\cdot L}{r} = \\frac{w_o \\cdot L}{r_p} + \\frac{w_o \\cdot L}{R}   $$\n",
    "\n",
    "$$ \\frac{1}{Q_c} =  \\frac{1}{Q_o} + \\frac{w_o \\cdot L}{R}   $$"
   ]
  },
  {
   "cell_type": "markdown",
   "metadata": {},
   "source": [
    "## Circuito RLC serie.\n",
    "\n",
    "\n",
    "<img src=\"fig/RLCserie.png\">\n",
    "\n",
    "En un circuito  RLC serie en resonancia, $$w_o  = \\frac{1}{ \\sqrt{LC} } $$, \n",
    "\n",
    "el $Q_o$ se calcula como:\n",
    "\n",
    "$$ Q_o = \\frac{Pot_{reactiva}}{ Pot_{activa}} = \\frac{ \\frac{i_g^2}{w_o \\cdot C} }{i_g^2 \\cdot R } = \\frac{1}{R \\cdot w_o \\cdot C} $$\n",
    "\n",
    "\n",
    "$$ Q_o = \\frac{Pot_{reactiva}}{ Pot_{activa}} =  \\frac{i_g^2 \\cdot w_o \\cdot L }{ i_g^2 \\cdot R } = \\frac{w_o \\cdot L}{R } $$"
   ]
  },
  {
   "cell_type": "markdown",
   "metadata": {},
   "source": [
    "## $Q_o $ ($Q$ libre) y  $Q_c $ ($Q$ cargado) en circuitos RLC serie.\n",
    "\n",
    "El $ Q_o $ (libre) de un inductor para el modelo paralelo, dada una resistencia de perdida $r_s$ se calcula como:\n",
    "\n",
    "$$ Q_o =  \\frac{w_o \\cdot L}{r_s} $$\n",
    "\n",
    "El $ Q_c $ (cargado) de un inductor para el modelo paralelo, dada una resistencia total $r = r_s + R  $ se calcula como:\n",
    "\n",
    "$$ Q_c =  \\frac{w_o \\cdot L}{r} $$\n",
    "\n",
    "Entonces, remplazando $ r $:\n",
    "\n",
    "$$ \\frac{1}{Q_c} = \\frac{r}{w_o \\cdot L} = \\frac{r_s}{w_o \\cdot L} + \\frac{R}{w_o \\cdot L}   $$\n",
    "\n",
    "$$ \\frac{1}{Q_c} =  \\frac{1}{Q_o} + \\frac{R}{w_o \\cdot L}   $$"
   ]
  },
  {
   "cell_type": "code",
   "execution_count": null,
   "metadata": {},
   "outputs": [],
   "source": []
  }
 ],
 "metadata": {
  "kernelspec": {
   "display_name": "Python 3",
   "language": "python",
   "name": "python3"
  },
  "language_info": {
   "codemirror_mode": {
    "name": "ipython",
    "version": 3
   },
   "file_extension": ".py",
   "mimetype": "text/x-python",
   "name": "python",
   "nbconvert_exporter": "python",
   "pygments_lexer": "ipython3",
   "version": "3.7.4"
  }
 },
 "nbformat": 4,
 "nbformat_minor": 2
}
