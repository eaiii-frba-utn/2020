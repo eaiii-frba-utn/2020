{
 "cells": [
  {
   "cell_type": "code",
   "execution_count": 1,
   "metadata": {},
   "outputs": [
    {
     "data": {
      "text/html": [
       "<style>\n",
       "img[alt$=quinientos] {\n",
       "    width: 500px;\n",
       "}\n",
       "\n",
       "img[alt$=cuatrocientos] {\n",
       "    width: 400px;\n",
       "}\n",
       "</style>\n"
      ],
      "text/plain": [
       "<IPython.core.display.HTML object>"
      ]
     },
     "metadata": {},
     "output_type": "display_data"
    }
   ],
   "source": [
    "%%html\n",
    "<style>\n",
    "img[alt$=quinientos] {\n",
    "    width: 500px;\n",
    "}\n",
    "\n",
    "img[alt$=cuatrocientos] {\n",
    "    width: 400px;\n",
    "}\n",
    "</style>"
   ]
  },
  {
   "cell_type": "markdown",
   "metadata": {},
   "source": [
    "# Simulación de circuitos empleando LTSpice\n",
    "\n",
    "## Componentes\n",
    "\n",
    "### Transformadores\n",
    "\n",
    "LTspice simula el transformador utilizando valores de componentes individuales, en este caso, la inductancia de los inductores individuales, no la relación de espiras del transformador. \n",
    "Los indutores se calculan en función de las relaciones de vuelta como:\n",
    "\n",
    "$$\\frac{L_s}{L_p} = (\\frac{N_s}{N_p})^2$$\n",
    "\n",
    "Ajuste las posiciones del inductor para que coincidan con la polaridad del transformador utilizando los comandos mover (F7), rotar (Ctrl + R) y espejo (Ctrl + E). Agregar la declaración K muestra el punto de fase de los inductores incluidos.\n",
    "\n",
    "\n",
    "Colocar un inductor para cada devanado del transformador.\n",
    "\n",
    "Combínelos usando una sola instrucció de inductancia mutua (K) a través de una directiva SPICE:\n",
    "\n",
    "    K1 L1 L2 1\n",
    "\n",
    "La última entrada en la declaración K es el coeficiente de acoplamiento, que puede variar entre 0 y 1, donde 1 representa sin inductancia de fuga. \n",
    "\n",
    "Para circuitos prácticos, se recomienda comenzar con un coeficiente de acoplamiento de 1. Solo se necesita una sola declaración K por transformador.\n",
    "\n",
    "\n",
    "\n",
    "\n",
    "### Transformadores con varias salidas\n",
    "\n",
    "LTspice aplica un coeficiente de acoplamiento único a todos los inductores dentro de un transformador. Lo siguiente es equivalente a la declaración de los acoplamientos de cada inductor en el transformador de tres bobinados:\n",
    "\n",
    "    K1 L1 L2 1\n",
    "    K2 L2 L3 1\n",
    "    K3 L1 L3 1\n",
    "\n",
    "\n",
    "\n",
    "\n",
    "**Transitores a partir de parametros Y.**\n",
    "\n",
    "##\n"
   ]
  },
  {
   "cell_type": "code",
   "execution_count": null,
   "metadata": {},
   "outputs": [],
   "source": []
  }
 ],
 "metadata": {
  "celltoolbar": "Edit Metadata",
  "kernelspec": {
   "display_name": "Python 3",
   "language": "python",
   "name": "python3"
  },
  "language_info": {
   "codemirror_mode": {
    "name": "ipython",
    "version": 3
   },
   "file_extension": ".py",
   "mimetype": "text/x-python",
   "name": "python",
   "nbconvert_exporter": "python",
   "pygments_lexer": "ipython3",
   "version": "3.7.0"
  }
 },
 "nbformat": 4,
 "nbformat_minor": 2
}
