{
 "cells": [
  {
   "cell_type": "markdown",
   "metadata": {},
   "source": [
    "\n",
    "# Circuito simple sintonizado\n",
    "\n",
    "## Transferencia de tensión\n",
    "\n",
    "Del circuito simplificado de un simple sintonizado \n",
    "\n",
    "<img src=\"fig/simplesintonizado.png\">\n",
    "\n",
    "La tensión sobre el nodo de salida $v_o$ se puede expresar como:\n",
    "\n",
    "\n",
    "$$v_o = - g_m \\cdot v_i \\frac{1}{\\frac{1}{S L} + \\frac{1}{R} + S C}$$\n",
    "\n",
    "\n",
    "A partir de la ecuación es posible expresar la transferencia de tensión del circuito propuesto,\n",
    "\n",
    "$$A_v = - \\frac{g_m}{SC} \\frac{1}{\\frac{1}{S^2 C L} + \\frac{1}{SCR} + 1}$$\n",
    "\n",
    "Operando, \n",
    "\n",
    "$$A_v = - \\frac{g_m}{C} \\frac{S}{S^2 + \\frac{S}{CR} + \\frac{1}{C L}}$$\n",
    "\n",
    "Donde podemos remplazar los siguiente terminos:\n",
    "\n",
    "$$\\omega_o^2 = \\frac{1}{LC}$$ \n",
    "\n",
    "$$Q = \\omega_o C R$$\n",
    "\n",
    "$$A_v = - \\frac{g_m \\omega_o R}{Q} \\frac{S}{S^2 + \\frac{S \\omega_o}{Q} + \\omega_o^2}$$\n",
    "\n"
   ]
  },
  {
   "cell_type": "code",
   "execution_count": 1,
   "metadata": {},
   "outputs": [],
   "source": [
    "# Libreria para el procesamiento de datos\n",
    "import numpy as np\n",
    "\n",
    "# Librerias para realizar los graficos\n",
    "import matplotlib.pyplot as plt\n",
    "\n",
    "# Libreria para realizar diagramas de polos y zeros \n",
    "import scipy.signal as signal\n",
    "\n"
   ]
  },
  {
   "cell_type": "code",
   "execution_count": 3,
   "metadata": {},
   "outputs": [
    {
     "data": {
      "image/png": "[encoded data removed]",
      "text/plain": [
       "<Figure size 576x576 with 2 Axes>"
      ]
     },
     "metadata": {
      "needs_background": "light"
     },
     "output_type": "display_data"
    }
   ],
   "source": [
    "# Dado valores a wo y el Q del circuito\n",
    "wo=1000;\n",
    "Q=10;\n",
    "\n",
    "# Transferencia en wo\n",
    "gmR=1; # gmR\n",
    "\n",
    "# Valores del denominador y numerador de la ganancia de tensión\n",
    "#H($) =  $ (Gvo*wo/Q) / ($**2+$wo/Q+1) \n",
    "num=[  gmR*wo/Q, 0    ];   \n",
    "den=[ 1, wo/Q  , wo**2];\n",
    "\n",
    "# Transferencia\n",
    "sys1 = signal.lti(num,den); \n",
    "\n",
    "# bode de la transferencia\n",
    "\n",
    "# Defino los valores de w para graficar\n",
    "w = np.linspace(wo*0.1,wo*10,1e3)  \n",
    "#w, H = signal.freqresp(sys1, w)\n",
    "\n",
    "w, mag, phase = signal.bode(sys1,w) # Diagrama de bode: frecuencias, magnitud y fase\n",
    "\n",
    "# \n",
    "fig, (ax1, ax2) = plt.subplots(2, 1, figsize=(8, 8))\n",
    "\n",
    "\n",
    "ax1.semilogx(w, mag) # Eje x logarítmico\n",
    "ax1.grid()\n",
    "#ax1.set_xlim([5e2,5e3])\n",
    "#ax1.set_ylim([-25,0])\n",
    "ax2.semilogx(w, phase) # Eje x logarítmico\n",
    "ax2.grid()\n",
    "#ax2.set_xlim([5e2,5e3])\n",
    "\n",
    "plt.show()"
   ]
  },
  {
   "cell_type": "markdown",
   "metadata": {},
   "source": [
    "## Diagrama de polos y zeros\n",
    "\n",
    "Volviendo a la expresión\n",
    "\n",
    "$$A_v = - \\frac{g_m}{C} \\frac{S}{S^2 + \\frac{S}{CR} + \\frac{1}{C L}}$$\n",
    "\n",
    "\n",
    "La expresión puede ser rescrita como:\n",
    "\n",
    "$$A_v = - \\frac{g_m}{C} \\frac{S}{(S-p_1)(S-p_2)}$$\n",
    "\n",
    "\n",
    "Donde los polos: \n",
    "\n",
    "$$p_1 = -\\frac{1}{2RC} + \\sqrt[2]{\\frac{1}{4R^2C^2} - \\frac{1}{LC} }$$\n",
    "\n",
    "$$p_2 = -\\frac{1}{2RC} - \\sqrt[2]{\\frac{1}{4R^2C^2} - \\frac{1}{LC} }$$\n",
    "\n",
    "\n",
    "Donde podemos remplazar los siguiente terminos:\n",
    "\n",
    "$$\\omega_o^2 = \\frac{1}{LC}$$ \n",
    "\n",
    "$$Q = \\omega_o C R$$\n",
    "\n",
    "\n",
    "$$p_1 = -\\frac{\\omega_o }{2Q} + \\sqrt[2]{\\frac{\\omega_o^2}{4Q^2} - \\omega_o^2 }$$\n",
    "\n",
    "\n",
    "$$p_2 = -\\frac{\\omega_o }{2Q} - \\sqrt[2]{\\frac{\\omega_o^2}{4Q^2} - \\omega_o^2 }$$\n",
    "\n",
    "\n",
    "Factor comun $-\\omega_o^2$:\n",
    "\n",
    "\n",
    "$$p_1 = -\\frac{\\omega_o }{2Q} + j\\omega_o \\sqrt[2]{ 1 -\\frac{1}{4Q^2}}$$\n",
    "\n",
    "\n",
    "$$p_2 = -\\frac{\\omega_o }{2Q} - j\\omega_o \\sqrt[2]{ 1 -\\frac{1}{4Q^2}}$$\n",
    "\n",
    "\n",
    "\n",
    "\n",
    "Si $Q > 2$, podemos aproximar los polos a:\n",
    "\n",
    "\n",
    "$$p_1 = -\\frac{\\omega_o }{2Q} + j\\omega_o$$\n",
    "\n",
    "$$p_2 = -\\frac{\\omega_o }{2Q} - j\\omega_o$$\n",
    "\n",
    "Siendo entonces la ganancia de tensión:\n",
    "\n",
    "$$A_v = - \\frac{g_m}{C} \\frac{S}{(S+\\frac{\\omega_o }{2Q} + j\\omega_o)(S+\\frac{\\omega_o }{2Q} - j\\omega_o )}$$\n",
    "\n",
    "\n"
   ]
  },
  {
   "cell_type": "code",
   "execution_count": 16,
   "metadata": {},
   "outputs": [
    {
     "data": {
      "image/png": "[encoded data removed]",
      "text/plain": [
       "<Figure size 432x288 with 1 Axes>"
      ]
     },
     "metadata": {
      "needs_background": "light"
     },
     "output_type": "display_data"
    }
   ],
   "source": [
    "# Dado valores a wo y el Q del circuito\n",
    "wo=1000;\n",
    "Q=10;\n",
    "\n",
    "# Transferencia en wo\n",
    "gmR=1; # gmR\n",
    "\n",
    "# Valores del denominador y numerador de la ganancia de tensión\n",
    "#H($) =  $ (Gvo*wo/Q) / ($**2+$wo/Q+1) \n",
    "num=[  gmR*wo/Q, 0    ];   \n",
    "den=[ 1, wo/Q  , wo**2];\n",
    "\n",
    "# Transferencia\n",
    "sys1 = signal.lti(num,den); \n",
    "\n",
    "plt.figure()\n",
    "plt.plot(sys1.zeros.real, sys1.zeros.imag, 'o')\n",
    "plt.plot(sys1.poles.real, sys1.poles.imag, 'rx')\n",
    "plt.grid()\n",
    "plt.xlim([-60,1])\n",
    "plt.ylim([-1200,1200])\n",
    "plt.show()"
   ]
  },
  {
   "cell_type": "code",
   "execution_count": null,
   "metadata": {},
   "outputs": [],
   "source": []
  }
 ],
 "metadata": {
  "kernelspec": {
   "display_name": "Python 3",
   "language": "python",
   "name": "python3"
  },
  "language_info": {
   "codemirror_mode": {
    "name": "ipython",
    "version": 3
   },
   "file_extension": ".py",
   "mimetype": "text/x-python",
   "name": "python",
   "nbconvert_exporter": "python",
   "pygments_lexer": "ipython3",
   "version": "3.7.4"
  }
 },
 "nbformat": 4,
 "nbformat_minor": 2
}
