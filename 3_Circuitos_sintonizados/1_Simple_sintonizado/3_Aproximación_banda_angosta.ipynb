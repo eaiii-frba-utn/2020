{
 "cells": [
  {
   "cell_type": "markdown",
   "metadata": {},
   "source": [
    "## Aproximación de banda angosta\n",
    "\n",
    "\n",
    "\n",
    "\n",
    "$$A_v = - \\frac{g_m}{C} \\frac{S}{(S-p_1)(S-p_2)}$$\n",
    "\n",
    "$$A_v(\\omega_x) = - \\frac{g_m}{C} \\frac{S_o}{S_1 S_2}$$\n",
    "\n",
    "$$A_v = - \\frac{g_m}{C} \\frac{S}{(S+\\frac{\\omega_o }{2Q} + j\\omega_o)(S+\\frac{\\omega_o }{2Q} - j\\omega_o )}$$\n",
    "\n",
    "Aproximando: \n",
    "\n",
    "<img src=\"fig/aproximacion.png\">\n",
    "\n",
    "$$S_o \\sim  j\\omega_o$$\n",
    "\n",
    "$$S_1 = j\\omega + \\frac{\\omega_o }{2Q} + j\\omega_o$$\n",
    "\n",
    "$$S_2 \\sim  2j\\omega_o$$\n",
    "\n",
    "\n",
    "$$A_v = - \\frac{g_m}{C} \\frac{j\\omega_o}{(j\\omega+\\frac{\\omega_o }{2Q} + j\\omega_o^2)(j2\\omega_o)}$$\n",
    "\n",
    "$$A_v = - \\frac{g_m}{C} \\frac{1}{(j\\omega+\\frac{\\omega_o }{2Q} + j\\omega_o)(2)}$$\n",
    "\n",
    "$$A_v = - g_m R \\frac{1}{1 + j2Q \\frac{\\omega-\\omega_o }{\\omega_o}}$$\n",
    "\n",
    "$$A_v = - g_m R \\frac{1}{1 + j\\chi}$$\n",
    "\n",
    "$$\\chi(\\omega) = 2Q \\frac{\\omega-\\omega_o }{\\omega_o}$$\n",
    "\n",
    "$$|A_v| =   \\frac{g_m R}{\\sqrt[]{1 + \\chi^2}}$$\n",
    "\n",
    "\n",
    "$$|\\overline{A_v}| =   \\frac{1}{\\sqrt[]{1 + \\chi^2}}$$\n",
    "\n"
   ]
  },
  {
   "cell_type": "code",
   "execution_count": null,
   "metadata": {},
   "outputs": [],
   "source": []
  }
 ],
 "metadata": {
  "kernelspec": {
   "display_name": "Python 3",
   "language": "python",
   "name": "python3"
  },
  "language_info": {
   "codemirror_mode": {
    "name": "ipython",
    "version": 3
   },
   "file_extension": ".py",
   "mimetype": "text/x-python",
   "name": "python",
   "nbconvert_exporter": "python",
   "pygments_lexer": "ipython3",
   "version": "3.7.0"
  }
 },
 "nbformat": 4,
 "nbformat_minor": 2
}
