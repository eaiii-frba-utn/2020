{
 "cells": [
  {
   "cell_type": "markdown",
   "metadata": {},
   "source": [
    "# Transferencia de un circuito simple sintonizado\n",
    "\n",
    "$$A_v = - \\frac{g_m}{C} \\frac{S}{S^2 + \\frac{S\\omega_o}{Q} + \\omega_o^2}$$\n",
    "\n",
    "\n",
    "$$A_v = - \\frac{g_m}{C} \\frac{j\\omega}{(j\\omega)^2 + \\frac{(j\\omega)\\omega_o}{Q} + \\omega_o^2}$$\n",
    "\n",
    "\n",
    "$$A_v = - \\frac{g_m}{C} \\frac{\\omega}{ \\frac{\\omega\\omega_o}{Q} + j(\\omega^2 - \\omega_o^2) }$$\n",
    "\n",
    "\n",
    "$$A_v = - \\frac{g_m}{C\\omega_o} \\frac{Q}{ 1 + jQ(\\frac{\\omega^2 - \\omega_o^2}{\\omega\\omega_o}) }$$\n",
    "\n",
    "\n",
    "$$A_v = - \\frac{g_m}{C\\omega_o} \\frac{Q}{ 1 + jQ(\\frac{\\omega}{\\omega_o}-\\frac{ \\omega_o}{\\omega}) }$$\n",
    "\n",
    "$$A_v = -  \\frac{g_m R}{ 1 + jQ(\\frac{\\omega}{\\omega_o}-\\frac{ \\omega_o}{\\omega}) }$$\n",
    "\n",
    "$$|A_v| =   \\frac{g_m R}{ \\sqrt[2]{1 + Q^2(\\frac{\\omega}{\\omega_o}-\\frac{ \\omega_o}{\\omega})^2} }$$ \n",
    "\n",
    "\n",
    "\n",
    "$$|A_v| =   \\frac{g_m R}{ \\sqrt[2]{1 + Q^2(\\frac{\\omega}{\\omega_o}-\\frac{ \\omega_o}{\\omega})^2} }$$\n",
    "\n",
    "\n",
    "\n",
    "## Ancho de banda\n",
    "\n",
    "$$\\frac{g_m R}{ \\sqrt[2]{1 + Q^2(\\frac{\\omega_c}{\\omega_o}-\\frac{ \\omega_o}{\\omega_c})^2} } = \\frac{1}{\\sqrt[2]{2}}$$\n",
    "\n",
    "\n",
    "$$1 + Q^2(\\frac{\\omega_c}{\\omega_o}-\\frac{ \\omega_o}{\\omega_c})^2  = 2$$\n",
    "\n",
    "\n",
    "$$Q^2(\\frac{\\omega_c}{\\omega_o}-\\frac{ \\omega_o}{\\omega_c})^2  = 1$$\n",
    "\n",
    "$$Q(\\frac{\\omega_c}{\\omega_o}-\\frac{ \\omega_o}{\\omega_c})  = \\pm 1$$\n",
    "\n",
    "$$\\omega_c^2-\\omega_o^2   =\\pm \\frac{\\omega_o\\omega_c}{Q}$$\n",
    "\n",
    "$$\\omega_c^2    \\pm \\omega_c \\frac{\\omega_o}{Q} + \\omega_o^2 = 0$$\n",
    "\n",
    "$$\\omega_c = \\pm \\frac{\\omega_o}{2Q} \\pm \\sqrt[]{\\frac{\\omega_o^2}{4Q^2}- \\omega_o^2}$$\n",
    "\n",
    "$$\\omega_c = \\pm \\frac{\\omega_o}{2Q} \\pm \\omega_o \\sqrt[]{\\frac{1}{4Q^2}- 1}$$ \n",
    "\n",
    "\n",
    "Como tienen que ser frecuencias positivas:\n",
    "\n",
    "$$\\omega_{c_{i,s}} = \\omega_o \\sqrt[]{\\frac{1}{4Q^2}- 1} \\pm \\frac{\\omega_o}{2Q}$$ \n",
    "\n",
    "$$\\omega_{c_{i,s}} \\simeq \\omega_o  \\pm \\frac{\\omega_o}{2Q}$$ \n",
    "\n",
    "$$\\omega_{c_{i}} \\simeq \\omega_o  - \\frac{\\omega_o}{2Q}$$ \n",
    "\n",
    "$$\\omega_{c_{s}} \\simeq \\omega_o  - \\frac{\\omega_o}{2Q}$$ \n",
    "\n",
    "$$BW = \\omega_{c_{s}} -\\omega_{c_{i}} = \\frac{\\omega_o}{Q}$$"
   ]
  },
  {
   "cell_type": "markdown",
   "metadata": {},
   "source": [
    "## Simetria\n",
    "\n",
    "Para una atenuación dada:\n",
    "\n",
    "$$\\frac{g_m R}{ \\sqrt[2]{1 + Q^2(\\frac{\\omega_i}{\\omega_o}-\\frac{ \\omega_o}{\\omega_i})^2} } = \\frac{g_m R}{ \\sqrt[2]{1 + Q^2(\\frac{\\omega_s}{\\omega_o}-\\frac{ \\omega_o}{\\omega_s})^2} }$$ \n",
    "\n",
    "$$Q^2(\\frac{\\omega_i}{\\omega_o}-\\frac{ \\omega_o}{\\omega_i})^2  = Q^2(\\frac{\\omega_s}{\\omega_o}-\\frac{ \\omega_s}{\\omega_2})^2$$\n",
    "\n",
    "$$\\omega_1 \\omega_2  = \\omega_o^2$$\n",
    "\n",
    "Simetría geométrica."
   ]
  },
  {
   "cell_type": "markdown",
   "metadata": {},
   "source": [
    "\n",
    "\n"
   ]
  }
 ],
 "metadata": {
  "kernelspec": {
   "display_name": "Python 3",
   "language": "python",
   "name": "python3"
  },
  "language_info": {
   "codemirror_mode": {
    "name": "ipython",
    "version": 3
   },
   "file_extension": ".py",
   "mimetype": "text/x-python",
   "name": "python",
   "nbconvert_exporter": "python",
   "pygments_lexer": "ipython3",
   "version": "3.7.0"
  }
 },
 "nbformat": 4,
 "nbformat_minor": 2
}
