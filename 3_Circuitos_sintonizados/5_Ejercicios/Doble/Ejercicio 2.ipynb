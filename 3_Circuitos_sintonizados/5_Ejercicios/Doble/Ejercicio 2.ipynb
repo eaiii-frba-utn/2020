{
 "cells": [
  {
   "cell_type": "markdown",
   "metadata": {},
   "source": [
    "# Ejercicio 2\n",
    "<img src=\"fig/eje2a.png\" width=650>\n",
    "\n",
    "El receptor de la figura está sintonizado en 120MHz, recibiendo una portadora modulada en AM por un tono puro de 1 KHz y m= 50%.\n",
    " Con LL1 conectada al amplificador de audio, se recibe en el parlante un tono puro de 1 KHz con una relación señal a ruido SNR= 20 dB.\n",
    "\n",
    "\n",
    "<img src=\"fig/eje2b.png\" width=550>\n",
    "\n",
    "#### Mezcladores:  G= 0dB     NF= 3 dB\n",
    "\n",
    "#### Primer oscilador local: senoide pura de 109.3MHz\n",
    "\n",
    "#### Primera FI (Amplificador + filtro):  Dos  etapas dobles sintonizadas sincrónicas con acoplamiento crítico. G= 40 dB NF = 10dB\n",
    "\n",
    "#### Segundo OL: Senoide pura de 10.245MHz\n",
    "\n",
    "#### Segunda FI: 3 etapas Simple Sintonizadas en configuración Butterworth, con frecuencia central de 455KHz y ancho de banda 10KHz. G=40db NF=10dB\n",
    "\n",
    "Detector, filtro pos detección y amplificador de audio NF=0dB \n",
    "\n",
    "### DATOS DEL RECEPTOR\n",
    "\n",
    "#### Todas las interfaces están adaptadas a MTE\n",
    "\n",
    "#### Los canales adyacentes se encuentran a 50 KHZ por arriba y debajo de la portadora de 120 MHz.\n",
    "\n",
    "#### Una señal interferente en la frecuencia imagen, con una amplitud 20 dB por encima de la señal deseada (medida en \n",
    "bornes de antena), aparece a la entrada del detector 20 dB por debajo de la deseada.\n",
    "\n",
    "#### El receptor tiene una respuesta espuria en 119.09MHz con un rechazo de 60dB respecto de la portadora de 120MHZ.\n",
    "\n",
    "### Determinar\n",
    "\n",
    "1. Para la etapa de RF, el valor de los componentes de las redes de adaptación, siendo los datos del transistor: y11= (1+j0) mS; y22= (0.1+j0) mS; y21= (10+j0)mS; y12=0 \n",
    "2. Para la misma etapa la Ganancia de Trasducción.\n",
    "3. Q y h de los resonadores de Primera FI\n",
    "4. Q y frecuencia central de c/u de los resonadores de Segunda FI.\n",
    "5. Rechazo de Canal Adyacente\n",
    "6. Ancho de banda equivalente de ruido de la Segunda FI, suponiendo la aproximación hecha en la figura.\n",
    "7. NF del receptor\n",
    "8. Nivel de señal a la entrada del receptor\n",
    "9. Con el filtro de pos detección (brick wall de 1KHz)  conectado y con el nivel de señal del punto anterior, la relación señal a ruido en el parlante. \n"
   ]
  },
  {
   "cell_type": "code",
   "execution_count": null,
   "metadata": {},
   "outputs": [],
   "source": []
  }
 ],
 "metadata": {
  "kernelspec": {
   "display_name": "Python 3",
   "language": "python",
   "name": "python3"
  }
 },
 "nbformat": 4,
 "nbformat_minor": 2
}
