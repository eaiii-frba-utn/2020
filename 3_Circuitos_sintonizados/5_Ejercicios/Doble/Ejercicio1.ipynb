{
 "cells": [
  {
   "cell_type": "markdown",
   "metadata": {},
   "source": [
    "### Ejercicio 1\n",
    "\n",
    "<img src=\"fig/eje1.png\" width=550>\n",
    "\n",
    "El circuito de la figura opera en las siguientes condiciones:\n",
    "\n",
    "L1.C1=L2.C2  Donde C1es la capacidad total en paralelo con L1;  C1= C´1//C22\n",
    "\n",
    "Q1=Q2=Q   Donde Q1 corresponde al primario y Q2 al secundario del transformador\n",
    "\n",
    "La transferencia del circuito evaluada con la aproximación de banda angosta  es:\n",
    "\n",
    "$$\\frac{v_o}{v_i}=\\frac{j.gm.M.\\omega_o}{(1+j.(\\chi+h)).(1+j.(\\chi-h)) }$$\n",
    "\n",
    "Donde $h=k.Q$\n",
    "\n",
    "a) Para $\\chi = 0$ determinar el $k$ valor de que hace máximo al módulo de la transferencia      \n",
    "\n",
    "b) Sistema sobreacoplado: Encontrar el valor de h que en frecuencia central produce un pozo de 3dB  con respecto \n",
    "a los valores máximos de la transferencia \t\t\t     \n",
    "\n",
    "c) Sistema sobreacoplado: Con el valor de $h$ determinado en b) encontrar el nuevo ancho de banda del circuito en función de Q y fo"
   ]
  },
  {
   "cell_type": "code",
   "execution_count": null,
   "metadata": {},
   "outputs": [],
   "source": []
  }
 ],
 "metadata": {
  "kernelspec": {
   "display_name": "Python 3",
   "language": "python",
   "name": "python3"
  },
  "language_info": {
   "codemirror_mode": {
    "name": "ipython",
    "version": 3
   },
   "file_extension": ".py",
   "mimetype": "text/x-python",
   "name": "python",
   "nbconvert_exporter": "python",
   "pygments_lexer": "ipython3",
   "version": "3.7.4"
  }
 },
 "nbformat": 4,
 "nbformat_minor": 2
}
