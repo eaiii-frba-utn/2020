{
 "cells": [
  {
   "cell_type": "markdown",
   "metadata": {},
   "source": [
    "#### Circuito RF\n",
    "<img src=\"fig/RF.png\" width=450>\n",
    "\n",
    "El circuito de la figura corresponde a un amplificador de RF que opera a $F_o = 3\\,MHz$. Todos los Tanques estan adaptados a MTE Qcte. Los inductores son idénticos entre sí, presentan $Q_{oL} = 50$ y ambos están realizados con $N = 100$ espiras.\n",
    "\n",
    "El transistor posée los siguientes parámetros, que se mantienen constantes en la banda de interes.\n",
    "\n",
    "$Y_{11} = (1 + j0) mS$\t\n",
    "$Y_{22} = (0,1 + j0) mS$\n",
    "$Y_{12} = 0 mS$\n",
    "$Y_{21} = (0,05+j0.005) S$\n",
    "    \n",
    "\n",
    "Debido a que se desea realizar un ensayo del mismo, el amplificador es conectado a un generador con $z_g = 50 \\Omega$, que entrega una señal de tensión cuadrada simétrica sin componente de DC con $V_{g} = 2 mV_{pp}$ y frecuencia fundamental $f_{c} = 1 MHz$.\n",
    "\n",
    "Un analizador de espectro, conectado sobre $R_L = 1\\,K\\Omega $, barriendo desde $100 KHz$ a $21 MHz$, encuentra que la mayor componente es de $3 MHz$ y esta se encuentra exactamente $60 dB$ por encima de siguiente armónico de mayor amplitud.\n",
    "\n",
    "Determinar:\n",
    "\n",
    "1. Dada la separación entre las componentes de la señal de excitación ¿Es adecuado el empleo de aproximación de Banda angosta? en caso de poderse ¿Cuando no sería adecuado?.\n",
    "2. Los $Q_{c}$ de cada Simple Sintonizado.\n",
    "3. Los valores para L y C.\n",
    "4. Los valores para N1, N2 y N3.\n",
    "5. Módulo de la componente en tensión de $3 MHz$ sobre la carga $R_L$. \n",
    "6. Proponga una red de polarización para el transistor Q1."
   ]
  },
  {
   "cell_type": "code",
   "execution_count": null,
   "metadata": {},
   "outputs": [],
   "source": []
  }
 ],
 "metadata": {
  "kernelspec": {
   "display_name": "Python 3",
   "language": "python",
   "name": "python3"
  },
  "language_info": {
   "codemirror_mode": {
    "name": "ipython",
    "version": 3
   },
   "file_extension": ".py",
   "mimetype": "text/x-python",
   "name": "python",
   "nbconvert_exporter": "python",
   "pygments_lexer": "ipython3",
   "version": "3.7.4"
  }
 },
 "nbformat": 4,
 "nbformat_minor": 2
}
