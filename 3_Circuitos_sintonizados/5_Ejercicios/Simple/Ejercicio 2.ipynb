{
 "cells": [
  {
   "cell_type": "markdown",
   "metadata": {},
   "source": [
    "## Ejericio 2\n",
    "El circuito de la figura corresponde al circuito equivalente simplificado de la primer etapa de frecuencia intermedia de un receptor de RF. \n",
    "La frecuencia intermedia esta sintonizada a $F_c = 10 MHz$.\n",
    "Suponer que  cada uno de los elementos reactivos tienen un $Q_o = 200$. \n",
    "La fuente tiene una potencia disponible $P_{disp}= 1 \\mu W$ y su resistencia interna es $r_g = 1 K\\Omega$\n",
    "\n",
    "\n",
    "<img src=\"fig/eje2.png\">\n",
    "\n",
    "Donde: $g_{11} = 1 mS$, $g_{22} = 0.1 mS$ y $g_m = 100 mS$\n",
    "\n",
    "\n",
    "Determinar para un ancho de banda de $200 KHz$:\n",
    "\n",
    "    \n",
    "1. $Q_{c}$\n",
    "    \n",
    "2. $L_1$, $C_1$, $L_2$, $C_2$ y $R_L$.\n",
    "    \n",
    "3. $A_{v_o} = \\frac{v_o}{v_i}$\n",
    "    \n",
    "4. $|A_{v_o}|$ para $8 MHz$, $9.9 MHz$ y $10.1 MHz$.\n",
    "    \n",
    "5. $P_{in}$, $P_{R_L}$ y las perdidas de inserción.\n",
    "\n",
    "6. Se desea utilizar el mismo valor de inductor en ambas etapas y un capacitor variable de $200 pF$ para cada sintonizado. Proponga una solución. Calcule el valor de los componentes.\n",
    "\n"
   ]
  },
  {
   "cell_type": "code",
   "execution_count": null,
   "metadata": {},
   "outputs": [],
   "source": []
  }
 ],
 "metadata": {
  "kernelspec": {
   "display_name": "Python 3",
   "language": "python",
   "name": "python3"
  },
  "language_info": {
   "codemirror_mode": {
    "name": "ipython",
    "version": 3
   },
   "file_extension": ".py",
   "mimetype": "text/x-python",
   "name": "python",
   "nbconvert_exporter": "python",
   "pygments_lexer": "ipython3",
   "version": "3.7.4"
  }
 },
 "nbformat": 4,
 "nbformat_minor": 2
}
