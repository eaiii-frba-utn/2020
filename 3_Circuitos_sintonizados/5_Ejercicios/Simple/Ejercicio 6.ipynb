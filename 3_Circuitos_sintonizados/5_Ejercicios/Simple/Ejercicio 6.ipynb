{
 "cells": [
  {
   "cell_type": "markdown",
   "metadata": {},
   "source": [
    "## Ejercicio 6\n",
    "\n",
    "<img src=\"fig/eje6.png\" width=850>\n",
    "Receptor BLU, etapa de FI, $f_o=455\\,MHz$\n",
    "\n",
    "\n",
    "El circuito de la figura corresponde al amplificador de FI de un Receptor para BLU superheterodino de simple conversión, donde V1 y R1 representan la  tensión e impedancia de salida del mezclador y RL representa la impedancia de entrada del detector.\n",
    "El ancho de banda total del amplificador es $BW = 3 KHz$.\n",
    "\n",
    "Los 3 tanques están sintonizados a $f_o = 455 Khz$ y operan con  $Q_{c3} = 2Q_{c2}$   y  $Q_{c2} = 2Q_{c1}$ (llamando 1 al que está del lado generador, 2 al interetapa y 3 al de salida).\n",
    "Los inductores son idénticos entre sí, presentan $Q_{oL} = 150$ y tienen  $N = 100$ espiras.\n",
    "Capacitores con $Q_{oL} = \\infty$.\n",
    "\n",
    "Todas las interfaces adaptadas a MTE Qcte.\n",
    "\n",
    "En los inductores, el entre primario y secundario, así como entre espiras, el acoplamiento es máximo ($k=1$).\n",
    "\n",
    "Los transistores son idénticos y poseen los siguientes parámetros que se mantienen constantes en la banda de interés:\n",
    "\n",
    "1. $Y_{11} = (1 + j0) mS$\t\n",
    "2. $Y_{22} = (0,1 + j0) mS$\n",
    "3. $Y_{12} = 0 mS$\n",
    "4. $Y_{21} = (0,1+j0) mS$\n",
    "\n",
    "Determinar:\n",
    "\n",
    "1. Valores para $Q_{c1}$, $Q_{c2}$, $Q_{c3}$.\n",
    "2. Valores para L, C1, C2, C3.\n",
    "3. Valores para N1, N2, N3, N4, N5\n",
    "4. Proponga (sin dimensionar) un circuito para polarizar los transistores.\n",
    "5. La ganancia de tensión total $\\mid A \\mid = \\mid \\frac {Vo}{Vg} \\mid$ a la frecuencia de sintonía.\n",
    "6. La ganancia de potencia $G = \\frac {P_{o}}{P_{in}}$ a la frecuencia de sintonía.\n",
    "7. La ganancia de trasducción $GT = \\frac {P_{o}}{P_{av}}$ a la frecuencia de sintonía, siendo $P_{av}$ la potencia disponible en el generador."
   ]
  },
  {
   "cell_type": "code",
   "execution_count": null,
   "metadata": {},
   "outputs": [],
   "source": []
  }
 ],
 "metadata": {
  "kernelspec": {
   "display_name": "Python 3",
   "language": "python",
   "name": "python3"
  },
  "language_info": {
   "codemirror_mode": {
    "name": "ipython",
    "version": 3
   },
   "file_extension": ".py",
   "mimetype": "text/x-python",
   "name": "python",
   "nbconvert_exporter": "python",
   "pygments_lexer": "ipython3",
   "version": "3.7.4"
  }
 },
 "nbformat": 4,
 "nbformat_minor": 2
}
