{
 "cells": [
  {
   "cell_type": "markdown",
   "metadata": {},
   "source": [
    "### Ejercicio\n",
    "\n",
    "\n",
    "#### Diagrama en bloques \n",
    "\n",
    "<img src=\"fig/canvas.png\" width=450>\n",
    "\n",
    "#### Circuito RF\n",
    "<img src=\"fig/RF.png\" width=450>\n",
    "\n",
    "\n",
    "#### Circuito IF\n",
    "<img src=\"fig/IF.png\" width=450>\n",
    "\n",
    "El circuito de la figura corresponde a un receptor de Broadcasting AM ($550 KHz$ a $1,6 MHz$). Está sintonizado para recibir un canal de $F_c = 600 KHz$ modulado al 50\\%  por un tono único de $3\\,KHz$.\n",
    "Todos los elementos activos (Amplificadores, mezclador y detector) son lineales y de parámetros constantes dentro de toda la banda de interés con lo que :\n",
    "\n",
    "\n",
    "1.  $Y_{11} = (1 + j0) mS$\t\n",
    "2.  $Y_{22} = (0,1 + j0) mS$\n",
    "3.  $Y_{12} = 0 mS$\n",
    "    \n",
    "Ambos amplificadores (RF y FI) son sincrónicos.\n",
    "$F_{ol} = F_{c} + 455 KHz$, $F_{FI}= 455 KHz$\n",
    "\n",
    "La antena presenta una impedancia $R_{a}= 50 \\Omega$ en toda la banda de interés (550 KHz - 1.6 MHz).\n",
    "\n",
    "Todos los tanques están adaptados a MTE Q cte.\n",
    "Las bobinas empleadas para el amplificador de RF poseen : $Q_{oL} = 100$ y $N = 100$ espiras.\n",
    "Las bobinas empleadas para el amplificador de FI poseen : $Q_{oL} = 200$.\n",
    "Capacitores con $Q_{oL} = \\infty$.\n",
    "\n",
    "Rechazo de frecuencia imagen  $\\mid A_{@f_{Img}} \\mid = 80 dB$.\n",
    "Rechazo de canal adyacente  $\\mid A_{@f_{c}\\pm50KHz} \\mid = 90 dB$.\n",
    "\n",
    "\n",
    "\n",
    "1. Los $Q_{c}$ para las etapas de RF y FI respectivamente.\n",
    "2. Los valores para L1, L2, C1, C2 y C3.\n",
    "3. Calcular el ancho de banda $BW$ de cada amplificador. \n",
    "4. Con el receptor en su condición original ($f_{c} = 600 KHz$) una falla en el Oscilador Local hace que la frecuencia del mismo se corra a $f'_{ol} = 1070 Khz$.  \n",
    "5. Encontrar el índice de modulación (m) de la señal a la entrada del detector (Vo) siendo  $m = \\frac {V_{pico} - V_{valle}}{V_{pico} + V_{valle}}$.\n",
    "\n",
    "Se re-sintoniza a $F_{rf} = 1600 KHz$. \n",
    "6. Calcular el rechazo variando solamente $C_1$ y manteniendo constante $L_1$ \n",
    "7. Calcular el rechazo variando solamente $L_1$ y manteniendo constante $C_1$, comparar con el resultado anterior. \n"
   ]
  },
  {
   "cell_type": "code",
   "execution_count": null,
   "metadata": {},
   "outputs": [],
   "source": []
  }
 ],
 "metadata": {
  "kernelspec": {
   "display_name": "Python 3",
   "language": "python",
   "name": "python3"
  },
  "language_info": {
   "codemirror_mode": {
    "name": "ipython",
    "version": 3
   },
   "file_extension": ".py",
   "mimetype": "text/x-python",
   "name": "python",
   "nbconvert_exporter": "python",
   "pygments_lexer": "ipython3",
   "version": "3.7.4"
  }
 },
 "nbformat": 4,
 "nbformat_minor": 2
}
