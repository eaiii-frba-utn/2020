{
 "cells": [
  {
   "cell_type": "markdown",
   "metadata": {},
   "source": [
    "Ejercicio 1\n",
    "\n",
    "El circuito de la figura corresponde al circuito equivalente simplificado de un receptor de RF. \n",
    "Se desea recibir una estación en la frecuencia $F_c = 100 MHz$.\n",
    "Suponer que  cada uno de los elementos reactivos tienen un $Q_o = 200$.\n",
    "La fuente tiene una potencia disponible $P_{disp}= 10nW$ y su resistencia interna es $r_g=1K\\Omega $.\n",
    "\n",
    "\n",
    "\n",
    "<img src=\"fig/eje1.png\">\n",
    "\n",
    "Donde: $g_{11} = 1.25 mS$, $g_{22} = 0.1 mS$ y $g_m = 100 mS$\n",
    "\n",
    "\n",
    "\n",
    "Determinar para una atenuación de $20 dB$ a $f=120 MHz$:\n",
    "\n",
    "\t1. $Q_{c}$, $L$, $C$ y $R_L$.\n",
    "    2. $A_{v_o} = \\frac{v_o}{v_g}$ y el ancho de banda $BW$ del amplificador. \n",
    "    3. Dibujar el diagrama de polos y ceros del circuito.  \n",
    "    4. $|A_{v_o}|$ para $80 MHz$, $90 MHz$ y $110 MHz$.\n",
    "    5. $P_{in}$, $P_{R_L}$ y las perdidas de inserción. \n",
    "\n"
   ]
  },
  {
   "cell_type": "code",
   "execution_count": null,
   "metadata": {},
   "outputs": [],
   "source": []
  }
 ],
 "metadata": {
  "kernelspec": {
   "display_name": "Python 3",
   "language": "python",
   "name": "python3"
  },
  "language_info": {
   "codemirror_mode": {
    "name": "ipython",
    "version": 3
   },
   "file_extension": ".py",
   "mimetype": "text/x-python",
   "name": "python",
   "nbconvert_exporter": "python",
   "pygments_lexer": "ipython3",
   "version": "3.7.4"
  }
 },
 "nbformat": 4,
 "nbformat_minor": 2
}
