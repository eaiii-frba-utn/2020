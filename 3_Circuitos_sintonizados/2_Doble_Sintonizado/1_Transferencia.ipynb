{
 "cells": [
  {
   "cell_type": "markdown",
   "metadata": {},
   "source": [
    "# Transferencia\n",
    "\n",
    "\n",
    "<img src=\"fig/doblesintonizado.png\">\n",
    "\n",
    "$$v_o =   \\frac{-g_m \\cdot v_i M S }{[(S^2+\\frac{S}{R_1 C_1} + \\frac{1}{L_1 C_1} )(S^2+\\frac{S}{R_2 C_2} + \\frac{1}{L_2 C_2} )- \\frac{M^2 }{L_1 L_2 C_1 C_2}]}$$\n",
    "\n",
    "\n",
    "$$\\frac{v_o}{v_i}=\\frac{-gm.M.s.\\omega_o^4}{{(s^2+s.\\frac{\\omega_o}{Q}+\\omega_o^2.(1+k)).(s^2+s.\\frac{\\omega_o}{Q}+\\omega_o^2.(1-k))}}$$\n",
    "\n",
    "$$s_{1,2}=-\\frac{\\omega_o^4}{2.Q} \\pm j.\\omega_o.(1-\\frac{k}{2})$$\n",
    "\n"
   ]
  },
  {
   "cell_type": "code",
   "execution_count": 1,
   "metadata": {},
   "outputs": [],
   "source": [
    "#%$A_v(S) = -  \\frac{g_m  M \\omega_o^4 S }{[(S^2+\\frac{S}{Q} + \\omega_o^2 )(S^2+\\frac{S}{Q} + \\omega_o^2 )- k^2 \\omega_o^4]}$;\n",
    "#%$A_v(S) = -  \\frac{g_m  M \\omega_o^4 S }{[S^2+\\frac{S}{Q} + \\omega_o^2(1+k) ][(S^2+\\frac{S}{Q} + \\omega_o^2 (1-k)]}$\n"
   ]
  },
  {
   "cell_type": "markdown",
   "metadata": {},
   "source": [
    "\n",
    "<img src=\"fig/polosyzeros.png\">\n",
    "\n",
    "$$\\frac{v_o}{v_i}=\\frac{-gm.M.\\omega_o^4.j\\omega} {(2.j.\\omega_o).(2.j\\omega_o).(j\\omega-[-\\frac{\\omega_o}{2.Q}+j.\\omega_o.(1-\\frac{k}{2}) ]).(j\\omega-[-\\frac{\\omega_o}{2.Q}+j.\\omega_o.(1+\\frac{k}{2}) ])  }$$\n",
    "\n",
    "$$\\frac{v_o}{v_i}=\\frac{j.gm.M.\\omega_o^3}{4}.\\frac{1}{(\\frac{\\omega_o}{2.Q}+j.(\\omega-\\omega_o.(1-\\frac{k}{2}))).(\\frac{\\omega_o}{2.Q}+j.(\\omega-\\omega_o.(1+\\frac{k}{2})))  }$$\n",
    "\n",
    "$$\\frac{v_o}{v_i}=\\frac{j.gm.M.\\omega_o^3}{4}.\\frac{1}{(\\frac{\\omega_o}{2.Q}).(\\frac{\\omega_o}{2.Q}).(1+j2.Q.\\frac{(\\omega-\\omega_o)}{\\omega_o}+j.Q.k).(1+j2.Q.\\frac{(\\omega-\\omega_o)}{\\omega_o}-j.Q.k)  }$$\n",
    "\n",
    "$$\\chi=2.Q.\\frac{\\omega-\\omega_o}{\\omega_o}$$\n",
    "\n",
    "$$h=k.Q$$\n",
    "\n",
    "\n",
    "\n",
    "$$\\frac{v_o}{v_i}=\\frac{j.gm.M.\\omega_o}{(1+j.(\\chi+h)).(1+j.(\\chi-h)) }$$"
   ]
  },
  {
   "cell_type": "code",
   "execution_count": null,
   "metadata": {},
   "outputs": [],
   "source": []
  }
 ],
 "metadata": {
  "kernelspec": {
   "display_name": "Python 3",
   "language": "python",
   "name": "python3"
  },
  "language_info": {
   "codemirror_mode": {
    "name": "ipython",
    "version": 3
   },
   "file_extension": ".py",
   "mimetype": "text/x-python",
   "name": "python",
   "nbconvert_exporter": "python",
   "pygments_lexer": "ipython3",
   "version": "3.7.0"
  }
 },
 "nbformat": 4,
 "nbformat_minor": 2
}
