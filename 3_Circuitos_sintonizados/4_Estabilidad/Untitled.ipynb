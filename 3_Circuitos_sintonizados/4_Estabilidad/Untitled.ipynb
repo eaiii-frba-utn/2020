{
 "cells": [
  {
   "cell_type": "markdown",
   "metadata": {},
   "source": [
    "$$Y_{11} = g_{11} + j \\cdot b_{11}$$ \n",
    " \n",
    "$$Y_{22} = g_{22} + j \\cdot b_{22}$$ \n",
    "\n",
    "Agrupando entonces la parte real e imaginaria del circuito.\n",
    "\n",
    "$$G_{1} = g_{g} + g_{p} + g_{11}$$\n",
    "\n",
    "$$B_{1} = b_{g} + b_{11} + \\omega \\cdot C - \\frac{1}{\\omega \\cdot L}$$ \n",
    "\n",
    "$$Y_{1} = G_{1} + j \\cdot B_{1}$$ \n",
    " \n",
    "\n",
    "\n",
    "\n",
    "$$G_{2} = g_{22} + g_{p} + g_L$$\n",
    "\n",
    "$$B_{2} = b_{L} + b_{22} + \\omega \\cdot C - \\frac{1}{\\omega \\cdot L}$$ \n",
    "\n",
    "$$Y_{2} = G_{22} + j \\cdot B_{2}$$ \n"
   ]
  },
  {
   "cell_type": "code",
   "execution_count": null,
   "metadata": {},
   "outputs": [],
   "source": []
  }
 ],
 "metadata": {
  "kernelspec": {
   "display_name": "Python 3",
   "language": "python",
   "name": "python3"
  },
  "language_info": {
   "codemirror_mode": {
    "name": "ipython",
    "version": 3
   },
   "file_extension": ".py",
   "mimetype": "text/x-python",
   "name": "python",
   "nbconvert_exporter": "python",
   "pygments_lexer": "ipython3",
   "version": "3.7.0"
  }
 },
 "nbformat": 4,
 "nbformat_minor": 2
}
