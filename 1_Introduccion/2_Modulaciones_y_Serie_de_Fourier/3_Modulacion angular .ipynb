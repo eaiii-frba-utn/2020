{
 "cells": [
  {
   "cell_type": "markdown",
   "metadata": {},
   "source": [
    "# Modulacion angular.\n",
    "\n",
    "\n",
    "En las modulaciones angulares, es la fase  o la frecuencia de la portadora la que es modulada.\n",
    "\n",
    "$c(t)=A_{c}\\cos \\left( \\omega _{c}t \\right)$\n",
    "\n",
    "\n",
    "Los tipos de modulaciones angulares son:\n",
    "\n",
    "FM (Frequency Modulation)\n",
    "y PM (Phase Modulation)\n",
    "\n",
    "Podemos representar ambas modulaciones como:\n",
    "\n",
    "$ x(t)=A_{c}\\cos \\left( \\theta _{i}\\left( t \\right) \\right)$\n",
    "\n",
    "$\\theta _{i}\\left( t \\right)$ : Fase instantánea total de la señal\n",
    "\n",
    "$ \\theta _{i}\\left( t \\right)=\\omega _{c}t+\\varphi _{i}(t) $ \n",
    "\n",
    "$\\varphi _{i}(t)$ : Fase instantánea de la señal\n",
    "\n",
    "Como se relacionan la frecuencia y la fase de una señal?\n",
    "La frecuencia es la derivada de la fase!\n",
    "\n",
    "$ \\omega _{i}\\left( t \\right)=\\frac{\\partial \\theta _{i}\\left( t \\right)}{\\partial t} $\n",
    "\n",
    "$ f_{i}\\left( t \\right)=\\frac{1}{2\\pi }\\frac{\\partial \\theta _{i}\\left( t \\right)}{\\partial t}\\to $ \n",
    "\n",
    "$ \\left\\{ \\theta _{i}\\left( t \\right)=\\omega _{c}t+\\varphi _{i}(t) \\right\\}\\to f_{i}\\left( t \\right)=\\frac{1}{2\\pi }\\frac{\\partial \\left\\{ \\omega _{c}t+\\varphi _{i}(t) \\right\\}}{\\partial t}=f_{c}+\\frac{1}{2\\pi }\\frac{\\partial \\varphi _{i}\\left( t \\right)}{\\partial t} $\n",
    "\n",
    "$\\omega _{i}\\left( t \\right)$ : Frecuencia instantánea de la señal (medida en rad/s)\n",
    "\n",
    "$f_{i}\\left( t \\right)$ : Frecuencia instantánea de  la señal (medida en Hz)\n",
    "\n",
    "Igualmente, podemos decir que la fase, es la integral de la frecuencia\n",
    "\n",
    "$\\begin{align}\n",
    "  & \\omega _{i}\\left( t \\right)=\\frac{\\partial \\theta _{i}\\left( t \\right)}{\\partial t}\\Leftrightarrow \\theta _{i}\\left( t \\right)=\\int_{-\\infty }^{t}{\\omega _{i}\\left( \\lambda  \\right)\\partial \\lambda } \\\\ \n",
    " & f_{i}\\left( t \\right)=\\frac{1}{2\\pi }\\frac{\\partial \\theta _{i}\\left( t \\right)}{\\partial t}\\Leftrightarrow \\theta _{i}\\left( t \\right)=2\\pi \\int_{-\\infty }^{t}{f_{i}\\left( \\lambda  \\right)\\partial \\lambda } \\\\ \n",
    "\\end{align}$\n",
    "\n",
    "### Potencia\n",
    "Debido a que  solo estamos modulando la fase, sin cambiar la amplitud de la señal, la potencia de cualquier modulación angular será:\n",
    "\n",
    "$P_{\\begin{smallmatrix} \n",
    " FM \\\\ \n",
    " PM \n",
    "\\end{smallmatrix}}=\\frac{A_{c}^{2}}{2}$"
   ]
  },
  {
   "cell_type": "code",
   "execution_count": 17,
   "metadata": {},
   "outputs": [],
   "source": [
    "# Librerias\n",
    "from __future__ import print_function\n",
    "from ipywidgets import interact, interactive, fixed, interact_manual\n",
    "import ipywidgets as widgets\n",
    "\n",
    "import numpy as np\n",
    "import matplotlib.pyplot as plt\n",
    "\n",
    "import scipy                  # http://scipy.org/\n",
    "from scipy.fftpack import fft, fftfreq\n",
    "from time import time\n",
    "\n",
    "\n",
    "\n",
    "%matplotlib inline\n",
    "\n",
    "params = {'legend.fontsize': 24,\n",
    "          'figure.figsize': (15, 5),\n",
    "         'axes.labelsize': 24,\n",
    "         'axes.titlesize': 24,\n",
    "         'xtick.labelsize':24,\n",
    "         'ytick.labelsize':24}\n",
    "plt.rcParams.update(params)"
   ]
  },
  {
   "cell_type": "code",
   "execution_count": 18,
   "metadata": {},
   "outputs": [],
   "source": [
    "# Ejemplo FM en el tiempo\n",
    "# modulante\n",
    "fm   = 10 #Hz\n",
    "Am   = 1   \n",
    "# carrier\n",
    "fc   = 100\n",
    "kf   = 4 # Hz/volt\n",
    "Ac   = 1\n",
    "\n",
    "# defino el sampleo\n",
    "Fs = 10*fc #Sps \n",
    "# tiempo maximo del analisis \n",
    "# Periodo de la frecuencia minima\n",
    "fmmin = 10 \n",
    "fmmax = 20\n",
    "T = 2/fmmin\n",
    "\n",
    "# vector de tiempo \n",
    "t  = np.arange(0, T, 1/Fs)\n",
    "\n",
    "def modulante(Am, fm, t):\n",
    "    # modulante\n",
    "    Sm   = Am*np.cos(2*np.pi*fm*t) \n",
    "    return Sm\n",
    "\n",
    "\n",
    "\n",
    "def modFM(Am,fm):\n",
    "    Sm  = modulante(Am,fm,t)\n",
    "    # modulada\n",
    "    ISm  = np.poly1d(Sm)\n",
    "    wi   = kf*ISm\n",
    "    Sfm  = Ac*np.cos(2*np.pi*fc*t + wi)  \n",
    "\n",
    "    plt.plot(t, Sfm)\n",
    "    plt.ylabel('Sm [V]')\n",
    "    plt.xlabel('freq[Hz]')\n",
    "    plt.show()"
   ]
  },
  {
   "cell_type": "code",
   "execution_count": 19,
   "metadata": {},
   "outputs": [
    {
     "data": {
      "application/vnd.jupyter.widget-view+json": {
       "model_id": "f2f913c165fd449c87967f647e004c1a",
       "version_major": 2,
       "version_minor": 0
      },
      "text/plain": [
       "interactive(children=(FloatSlider(value=1.0, description='Am', max=2.0), FloatSlider(value=15.0, description='…"
      ]
     },
     "metadata": {},
     "output_type": "display_data"
    },
    {
     "data": {
      "text/plain": [
       "<function __main__.modFM(Am, fm)>"
      ]
     },
     "execution_count": 19,
     "metadata": {},
     "output_type": "execute_result"
    }
   ],
   "source": [
    "interact(modFM, Am=(0,2,0.1), fm=(fmmin,fmmax,0.1) )\n",
    "\n"
   ]
  },
  {
   "cell_type": "markdown",
   "metadata": {},
   "source": [
    "\n"
   ]
  },
  {
   "cell_type": "code",
   "execution_count": null,
   "metadata": {
    "collapsed": true
   },
   "outputs": [],
   "source": []
  }
 ],
 "metadata": {
  "kernelspec": {
   "display_name": "Python 3",
   "language": "python",
   "name": "python3"
  },
  "language_info": {
   "codemirror_mode": {
    "name": "ipython",
    "version": 3
   },
   "file_extension": ".py",
   "mimetype": "text/x-python",
   "name": "python",
   "nbconvert_exporter": "python",
   "pygments_lexer": "ipython3",
   "version": "3.7.4"
  }
 },
 "nbformat": 4,
 "nbformat_minor": 1
}
