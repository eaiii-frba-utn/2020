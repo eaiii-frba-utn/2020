{
 "cells": [
  {
   "cell_type": "markdown",
   "metadata": {},
   "source": [
    "Un Rx superheterodino de simple conversión, con FI en 455 kHz, es sintonizado para recibir un canal de fc=1 MHz. \n",
    "Los canales adyacentes se encuentran a +/- 50 kHz. Se especifica un rechazo mínimo a los mismos de 44 dB.\n",
    "\n",
    "A la salida del Rx (sobre el parlante) hay una señal alterna de 1V y SNR = 10 dB.\n",
    "\n",
    "El circuito de la figura corresponde al amplificador de RF, el cual debe presentar máxima planicidad en la banda de paso, con un ancho de banda de -3dB de 100 KHz Todas las interfaces adaptadas a MTE-Qcte\n",
    "\n",
    "\n",
    "![ex 2.13](fig/20200803_circuito.png)\n",
    "\n",
    "Datos del transistor:\n",
    "\n",
    "\n",
    "$$y_{11} =         8mS +j\\cdot \\omega 10\\times10^{-12}S$$\n",
    "\n",
    "$$y_{12} =        0 S$$\n",
    "\n",
    "$$y_{21} =        40 \\cdot I_{cq} \\$$\n",
    "\n",
    "$$y_{22} =         0.1mS +j\\cdot \\omega 10\\times10^{-12}S$$\n",
    "\n",
    "\n",
    "\n",
    "Datos de proyecto:\n",
    "\n",
    "$L1 = L2 = L3$\n",
    "\n",
    "\n",
    "|Parametro  | Valor                                   | Unidad  |\n",
    "|----------:|:---------------------------------------:|:-------:|\n",
    "|Vcc =      | 12                                      | V       | \n",
    "|R1  =      | 36                                      |$K\\Omega$|\n",
    "|R2  =      | 18                                      |$K\\Omega$|\n",
    "|RE  =      | 1,2                                     |$K\\Omega$|\n",
    "|HFE =      | 300                                     |         |\n",
    "|N1  =      | 100                                     |         |\n",
    "|Qo  =      |Infinito                                 |         |\n",
    "|fo  =      | 1                                       |MHz      |\n",
    "|Rg  =      | 1250                                    |$\\Omega$ |\n",
    "\n",
    "$y_{L} =  0.4mS +j\\cdot \\omega 150\\times10^{-12} S$\n",
    "\n",
    "\n",
    "\n",
    "Todos los elementos están a 300 K        \n",
    "\n",
    "NFtransistor= 3dB\n",
    "\n",
    "\n",
    "Consignas:\n",
    "1. Determinar el valor de Q1, Q2 y h \n",
    "2. Determinar C1,C2,L1,N2\n",
    "3. Determinar C3,C4,C5,C6\n",
    "4. Determinar el rechazo de Frecuencia Imagen del Rx\n",
    "5. Determinar la ganancia de potencia (G=Pout/Pin) del amplificador de RF en frecuencia central\n",
    "6. Si se cambian los sintonizados de salida por un único sintonizado, manteniendo las condiciones de adaptación, y el elemento activo se reemplaza por otro con los mismos parámetros admitancia excepto en el parámetro y12 que pasa a valer y12=-jwo10-12 S, determinar, justificando la respuesta, si el circuito es estable\n",
    "7. Sabiendo que el resto del Rx (Mezclador, FI, Detect, Audio) tiene una NF=15 dB y el ancho de banda de ruido Ben=1 kHz está dado por un filtro a la salida de la FI determinar el nivel de señal en bornes de antena (V1). \n",
    "8. Determinar el ancho de banda del Rx sabiendo que la etapa de FI está conformada por 3 Simple Sintonizados sincrónicos\n",
    "9. Al Rx ingresa una señal de AM modulada por un tono de audio de 5 kHz con m=80%. Determinar el índice de modulación a la entrada del detector\n",
    "10. Por una falla en el OL el mismo corre su frecuencia a 1460 kHz. Obtener el índice de modulación a la entrada del detector\n",
    "\n",
    "\n",
    "\n",
    "CRITERIO DE CORRECCIÓN: \n",
    "Cada ítem  puntaje máximo = 1\n",
    "Se obtiene puntaje máximo en un ítem realizando el planteo y la solución numérica bien\n",
    "Se obtiene la mitad del puntaje máximo realizando el planteo bien y la solución numérica mal\n",
    "Se obtiene cero puntos en cualquier ítem que el planteo esté mal.\n",
    "Se aprueba el examen toda vez que la sumatoria de lo obtenido en cada ítem de 6 o más.\n",
    "Para el resultado numérico no se tienen en cuenta errores   de arrastre. \n",
    "\n"
   ]
  },
  {
   "cell_type": "markdown",
   "metadata": {},
   "source": [
    "## 1. Determinar el valor de Q1, Q2 y h \n",
    "\n",
    "![ex 2.13](fig/20200803_polos.png)\n",
    "\n",
    "### Simple sintonizado\n",
    "\n",
    "$$Q_1 = \\frac{f_o}{BW}$$\n",
    "\n",
    "$$Q_1 = \\frac{1MHz}{100kHz} = 10$$\n",
    "\n",
    "$$Q_1= 10.00$$\n",
    "\n",
    "### Doble sintonizado\n",
    "\n",
    "$$Q_2 = \\frac{fo}{BW \\cdot \\sin(30)} = \\frac{1MHz}{100kHz \\cdot \\sin(30)}$$\n",
    "\n",
    "$$Q_2= 20.00$$\n",
    "\n",
    "$$k  = \\frac{BW \\cdot cos(30))}{fo} \\frac{100kHz \\cdot \\cos(30)}{1MHz}$$\n",
    "\n",
    "$$k = 8.66e-02$$"
   ]
  },
  {
   "cell_type": "code",
   "execution_count": 167,
   "metadata": {},
   "outputs": [
    {
     "name": "stdout",
     "output_type": "stream",
     "text": [
      "$$Q_1= 10.00$$\n",
      "$$Q_2= 20.00$$\n",
      "$$k = 8.66e-02$$\n"
     ]
    }
   ],
   "source": [
    "import numpy as np\n",
    "\n",
    "# Parametros del transistor \n",
    "r11   =   1/0.8e-3 \n",
    "c11   =   10e-12\n",
    "r22   =   1/0.1e-3 \n",
    "c22   =   10e-12\n",
    "\n",
    "rg    = 1250\n",
    "rl    =   2.5e3\n",
    "N1    =   100\n",
    "# Calculos auxiliares\n",
    "####### 1\n",
    "BW = 100e3\n",
    "fo = 1e6\n",
    "wo = (2*np.pi*fo)\n",
    "# Simple sintofizado\n",
    "Q1 = fo/BW\n",
    "\n",
    "# Doble \n",
    "\n",
    "Q2 = fo/(BW*np.sin(30*np.pi/180))\n",
    "\n",
    "k  = (BW*np.cos(30*np.pi/180))/fo\n",
    "\n",
    "print('$$Q_1= {:1.2f}$$'.format(Q1))\n",
    "\n",
    "print('$$Q_2= {:1.2f}$$'.format(Q2))\n",
    "\n",
    "print('$$k = {:1.2e}$$'.format(k))"
   ]
  },
  {
   "cell_type": "markdown",
   "metadata": {},
   "source": [
    "## 2. Determinar $C_1$, $C_2$, $L_1$, $N_2$\n",
    "\n",
    "\n",
    "\n",
    "### $L_1$\n",
    "\n",
    "Para el calculo del inductor $L_1$, es importante notar la condicion $L_1 = L_2 = L_3$. \n",
    "\n",
    "El inductor $L_2$ es el unico que tiene impuesta la carga, por lo tanto, es necesario realizar el calculo de este componente primero. \n",
    "\n",
    "\n",
    "![ex 2.13](fig/20200803_circuito_out.png)\n",
    "\n",
    "Ese inductor corresponde a uno de los sintonizado del doble sintonizado y tiene como carga la impedancia de salida del transistor.\n",
    "\n",
    "$$\\frac{1}{Q_c} = \\frac{1}{Q_o} + \\frac{\\omega L_2}{r_{ext}}$$\n",
    "\n",
    "Al ser un doble sintonizado, la resistencia de carga del sintonizado,\n",
    "\n",
    "$$r_{ext} = r_{22}$$\n",
    "\n",
    "$$\\frac{1}{Q_c} = \\frac{1}{Q_o} + \\frac{\\omega L_2}{r_{22}}$$\n",
    "\n",
    "$$L_2 = (\\frac{1}{Q_c} - \\frac{1}{Q_o}) \\cdot \\frac{r_{22}}{\\omega}$$\n",
    "\n",
    "$$L_2 = (\\frac{1}{20} - \\frac{1}{\\inf}) \\cdot \\frac{10k\\Omega}{2 \\pi 1e6MHz}$$\n",
    "\n",
    "$$L_2 = 7.9577e-05 Hy$$\n",
    "\n",
    "$$L_1 = L_2 = 7.9577e-05 Hy$$"
   ]
  },
  {
   "cell_type": "code",
   "execution_count": 168,
   "metadata": {},
   "outputs": [
    {
     "name": "stdout",
     "output_type": "stream",
     "text": [
      "$$L2= 7.96e-05 Hy$$\n",
      "$$L1= 7.96e-05 F$$\n"
     ]
    }
   ],
   "source": [
    "# DOBLE SINTONIZADO\n",
    "#  calculo a la salida sobre COLECTOR\n",
    "\n",
    "Qo = np.inf\n",
    "\n",
    "L2 = (1/Q2-1/Qo)*r22/wo\n",
    "\n",
    "L1 = L2\n",
    "\n",
    "print('$$L2= {:1.2e} Hy$$'.format(L2))\n",
    "\n",
    "print('$$L1= {:1.2e} F$$'.format(L1))"
   ]
  },
  {
   "cell_type": "markdown",
   "metadata": {},
   "source": [
    "### Calculo del transformador de entrada\n",
    "\n",
    "![ex 2.13](fig/20200803_circuito_in.png)\n",
    "\n",
    "Definido el inductor, es momento de calcular la relación de transformación. \n",
    "\n",
    "La resistencia externa total depende del $Q_c$ del simple sintonizado. \n",
    "\n",
    "$$\\frac{1}{Q_c} = \\frac{1}{Q_o} + \\frac{\\omega L_1}{r_{ext}}$$\n",
    "\n",
    "$$r_{ext} = \\frac{\\omega L_2}{(\\frac{1}{Q_c} - \\frac{1}{Q_o})}$$\n",
    "\n",
    "\n",
    "$$rext = 5000.000 \\Omega$$\n",
    "\n",
    "Para MTEQcte $r'_g=r'_{11}$\n",
    "\n",
    "$$r_{ext} = \\frac{r'_g \\cdot r'_{11}}{r'_g + r'_{11}}$$\n",
    "\n",
    "\n",
    "\n",
    "El calculo de la relación del transformador\n",
    "\n",
    "$$\\frac{r_{11}}{r'_{11}} = (\\frac{N_2}{N_1})^2$$ \n",
    "\n",
    "$$N_2 = \\sqrt{\\frac{r_{11}}{r'_{11}}} \\cdot N_1$$ \n",
    "\n",
    "\n",
    "\n",
    "$$N_2= 35.36$$"
   ]
  },
  {
   "cell_type": "code",
   "execution_count": 169,
   "metadata": {},
   "outputs": [
    {
     "name": "stdout",
     "output_type": "stream",
     "text": [
      "$$rext = 5000.000 \\Omega$$\n",
      "$$rt = 10000.000 \\Omega$$\n",
      "$$N2= 35.36$$\n"
     ]
    }
   ],
   "source": [
    "# ENTRADA!\n",
    "L1 = L2\n",
    "rext = wo*L1/(1/Q1-1/Qo)\n",
    "print('$$rext = {:1.3f} \\Omega$$'.format(rext))\n",
    "rt   = rext*2\n",
    "\n",
    "print('$$rt = {:1.3f} \\Omega$$'.format(rt))\n",
    "\n",
    "# (N1/N2)**2 = rt/r11\n",
    "N2 = (r11/rt)**0.5*N1\n",
    "\n",
    "print('$$N2= {:1.2f}$$'.format(N2))\n",
    "\n",
    "L12 = L1*(N2/N1)**2\n"
   ]
  },
  {
   "cell_type": "markdown",
   "metadata": {},
   "source": [
    "### Calculo del divisor capacitivo\n",
    "\n",
    "El capacitor de sintonia para el inductor\n",
    "\n",
    "$$C_s = \\frac{1}{L_1 \\cdot \\omega^2}$$\n",
    "\n",
    "$$C_s= 3.18e-10 F$$\n",
    "\n",
    "$$c'_{11} = (\\frac{N_1}{N_2})^2 \\cdot c_{11}$$\n",
    "\n",
    "$$C_11t= 1.25e-12 F$$\n",
    "\n",
    "\n",
    "#### Divisor capacitivo\n",
    "\n",
    "Capacitor a tope de bobina\n",
    "\n",
    "$$C'_s = C_s - c'_{11}$$\n",
    "\n",
    "$$C_Si= 3.15e-10 F$$\n",
    "\n",
    "\n",
    "#### Relación del divisor\n",
    "\n",
    "$$Nc1 =\\sqrt{\\frac{r'_g}{r_g}}$$\n",
    "\n",
    "\n",
    "$$Nc1 = 2.83 $$\n",
    "\n",
    "\n",
    "#### Calculo del divisor\n",
    "\n",
    "$$Q_{m2} = r'_g \\omega C'_s$$\n",
    "\n",
    "$$Q_{m2} = 10k\\Omega \\cdot (2 \\pi 1e6MHz 317.0e-12 F)$$ \n",
    "\n",
    "$$Qm2 = 19.69 $$\n",
    "\n",
    "Como $Q_{m2} > 10$ \n",
    "\n",
    "$$Q_{m1} \\sim \\frac{Q_{m2}}{N}$$\n",
    "\n",
    "$$Q_{m1} \\sim 7.11$$\n",
    "\n",
    "Como $Q_{m1} < 10$ entonces: \n",
    "\n",
    "Volvemos a calcular $Q_{m1}$: \n",
    "\n",
    "$$Q_{m1} = \\sqrt[]{\\frac{(1+Q_{m2}^2)}{N^2}-1}$$\n",
    "\n",
    "\n",
    "$$Qm1 = 6.90 $$\n",
    "\n",
    "$$C_2 = \\frac{Q_{m1}}{r_g \\omega}$$ \n",
    "\n",
    "$$C_2= 8.78e-10 F$$\n",
    "\n",
    "\n",
    "$$C_2' = C_2(1+\\frac{1}{Q_{m1}^2})$$\n",
    "\n",
    "$$C     = \\frac{C'_s}{ (1+\\frac{1}{Q_{m2}^2})}$$\n",
    "\n",
    "$$C_1 = \\frac{C_2' C}{C_2' - C}$$\n",
    "\n",
    "$$C_1= 4.80e-10 F$$"
   ]
  },
  {
   "cell_type": "code",
   "execution_count": 171,
   "metadata": {},
   "outputs": [
    {
     "name": "stdout",
     "output_type": "stream",
     "text": [
      "$$C_S= 3.18e-10 F$$\n",
      "$$C_11t= 1.25e-12 F$$\n",
      "$$C_Si= 3.17e-10 F$$\n",
      "3.170598861837907e-10\n",
      "$$Nc1 = 2.83 $$\n",
      "$$Qm2 = 19.92 $$\n",
      "$$Qm1 = 6.98 $$\n",
      "$$C_1= 4.856e-10 F$$\n",
      "$$C_2= 8.888e-10 F$$\n"
     ]
    }
   ],
   "source": [
    "CS = 1/(L1*wo**2) \n",
    "print('$$C_S= {:1.2e} F$$'.format(CS))\n",
    "\n",
    "c11t = c11/((N1/N2)**2)\n",
    "print('$$C_11t= {:1.2e} F$$'.format(c11t))\n",
    "\n",
    "CSi = CS - c11t\n",
    "print('$$C_Si= {:1.2e} F$$'.format(CSi))\n",
    "\n",
    "\n",
    "# Divisor Capacitivo transistor\n",
    "# R//C == --C1-C2//Ro\n",
    "R = rt\n",
    "C = CSi \n",
    "print(C)\n",
    "Ro= rg\n",
    "\n",
    "# (ro/ri) = (nc)^2\n",
    "nc1 =  (R/Ro)**(1/2) \n",
    "print('$$Nc1 = {:1.2f} $$'.format(nc1))\n",
    "\n",
    "Qm2 = wo*C*R \n",
    "print('$$Qm2 = {:1.2f} $$'.format(Qm2))\n",
    "\n",
    "Qm1 = ( ((1+Qm2**2)/nc1**2) - 1)**0.5\n",
    "print('$$Qm1 = {:1.2f} $$'.format(Qm1))\n",
    "\n",
    "# para el calculo de los capacitorees\n",
    "C2  = Qm1/(Ro*wo)\n",
    "\n",
    "C2p = C2*(1+1/Qm1**2)\n",
    "\n",
    "Cp  = C /(1+1/Qm2**2)\n",
    "\n",
    "C1  = C2p*Cp/(C2p-Cp)\n",
    "\n",
    "print('$$C_1= {:1.3e} F$$'.format(C1))\n",
    "print('$$C_2= {:1.3e} F$$'.format(C2))\n",
    "\n",
    "#C1 = nc1/(nc1-1)*C\n",
    "#C2 = nc1*C\n",
    "#print(C2, C1, nc1)"
   ]
  },
  {
   "cell_type": "markdown",
   "metadata": {},
   "source": [
    "## 3. Determinar C3,C4,C5,C6\n",
    "\n",
    "$$C_3 = C_s - c_{22}$$\n",
    "\n",
    "$$C_3= 3.08e-10 F$$\n",
    "\n",
    "\n",
    "$$C_4= 2.76e-11 F$$\n",
    "\n",
    "### Divisor capacitivo \n",
    "\n",
    "$$N =\\sqrt{\\frac{r_{22}}{r_l}}$$\n",
    "\n",
    "\n",
    "\n",
    "Calculo del divisor\n",
    "\n",
    "$$Q_{m2} = r_{22} \\omega C_s$$\n",
    "\n",
    "$$Q_{m2} = 20$$\n",
    "\n",
    "$$Q_{m1} \\sim \\frac{Q_{m2}}{N}$$\n",
    "\n",
    "$$Q_{m1} \\sim 10$$\n",
    "\n",
    "Como $Q_{m1} < 10$ entonces: \n",
    "\n",
    "Volvemos a calcular $Q_{m1}$: \n",
    "\n",
    "$$Q_{m1} = \\sqrt[]{\\frac{(1+Q_{m2}^2)}{N^2}-1}$$\n",
    "\n",
    "$$Qm1 = 9.96$$\n",
    "\n",
    "$$C_6 = \\frac{Q_{m1}}{r_l \\omega}$$ \n",
    "\n",
    "$$C_6= 6.34e-10 F$$\n",
    "\n",
    "$$C_6' = C_6(1+\\frac{1}{Q_{m1}^2})$$\n",
    "\n",
    "\n",
    "$$C    = \\frac{C'_s}{ (1+\\frac{1}{Q_{m2}^2})}$$\n",
    "\n",
    "\n",
    "$$C_5 = \\frac{C_2' C}{C_2' - C}$$\n",
    "\n",
    "$$C_5= 4.95e-10 F$$\n",
    "\n"
   ]
  },
  {
   "cell_type": "code",
   "execution_count": 161,
   "metadata": {},
   "outputs": [
    {
     "name": "stdout",
     "output_type": "stream",
     "text": [
      "$$C_3= 3.08e-10 F$$\n",
      "$$C_4= 2.76e-11 F$$\n",
      "$$Nc2 = 2.00$$\n",
      "$$Qm2 = 20.00$$\n",
      "$$Qm1 = 9.96$$\n",
      "$$C_5= 6.27e-10 F$$\n",
      "$$C_6= 6.34e-10 F$$\n"
     ]
    }
   ],
   "source": [
    "#  calculo a la salida sobre CARGA\n",
    "L3 = L2\n",
    "\n",
    "C3 = CS - c22\n",
    "print('$$C_3= {:1.2e} F$$'.format(C3))\n",
    "\n",
    "C4 = k*CS\n",
    "print('$$C_4= {:1.2e} F$$'.format(C4))\n",
    "\n",
    "\n",
    "# Divisor Capacitivo transistor\n",
    "R = r22\n",
    "C = CS \n",
    "Ro= rl\n",
    "# (ro/ri) = (nc)^2\n",
    "nc2 =  (R/Ro)**(1/2) \n",
    "print('$$Nc2 = {:1.2f}$$'.format(nc2))\n",
    "\n",
    "Qm2 = wo*C*R \n",
    "print('$$Qm2 = {:1.2f}$$'.format(Qm2))\n",
    "\n",
    "Qm1 = ((1+Qm2**2)/nc2**2-1)**0.5\n",
    "print('$$Qm1 = {:1.2f}$$'.format(Qm1))\n",
    "\n",
    "\n",
    "# Dado que Qm2 y Qm1 son mayores a 10, puedo emplear las ecuaciones aproximadas \\\n",
    "# para el calculo de los capacitorees\n",
    "#C5 = nc/(nc-1)*C\n",
    "#C6 = nc*C\n",
    "#print(nc, C5, C6)\n",
    "\n",
    "# para el calculo de los capacitorees\n",
    "C6  = Qm1/(Ro*wo)\n",
    "C6p = C6*(1+1/Qm1**2)\n",
    "\n",
    "Cp  = C /(1+1/Qm2**2)\n",
    "C5  = C6p*Cs/(C6p-Cp)\n",
    "\n",
    "print('$$C_5= {:1.2e} F$$'.format(C5))\n",
    "print('$$C_6= {:1.2e} F$$'.format(C6))\n"
   ]
  },
  {
   "cell_type": "markdown",
   "metadata": {},
   "source": [
    "\n",
    "## 4. Determinar el rechazo de Frecuencia Imagen del Rx\n",
    "\n",
    "## Butterwoth de tercer orden\n",
    "\n",
    "La transferencia normalizada de un Butterwoth de orden $n$ puede expresarse como: \n",
    "\n",
    "$$\\bar{|H(f_{c})|}=\\frac{1}{\\sqrt{1+(\\frac{\\chi(f)}{\\chi(f_c)})^{2\\cdot n}}}$$ \n",
    "\n",
    "donde:\n",
    "\n",
    "$\\chi(f)   = 2 \\cdot Q \\cdot \\frac{(f-f_o)}{f_o}$\n",
    "\n",
    "$\\chi(f_c) = 2 \\cdot Q \\cdot \\frac{(f_c-f_o)}{f_o}$\n",
    "\n",
    "$n = 2$\n",
    "\n",
    "$$\\bar{|H(f_{c})|}=\\frac{1}{\\sqrt{1+(\\frac{(f-f_o)}{(f_c-f_o)})^{6}}}$$ \n",
    "\n",
    "\n"
   ]
  },
  {
   "cell_type": "code",
   "execution_count": 162,
   "metadata": {},
   "outputs": [
    {
     "name": "stdout",
     "output_type": "stream",
     "text": [
      "$$| \bar A_v(img) | = 1.66e-04\n",
      "$$| \bar A_v(img) | = -75.60dB\n"
     ]
    }
   ],
   "source": [
    "fif = 455e3\n",
    "fosc = fo + fif\n",
    "\n",
    "fimg = fo - 2 * fif\n",
    "\n",
    "Avimg = 1/(1+( (fimg-fo)/(BW/2)) **6)**0.5\n",
    "\n",
    "print('$$| \\bar A_v(img) | = {:1.2e}'.format(Avimg) )\n",
    "\n",
    "print('$$| \\bar A_v(img) | = {:1.2f}dB'.format(20*np.log10(Avimg)) )"
   ]
  },
  {
   "cell_type": "markdown",
   "metadata": {},
   "source": [
    "## 5. Determinar la ganancia de potencia (G=Pout/Pin) del amplificador de RF en frecuencia central\n",
    "\n",
    "$$G_{1} = (\\frac{v_o}{v_i})^2 \\frac{r_i}{r_o}$$\n",
    "\n",
    "\n",
    "$$| \\bar{Av} | = \\frac{v_o}{v_i}$$\n",
    "\n",
    "$$| \\bar{Av} | = \\frac{v_o}{v_a} \\cdot \\frac{v_a}{v_b} \\cdot \\frac{v_b}{v_i}$$\n",
    "\n",
    "$$\\frac{v_o}{v_a} = 1/N_2$$\n",
    "\n",
    "$$A(S) = \\frac{-S gm M w_o^4  }{(s^2+s\\frac{w_o}{Q_o}+w_o^2)(s^2+s\\frac{w_o}{Q_o}+w_o^2)-k^2 w_o^4 }$$ \n",
    "\n",
    "\n",
    "$$A(\\chi) = \\frac{j gm M w_o Q^2  }{(1+j(\\chi+h))(1+j(\\chi-h)) }$$ \n",
    "\n",
    "$$A(\\chi_o) = \\frac{j gm M w_o Q^2  }{(1+j(h))(1+j(h)) } = \\frac{j gm M w_o Q^2  }{(1+h^2) }$$ \n",
    "\n",
    "$$A(\\chi_o) = \\frac{j gm k L_2 w_o Q_2^2  }{(1+h^2) }$$ \n",
    "\n",
    "$$\\frac{v_a}{v_b} = \\frac{j gm k L_2 w_o Q_2^2  }{(1+h^2) }$$ \n",
    "\n",
    "\n",
    "$$\\frac{v_b}{v_i} =N_1$$\n"
   ]
  },
  {
   "cell_type": "code",
   "execution_count": 183,
   "metadata": {},
   "outputs": [
    {
     "name": "stdout",
     "output_type": "stream",
     "text": [
      "490.7477288111818\n",
      "245.3738644055909\n",
      "47.796566053809606\n",
      "15052.083333333325\n",
      "41.77596614052998\n"
     ]
    }
   ],
   "source": [
    "R1  = 36e3\n",
    "R2  = 18e3\n",
    "RE  = 1.2e3\n",
    "VCC = 12\n",
    "HFE = 300 \n",
    "VBE = 0.6\n",
    "\n",
    "VBB = VCC/(R1+R2)*R2\n",
    "VE  = VBB-VBE\n",
    "IE  = VE/RE\n",
    "IC  = IE\n",
    "\n",
    "gm = 40*IC\n",
    "\n",
    "h = k * Q2\n",
    "M = k*L2\n",
    "\n",
    "\n",
    "Avdso = gm*wo*M*Q2**2/(1+h**2)\n",
    "print(Avdso)\n",
    "\n",
    "Avo = nc1*N2/N1 * Avdso * 1/nc2\n",
    "\n",
    "print(Avo)\n",
    "print(20*np.log10(Avo))\n",
    "\n",
    "G = Avo**2 *rg/2 *1/rl\n",
    "\n",
    "print(G)\n",
    "print(10*np.log10(G))\n"
   ]
  },
  {
   "cell_type": "markdown",
   "metadata": {},
   "source": [
    "## 6. Si se cambian los sintonizados de salida por un único sintonizado, manteniendo las condiciones de adaptación, y el elemento activo se reemplaza por otro con los mismos parámetros admitancia excepto en el parámetro y12 que pasa a valer y12=-jwo10-12 S, determinar, justificando la respuesta, si el circuito es estable\n",
    "\n",
    "\n",
    "Linvil:\n",
    "\n",
    "$$C = \\frac{| y_{12} \\cdot y_{21} | +\\Re(y_{12} \\cdot y_{21})}{2 \\cdot \\Re(y_{11}) \\cdot \\Re(y_{22})}$$\n",
    "\n",
    "coeficiente de linvill $C= 0.02$, es incondicionalmente estable.\n"
   ]
  },
  {
   "cell_type": "code",
   "execution_count": 184,
   "metadata": {},
   "outputs": [
    {
     "name": "stdout",
     "output_type": "stream",
     "text": [
      "###############  LINVILL   #####################\n",
      "coeficiente de linvill C= 0.02\n",
      "Es incondicionalmente estable\n"
     ]
    }
   ],
   "source": [
    "fo = 1e6\n",
    "wo= 2*np.pi*fo\n",
    "# Parametros del transistor 120 MHz\n",
    "y11 =   1.0e-3 \n",
    "y12 = - 0.1e-6 *1j\n",
    "y21 =  50.0e-3  \n",
    "y22 =   0.1e-3 \n",
    "\n",
    "\n",
    "C = (abs(y12*y21)+(y12*y21).real)/(2*y11.real*y22.real)\n",
    "print('###############  LINVILL   #####################')\n",
    "print( 'coeficiente de linvill C= {:4.2F}' .format(C))\n",
    "if C < 1:\n",
    "    print( 'Es incondicionalmente estable')\n",
    "else :\n",
    "    print( 'Es potencialmente inestable')\n",
    "\n"
   ]
  },
  {
   "cell_type": "markdown",
   "metadata": {},
   "source": [
    "## 7. Sabiendo que el resto del Rx (Mezclador, FI, Detect, Audio) tiene una NF=15 dB y el ancho de banda de ruido Ben=1 kHz está dado por un filtro a la salida de la FI determinar el nivel de señal en bornes de antena (V1). \n",
    "\n",
    "\n",
    "$$N_i = KTB$$\n",
    "\n",
    "$$N_i = 1.38e−23 300 1e3$$\n",
    "\n",
    "$$N_i = 4.14e-18 W$$\n",
    "\n",
    "$$SNR_i = SNR_o \\cdot NF_t$$\n",
    "\n",
    "$$P_i = SNR_i \\cdot N_i$$\n",
    "\n",
    "$$V_i = \\sqrt{P_i \\cdot r_g}$$\n",
    "\n",
    "$$V_i = 1.279e-06 V$$"
   ]
  },
  {
   "cell_type": "code",
   "execution_count": 189,
   "metadata": {},
   "outputs": [
    {
     "name": "stdout",
     "output_type": "stream",
     "text": [
      "$$V_i = 1.279e-06 V$$\n"
     ]
    }
   ],
   "source": [
    "# A la salida del Rx (sobre el parlante) hay una señal alterna de 1V y SNR = 10 dB.\n",
    "NTfd=15\n",
    "SNR0d=10\n",
    "Tant = 300\n",
    "BEN  = 1e3\n",
    "\n",
    "NFt = 10**(NTfd/10)\n",
    "\n",
    "SNRo = 10**(SNR0d/10)\n",
    "\n",
    "SNRi = SNRo*NFt\n",
    "\n",
    "Ni   = 1.38e-23 * Tant * BEN\n",
    "\n",
    "Pi   = SNRi*Ni\n",
    "\n",
    "Vi   = (Pi*rg)**0.5\n",
    "\n",
    "\n",
    "print('$$V_i = {:1.3e} V$$'.format(Vi))\n"
   ]
  },
  {
   "cell_type": "markdown",
   "metadata": {},
   "source": [
    "## 8. Determinar el ancho de banda del Rx sabiendo que la etapa de FI está conformada por 3 Simple Sintonizados sincrónicos\n",
    "\n",
    "\n"
   ]
  },
  {
   "cell_type": "code",
   "execution_count": 198,
   "metadata": {},
   "outputs": [
    {
     "name": "stdout",
     "output_type": "stream",
     "text": [
      "$$Q_if = 33.218$$\n"
     ]
    }
   ],
   "source": [
    "#  Los canales adyacentes se encuentran a +/- 50 kHz. Se especifica un rechazo mínimo a los mismos de 44 dB\n",
    "\n",
    "ATTca = 44 #dB\n",
    "fif   = 455e3\n",
    "fca   = 50e3\n",
    "fci   = fif + fca\n",
    "Qif = ((10**(44/20)**(2/3))-1)**(0.5) /(fci/fif-fif/fci)\n",
    "\n",
    "\n",
    "\n",
    "print('$$Q_if = {:2.3f}$$'.format(Qif))\n"
   ]
  },
  {
   "cell_type": "markdown",
   "metadata": {},
   "source": [
    "## 9. Al Rx ingresa una señal de AM modulada por un tono de audio de 5 kHz con m=80%. Determinar el índice de modulación a la entrada del detector\n"
   ]
  },
  {
   "cell_type": "code",
   "execution_count": 211,
   "metadata": {},
   "outputs": [
    {
     "name": "stdout",
     "output_type": "stream",
     "text": [
      "0.5202930187431941\n"
     ]
    }
   ],
   "source": [
    "mi   = 0.8\n",
    "Vti = mi/2\n",
    "dfti = 5e3 \n",
    "Xti = 2*Qif*dfti/fo\n",
    "\n",
    "Av = 1/(1+Xti)**(3/2)\n",
    "\n",
    "Vto = Av*Vti\n",
    "\n",
    "mo = Vto*2\n",
    "print(mo)"
   ]
  },
  {
   "cell_type": "markdown",
   "metadata": {},
   "source": [
    "## 10. Por una falla en el OL el mismo corre su frecuencia a 1460 kHz. Obtener el índice de modulación a la entrada del detector\n"
   ]
  },
  {
   "cell_type": "code",
   "execution_count": 210,
   "metadata": {},
   "outputs": [
    {
     "name": "stdout",
     "output_type": "stream",
     "text": [
      "0.9014788429518624\n"
     ]
    }
   ],
   "source": [
    "mi   = 0.8\n",
    "Vti = mi/2\n",
    "dfti = 0  \n",
    "Xti = 2*Qif*dfti/fo\n",
    "Avi = 1/(1+Xti)**(3/2)\n",
    "Vtoi = Avi*Vti\n",
    "\n",
    "Vtc  = 1\n",
    "dftc = 5e3\n",
    "Xtc = 2*Qif*dftc/fo\n",
    "Avc = 1/(1+Xtc)**(3/2)\n",
    "Vtoc = Avc*Vtc\n",
    "\n",
    "\n",
    "Vts  = mi/2\n",
    "dfts = 10e3\n",
    "Xts = 2*Qif*dfts/fo\n",
    "Avs = 1/(1+Xts)**(3/2)\n",
    "Vtos = Avs*Vts\n",
    "\n",
    "mo  = ((Vtoc +Vtoi +Vtos)-(Vtoc - Vtoi -Vtos))/((Vtoc - Vtoi -Vtos)+(Vtoc +Vtoi +Vtos))\n",
    "\n",
    "\n",
    "print(mo)"
   ]
  },
  {
   "cell_type": "code",
   "execution_count": 165,
   "metadata": {},
   "outputs": [
    {
     "name": "stdout",
     "output_type": "stream",
     "text": [
      ".param rg  = 1.2500e+03 \n",
      ".param L1  = 7.9577e-05 \n",
      ".param L12 = 9.9472e-06 \n",
      ".param L2  = 7.9577e-05 \n",
      ".param L3  = 7.9577e-05 \n",
      ".param C1  = 4.8556e-10 \n",
      ".param C2  = 8.8884e-10 \n",
      ".param C3  = 3.0831e-10 \n",
      ".param C4  = 2.7566e-11 \n",
      ".param C5  = 6.2706e-10 \n",
      ".param C6  = 6.3423e-10 \n",
      ".param k = 8.6603e-02 \n",
      ".param g11 = 8.0000e-04 \n",
      ".param c11 = 1.0000e-11 \n",
      ".param g21 = 1.1333e-01 \n",
      ".param g22 = 1.0000e-04 \n",
      ".param c22 = 1.0000e-11 \n",
      ".param rl = 2.5000e+03 \n"
     ]
    }
   ],
   "source": [
    "print('.param rg  = {:1.4e} '.format(rg))\n",
    "print('.param L1  = {:1.4e} '.format(L1))\n",
    "print('.param L12 = {:1.4e} '.format(L12))\n",
    "print('.param L2  = {:1.4e} '.format(L2))\n",
    "print('.param L3  = {:1.4e} '.format(L3))\n",
    "print('.param C1  = {:1.4e} '.format(C1))\n",
    "print('.param C2  = {:1.4e} '.format(C2))\n",
    "print('.param C3  = {:1.4e} '.format(C3))\n",
    "print('.param C4  = {:1.4e} '.format(C4))\n",
    "print('.param C5  = {:1.4e} '.format(C5))\n",
    "print('.param C6  = {:1.4e} '.format(C6))\n",
    "print('.param k = {:1.4e} '.format(k))\n",
    "\n",
    "print('.param g11 = {:1.4e} '.format(1/r11))\n",
    "print('.param c11 = {:1.4e} '.format(c11))\n",
    "\n",
    "\n",
    "\n",
    "print('.param g21 = {:1.4e} '.format(40*IC))\n",
    "\n",
    "\n",
    "print('.param g22 = {:1.4e} '.format(1/r22))\n",
    "print('.param c22 = {:1.4e} '.format(c22))\n",
    "\n",
    "\n",
    "\n",
    "print('.param rl = {:1.4e} '.format(rl))\n"
   ]
  },
  {
   "cell_type": "code",
   "execution_count": null,
   "metadata": {},
   "outputs": [],
   "source": []
  }
 ],
 "metadata": {
  "kernelspec": {
   "display_name": "Python 3",
   "language": "python",
   "name": "python3"
  },
  "language_info": {
   "codemirror_mode": {
    "name": "ipython",
    "version": 3
   },
   "file_extension": ".py",
   "mimetype": "text/x-python",
   "name": "python",
   "nbconvert_exporter": "python",
   "pygments_lexer": "ipython3",
   "version": "3.7.0"
  }
 },
 "nbformat": 4,
 "nbformat_minor": 2
}
