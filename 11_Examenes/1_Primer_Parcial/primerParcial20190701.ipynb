{
 "cells": [
  {
   "cell_type": "markdown",
   "metadata": {},
   "source": [
    "\n",
    "![Parcial](fig/primerparcial20190701a.jpg) \n"
   ]
  },
  {
   "cell_type": "markdown",
   "metadata": {},
   "source": [
    "\n",
    "![Parcial](fig/primerparcial20190701b.jpg)"
   ]
  },
  {
   "cell_type": "markdown",
   "metadata": {},
   "source": [
    "NOTA : T = 300 K\n",
    "\n",
    "# Respuesta 1\n",
    "\n",
    "La figura ilustra la ubicación de los polos de los dobles sintonizados. \n",
    "\n",
    "![Polos](fig/butterdosdobles.png)\n",
    "\n",
    "De la figura, los polos correspondientes al primer doble sintonizado permiten calcular $Q$,$k$ y $h$ en base a su ubicación. \n",
    "\n",
    "$f_o = 100 MHz$\n",
    "\n",
    "$BW = 1 MHz$\n",
    "\n",
    "$Q_1  = \\frac{f_o}{2 \\cdot \\frac{BW}{2} \\cdot sin(\\frac{45}{2})} = 261.31$\n",
    "\n",
    "$K_1  = \\frac{BW \\cdot cos(\\frac{45}{2})}{fo}  = 0.0092$\n",
    "\n",
    "## $h_1  = Q_1 \\cdot  K_1  = 2.41$"
   ]
  },
  {
   "cell_type": "markdown",
   "metadata": {},
   "source": [
    "# Respuesta  2\n",
    "\n",
    "De igual manera para el segundo doble sintonizado:\n",
    "\n",
    "$Q_2  = \\frac{f_o}{2 \\cdot \\frac{BW}{2} \\cdot sin(45 + \\frac{45}{2})} = 108.23$\n",
    "\n",
    "$K_2  = \\frac{BW \\cdot cos(45+\\frac{45}{2})}{fo}  = 0.0038$\n",
    "\n",
    "## $h_2  = Q_2 \\cdot  K_2  = 0.41$\n",
    "\n"
   ]
  },
  {
   "cell_type": "markdown",
   "metadata": {},
   "source": [
    "# Respuesta  3 \n",
    "\n",
    "Usando la transferencia del filtro Butterworth:\n",
    "\n",
    "$|A| = \\frac{1}{\\sqrt{1 +  (\\frac{f_{imag} - f_o}{f_c - f_o}})^{2\\cdot3} }$\n",
    "\n",
    "$|A| = \\frac{1}{\\sqrt{1 +  (\\frac{2 \\cdot 10.7MHz}{\\frac{1MHz}{2}}})^{6} } = 1.27 \\times 10^{-05}$\n",
    "\n",
    "## $|A| = -97.88dB$\n",
    "\n"
   ]
  },
  {
   "cell_type": "markdown",
   "metadata": {},
   "source": [
    "# Respuesta  4\n",
    "\n",
    "# Respuesta  4\n",
    "\n",
    "La trasferencia del primero doble sintonizado:\n",
    "\n",
    "$$\\frac{v_1}{i_g}= j \\cdot \\sqrt{L_1 L_2} \\cdot  \\omega_o \\cdot Q_1 \\frac{h_1}{ [1+j (\\chi-h_1))] [1+j (\\chi+h_1))]}$$\n",
    "\n",
    "donde \n",
    "\n",
    "$$L_1 = \\frac{r_g}{\\omega_o Q_1}$$\n",
    "\n",
    "$$L1= 3.05e-10 Hy$$\n",
    "\n",
    "$$C1= 8.32e-09 F$$\n",
    "\n",
    "$$L_2 = \\frac{r_{11}}{\\omega_o Q_1}$$\n",
    "\n",
    "$$L2= 6.09e-08 Hy$$\n",
    "\n",
    "$$C2= 4.16e-11 F$$\n",
    "\n",
    "$$|\\frac{v_1}{i_g}(\\chi_o)|=  250.000$$\n",
    "\n",
    "$$\\frac{v_o}{v_1}= j \\cdot g_m \\cdot \\sqrt{L_3 L_4} \\cdot  \\omega_o \\cdot Q_2 \\frac{h_2}{ [1+j (\\chi-h_2))] [1+j (\\chi+h_2))]}$$\n",
    "\n",
    "$$L_3 = \\frac{r_22}{\\omega_o Q_2}$$\n",
    "\n",
    "$$L3= 2.94e-07 Hy$$\n",
    "\n",
    "$$C3= 8.61e-12 F$$\n",
    "\n",
    "$$L_4 = \\frac{r_{l}}{\\omega_o Q_2}$$\n",
    "\n",
    "$$L4= 1.47e-08 Hy$$\n",
    "\n",
    "$$C4= 1.72e-10 F$$\n",
    "\n",
    "\n",
    "$$|\\frac{v_o}{v_1}(\\chi_o)|=  15.811$$\n",
    "\n",
    "\n",
    "$$|\\frac{v_o}{i_g}(\\chi_o)|= |\\frac{v_1}{i_g}(\\chi_o)| \\cdot |\\frac{v_o}{v_1}(\\chi_o)|$$ \n",
    "\n",
    "$$|\\frac{v_o}{i_g}(\\chi_o)|= 3952.847$$\n",
    "\n",
    "Siendo $i_g = \\frac{v_i}{r_g}$\n",
    "\n",
    "$$|\\frac{v_o}{v_i}(\\chi_o)|= 79.04$$\n",
    "\n",
    "Entonces \n",
    "\n",
    "$$v_o = 790.4 \\mu V$$\n"
   ]
  },
  {
   "cell_type": "markdown",
   "metadata": {},
   "source": [
    "# Respuesta  5\n",
    "\n",
    "$A(\\chi) = \\frac{j gm M w_o Q^2  }{(1+j(\\chi+h))(1+j(\\chi-h)) }$ \n",
    "\n",
    "$A(\\chi_o) = \\frac{j gm M w_o Q^2  }{(1+j(h))(1+j(h)) } = \\frac{j gm M w_o Q^2  }{(1+h^2) }$ \n",
    "\n",
    "$\\bar{A}(\\chi) = \\frac{A(\\chi)}{A(\\chi_o)} = \\frac{1+h^2 }{ (1+j(\\chi+h))(1+j(\\chi-h)) }$ \n",
    "\n",
    "\n",
    "$| \\bar{A}(\\chi) | =  \\frac{1+h^2 }{\\sqrt{\\chi^4+2\\chi^2(1-h^2)+(1+h^2)^2} } = \\frac{1}{\\sqrt{2}}$ \n",
    "\n",
    "\n",
    "$| \\bar{A}(\\chi) | =  \\frac{(1+h^2)^2 }{\\chi^4+2\\chi^2(1-h^2)+(1+h^2)^2}  = \\frac{1}{2}$ \n",
    "\n",
    "$\\chi^4+2\\chi^2(1-h^2)+(1+h^2)^2 = 2 \\cdot (1+h^2)^2$\n",
    "\n",
    "$\\chi^4+2\\chi^2(1-h^2) =  (1+h^2)^2$\n",
    "\n",
    "$\\chi^4+2\\chi^2(1-h^2)   - (1+h^2)^2 = 0$\n",
    "\n",
    "$\\chi^4+2\\chi^2(1-2.41^2)   - (1+2.41^2)^2 = 0$\n",
    "\n",
    "$a = 1$\n",
    "\n",
    "$b =  2 \\cdot (1-2.41^2) = -9.61$\n",
    "\n",
    "$c =  - (1+2.41^2)^2 = -46.35$ \n",
    "\n",
    "$x = \\frac{-b + \\sqrt{b^2- 4 \\cdot a \\cdot c}}{2 \\cdot a} = 13.138$\n",
    "\n",
    "$\\chi = \\sqrt{x} = 3.62$\n",
    "\n",
    "$\\frac{BW}{2} = \\frac{\\chi \\cdot fo }{2 \\cdot Q}$\n",
    "\n",
    "$BW = \\frac{ 3.62 \\cdot 100 \\times 10^{6}}{261}= 1.38\\times 10^{6}$\n",
    "\n",
    "## $BW =  1.38\\times 10^{6}$"
   ]
  },
  {
   "cell_type": "markdown",
   "metadata": {},
   "source": [
    "# Respuesta  6\n",
    "Buscamos los máximo y mánimos de la transferencia:\n",
    "\n",
    "$\\frac{d}{d\\chi} (\\chi^4+2\\chi^2(1-h^2)+(1+h^2)^2)= 0$ \n",
    "\n",
    "\n",
    "$4 \\chi^3 + 4\\chi(1-h^2) = 0$ \n",
    "\n",
    "$\\chi = 0$\n",
    "\n",
    "$4 \\chi^2 = - 4 (1-h^2)$ \n",
    "\n",
    "$\\chi^2  = h^2 - 1$ \n",
    "\n",
    "$\\chi^2  = h^2 - 1 =  4.8$ \n",
    "\n",
    "$\\chi   = 2.192$ \n",
    "\n",
    "\n",
    "Tranferencia $\\chi = 0$:  \n",
    "\n",
    "$| \\bar{A}(\\chi= 0) | =  \\frac{1+(2.41)^2 }{\\sqrt{0^4+2\\cdot 0^2 \\cdot (1-(2.41)^2)+(1+(2.41)^2)^2} }$ \n",
    "\n",
    "$| \\bar{A}(\\chi= 0) | =  \\frac{1+(2.41)^2 }{(1+(2.41)^2)} = 1$ \n",
    "\n",
    "Tranferencia $\\chi = 2.192$:  \n",
    "\n",
    "$| \\bar{A}(\\chi= 0) | =  \\frac{1+(2.41)^2 }{\\sqrt{2.192^4+2\\cdot 2.192^2 \\cdot (1-(2.41)^2)+(1+(2.41)^2)^2} } = 1.412$ \n",
    "\n",
    "\n",
    "## Por lo tanto el ripple en la banda de paso es de $1.4$ 0 $3 dB$."
   ]
  },
  {
   "cell_type": "markdown",
   "metadata": {},
   "source": [
    "# Respuesta  7\n",
    "\n",
    "Stern:\n",
    "$K = \\frac{2 \\cdot \\Re(y_{11} + y_{11}) \\cdot \\Re(y_{22}+ y_{22})}{| y_{12} \\cdot y_{21} | +\\Re(y_{12} \\cdot y_{21})}$\n",
    "\n",
    "$\\frac{2 \\cdot 2 \\cdot \\Re(y_{11}) \\cdot 2 \\cdot \\Re(y_{22})}{| y_{12} \\cdot y_{21} | +\\Re(y_{12} \\cdot y_{21})} =1$\n",
    "\n",
    "$| y_{12} \\cdot y_{21} | +\\Re(y_{12} \\cdot y_{21}) = 8 \\cdot \\Re(y_{11}) \\cdot \\Re(y_{22})$\n",
    "\n",
    "\n",
    "Recordando :\n",
    "\n",
    "$y_{12} = -j \\cdot \\omega C$\n",
    "\n",
    "$y_{21} = gm$\n",
    "\n",
    "$y_{12} \\cdot y_{21}  =  -j \\cdot \\omega C \\cdot gm$\n",
    "\n",
    "$| y_{12} \\cdot y_{21} | =  \\omega C \\cdot gm$\n",
    "\n",
    "$\\Re(y_{12} \\cdot y_{21}) = 0$\n",
    "\n",
    "$\\omega C \\cdot gm = 8 \\cdot \\Re(y_{11}) \\cdot \\Re(y_{22})$\n",
    "\n",
    "$C = \\frac{8 \\cdot \\Re(y_{11}) \\cdot \\Re(y_{22})}{\\omega  \\cdot gm}$\n",
    "\n",
    "$C = \\frac{8 \\cdot 100 \\mu S \\cdot 50 \\mu S}{2 \\pi 100 \\times 10^{6}  \\cdot 10 mS}  = 6.36 \\times 10^{-15}$\n",
    "\n",
    "## $C =  6.36 \\times 10^{-15}$\n"
   ]
  },
  {
   "cell_type": "markdown",
   "metadata": {},
   "source": [
    "# Respuesta  8\n",
    "\n",
    "$F_{a}= F_{tr} + \\frac{F_{2}- 1}{G_{1a}}$\n",
    "\n",
    "$gm_{a}^2 \\cdot F_{a}= gm_{a}^2 \\cdot F_{tr} + \\frac{F_{2}- 1}{K_{1a}}$\n",
    "\n",
    "$\\frac{F_{2}- 1}{K_{1a}} = gm_{a}^2 \\cdot F_{a} - gm_{a}2 \\cdot F_{tr}$\n",
    "\n",
    "$\\frac{F_{2}- 1}{K_{1b}} = gm_{b}^2 \\cdot F_{b} - gm_{b}2 \\cdot F_{tr}$\n",
    "\n",
    "$F_{a} = 3.16$\n",
    "\n",
    "$G_{1a} = gm_{a}^2 \\cdot k$\n",
    "\n",
    "$F_{b} = 100$\n",
    "\n",
    "$G_{1b} = gm_{b}^2 \\cdot k$\n",
    "\n",
    "$gm_{a}^2 \\cdot F_{a} - gm_{a}^2 \\cdot F_{tr} = gm_{b}^2 \\cdot F_{b} - gm_{b}^2 \\cdot F_{tr}$\n",
    "\n",
    "$(gm_{b}^2  - gm_{a}^2) \\cdot F_{tr} = gm_{b}^2 \\cdot F_{b} - gm_{a}^2 \\cdot F_{b}$\n",
    "\n",
    "$F_{tr} = \\frac{gm_{b}^2 \\cdot F_{b} - gm_{a}^2 \\cdot F_{b}}{(gm_{b}^2  - gm_{a}^2)} = 2.12$\n",
    "\n",
    "## $F_{tr} = 2.12$\n"
   ]
  },
  {
   "cell_type": "markdown",
   "metadata": {},
   "source": [
    "# Respuesta  9\n",
    "\n",
    "La  relación de señal a ruido a la salida :\n",
    "\n",
    "$\\frac{S_o}{N_o}  = 100$\n",
    "\n",
    "$F = \\frac{\\frac{S_i}{N_i}}{\\frac{S_o}{N_o}} =  3.16$\n",
    "\n",
    "$\\frac{S_i}{N_i}  = 316$\n",
    "\n",
    "$N_i = k_B T B = 1.38 \\times 10^{-23} \\cdot 300K \\cdot 100KHz = 4.14 \\times 10^{-16} W$\n",
    "\n",
    "$S_i = 1.30  \\times 10^{-13} W$ \n",
    "\n",
    "$V_{irms} = \\sqrt{S_i \\cdot 2 \\cdot 50} = 3.60\\times 10^{-6} V$\n",
    "\n",
    "## $V_{irms} = 3.60\\times 10^{-6} V$\n"
   ]
  },
  {
   "cell_type": "code",
   "execution_count": null,
   "metadata": {},
   "outputs": [],
   "source": []
  },
  {
   "cell_type": "code",
   "execution_count": 1,
   "metadata": {},
   "outputs": [
    {
     "name": "stdout",
     "output_type": "stream",
     "text": [
      "$$Q_1= 261.313$$\n",
      "$$k_1 = 0.009$$\n",
      "$$h_1 = 2.414$$\n",
      "$$Q_2= 108.239$$\n",
      "$$k_2 = 0.004$$\n",
      "$$h_2 = 0.414$$\n"
     ]
    }
   ],
   "source": [
    "import numpy as np\n",
    "\n",
    "# Parametros del transistor \n",
    "r11   =   1/100e-6 \n",
    "r22   =   1/50e-6 \n",
    "gm    = 10e-3 \n",
    "rg    =   50\n",
    "rl    =   1e3\n",
    "\n",
    "# Calculos auxiliares\n",
    "####### 1\n",
    "BW = 1e6\n",
    "fo = 100e6\n",
    "wo = (2*np.pi*fo)\n",
    "\n",
    "# Doble entrada \n",
    "ang = 360/8\n",
    "\n",
    "Q1 = fo/(BW*np.sin((ang/2)*np.pi/180))\n",
    "\n",
    "k1 = (BW*np.cos((ang/2)*np.pi/180))/fo\n",
    "\n",
    "h1 = Q1 * k1\n",
    "print('$$Q_1= {:1.3f}$$'.format(Q1))\n",
    "\n",
    "print('$$k_1 = {:1.3f}$$'.format(k1))\n",
    "\n",
    "print('$$h_1 = {:1.3f}$$'.format(h1))\n",
    "\n",
    "\n",
    "Q2 = fo/(BW*np.sin((ang*3/2)*np.pi/180))\n",
    "\n",
    "k2 = (BW*np.cos((ang*3/2)*np.pi/180))/fo\n",
    "\n",
    "h2 = k2 * Q2\n",
    "print('$$Q_2= {:1.3f}$$'.format(Q2))\n",
    "\n",
    "print('$$k_2 = {:1.3f}$$'.format(k2))\n",
    "\n",
    "print('$$h_2 = {:1.3f}$$'.format(h2))\n",
    "\n"
   ]
  },
  {
   "cell_type": "code",
   "execution_count": 2,
   "metadata": {},
   "outputs": [
    {
     "name": "stdout",
     "output_type": "stream",
     "text": [
      "$$L1= 3.05e-10 Hy$$\n",
      "$$C1= 8.32e-09 F$$\n",
      "$$L2= 6.09e-08 Hy$$\n",
      "$$C2= 4.16e-11 F$$\n"
     ]
    }
   ],
   "source": [
    "Qo = np.inf\n",
    "\n",
    "L1 = (1/Q1-1/Qo)*rg/wo\n",
    "C1 = 1/(L1*wo**2) \n",
    "\n",
    "L2 = (1/Q1-1/Qo)*r11/wo\n",
    "C2 = 1/(L2*wo**2) \n",
    "\n",
    "print('$$L1= {:1.2e} Hy$$'.format(L1))\n",
    "print('$$C1= {:1.2e} F$$'.format(C1))\n",
    "\n",
    "print('$$L2= {:1.2e} Hy$$'.format(L2))\n",
    "print('$$C2= {:1.2e} F$$'.format(C2))\n"
   ]
  },
  {
   "cell_type": "code",
   "execution_count": 3,
   "metadata": {},
   "outputs": [
    {
     "name": "stdout",
     "output_type": "stream",
     "text": [
      "$$L3= 2.94e-07 Hy$$\n",
      "$$C3= 8.61e-12 F$$\n",
      "$$L4= 1.47e-08 Hy$$\n",
      "$$C4= 1.72e-10 F$$\n"
     ]
    }
   ],
   "source": [
    "L3 = (1/Q2-1/Qo)*r22/wo\n",
    "C3 = 1/(L3*wo**2) \n",
    "\n",
    "L4 = (1/Q2-1/Qo)*rl/wo\n",
    "C4 = 1/(L4*wo**2) \n",
    "\n",
    "print('$$L3= {:1.2e} Hy$$'.format(L3))\n",
    "print('$$C3= {:1.2e} F$$'.format(C3))\n",
    "\n",
    "print('$$L4= {:1.2e} Hy$$'.format(L4))\n",
    "print('$$C4= {:1.2e} F$$'.format(C4))"
   ]
  },
  {
   "cell_type": "code",
   "execution_count": 6,
   "metadata": {},
   "outputs": [
    {
     "name": "stdout",
     "output_type": "stream",
     "text": [
      "$$v1ig  = 250.000$$\n",
      "$$vov1  = 15.811$$\n",
      "$$Av  = 79.057$$\n"
     ]
    }
   ],
   "source": [
    "v1ig = (L1*L2)**0.5*wo*Q1*(h1/(1+h1**2))\n",
    "print('$$v1ig  = {:1.3f}$$'.format(v1ig))\n",
    "\n",
    "vov1 = gm*(L3*L4)**0.5*wo*Q2*(h2/(1+h2**2))\n",
    "print('$$vov1  = {:1.3f}$$'.format(vov1))\n",
    "\n",
    "Av = v1ig*vov1/rg\n",
    "print('$$Av  = {:1.3f}$$'.format(Av))"
   ]
  },
  {
   "cell_type": "code",
   "execution_count": 7,
   "metadata": {},
   "outputs": [
    {
     "name": "stdout",
     "output_type": "stream",
     "text": [
      ".param rg  = 5.0000e+01 \n",
      ".param L1  = 3.0453e-10 \n",
      ".param L2  = 6.0906e-08 \n",
      ".param L3  = 2.9408e-07 \n",
      ".param L4  = 1.4704e-08 \n",
      ".param C1  = 8.3178e-09 \n",
      ".param C2  = 4.1589e-11 \n",
      ".param C3  = 8.6134e-12 \n",
      ".param C4  = 1.7227e-10 \n",
      ".param k1  = 9.2388e-03 \n",
      ".param k2  = 3.8268e-03 \n",
      ".param g11 = 1.0000e-04 \n",
      ".param g21 = 1.0000e-02 \n",
      ".param g22 = 5.0000e-05 \n",
      ".param rl = 1.0000e+03 \n"
     ]
    }
   ],
   "source": [
    "print('.param rg  = {:1.4e} '.format(rg))\n",
    "\n",
    "print('.param L1  = {:1.4e} '.format(L1))\n",
    "print('.param L2  = {:1.4e} '.format(L2))\n",
    "print('.param L3  = {:1.4e} '.format(L3))\n",
    "print('.param L4  = {:1.4e} '.format(L4))\n",
    "print('.param C1  = {:1.4e} '.format(C1))\n",
    "print('.param C2  = {:1.4e} '.format(C2))\n",
    "print('.param C3  = {:1.4e} '.format(C3))\n",
    "print('.param C4  = {:1.4e} '.format(C4))\n",
    "print('.param k1  = {:1.4e} '.format(k1))\n",
    "print('.param k2  = {:1.4e} '.format(k2))\n",
    "\n",
    "print('.param g11 = {:1.4e} '.format(1/r11))\n",
    "print('.param g21 = {:1.4e} '.format(gm))\n",
    "print('.param g22 = {:1.4e} '.format(1/r22))\n",
    "\n",
    "print('.param rl = {:1.4e} '.format(rl))\n"
   ]
  },
  {
   "cell_type": "code",
   "execution_count": null,
   "metadata": {},
   "outputs": [],
   "source": []
  }
 ],
 "metadata": {
  "kernelspec": {
   "display_name": "Python 3",
   "language": "python",
   "name": "python3"
  },
  "language_info": {
   "codemirror_mode": {
    "name": "ipython",
    "version": 3
   },
   "file_extension": ".py",
   "mimetype": "text/x-python",
   "name": "python",
   "nbconvert_exporter": "python",
   "pygments_lexer": "ipython3",
   "version": "3.7.0"
  }
 },
 "nbformat": 4,
 "nbformat_minor": 2
}
