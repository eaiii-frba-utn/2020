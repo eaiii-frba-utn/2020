{
 "cells": [
  {
   "cell_type": "markdown",
   "metadata": {},
   "source": [
    "El diagrama de la figura corresponde a un receptor super-heterodino de simple conversión con $F_I = 10,7 MHz$ y sintonizado para recibir una señal de $F_{RF} = 100 MHz$\n",
    "\n",
    "![Parcial](fig/parcial20200824aa.png) \n",
    "\n",
    "Mezclador:  $NF_{mix}= 10dB$ y $G_{mix} = 0 dB$\n",
    "\n",
    "Amplificador Frecuencia intermedia:  $NF_{IF}  = 6 dB$  y  $G_{IF}= 40 dB$\n",
    "\n",
    "![Parcial](fig/parcial20200824a.png) \n",
    "\n",
    "El circuito de la figura corresponde a la etapa de RF (filtro y  amplificador), tiene configuración Butterworth con un ancho de banda $BW=1MHz$. \n",
    "\n",
    "Todas las interfaces están adaptadas a MTE Qcte y los elementos reactivos no tienen pérdidas.\n",
    "\n",
    "El amplificador tiene configuración Butterworth y ancho de banda $BW=1MHz$\n",
    "\n",
    "Todas las interfaces están adaptadas a MTE y los elementos reactivos no tienen pérdidas\n",
    "\n",
    "\n",
    "$Z_{antena}= (50+j0)  \\Omega$\n",
    "\n",
    "$T_{antena}= 400\\,K$\n",
    "\n",
    "$R_L = 1 K\\Omega$\t\t\n",
    "\n",
    "![Parcial](fig/parcial20200824c.png) \n",
    "\n",
    "$Y_{11g1}= (10 + j0) \\mu S$\n",
    "\n",
    "$Y_{22}  = (50 + j0) \\mu S$\n",
    "\n",
    "$Y_{11g2}= Y_{12g1} =Y_{12g2} = 0$\t\t\n",
    "\n",
    "$mod(Y_{21g1})= g_m$     \n",
    "\n",
    "$ang(Y_{21g1})=-30 grados$\n",
    "\n",
    "Determinar:\n",
    "Siendo el DS subacoplado el de la entrada y $V_{g2}= 5Vdc$\n",
    "1. (1 punto) Q1, h1 correspondientes al DS de entrada                             \n",
    "2. (1 punto) Q2, h2 correspondientes al DS de salida                               \n",
    "3. (1 punto) Rechazo de frecuencia imagen del receptor                \n",
    "4. (1 punto) Valor de los componentes del circuito de RF \n",
    "5. (1 punto) $V_o(100\\,MHz)$ considerando que $V_{ant}= 10 \\mu V$            \n",
    "6. (1 punto) Considerando que el ancho de banda equivalente de ruido de la etapa de IF es de $BEN=100\\,KHz$, determinar el valor de tensión de la señal en antena cuando a la salida del IF hay una $SNR_o = 20\\,dB$\n",
    "\n",
    "Se elimina el DS subacoplado y se lo reemplaza por un acoplador aperiódico que mantiene la adaptación de impedancias en banda ancha ($V_{g2}= 5Vdc$)\n",
    "7. (1 punto) Determinar el nuevo ancho de banda               \n",
    "8. (1 punto) Determinar el riple en banda de paso.   \n",
    "\n",
    "Se reemplazan los DS de entrada y salida por SS de igual Q que el DS reemplazado manteniéndose las condiciones de adaptación a MTE.\n",
    "9. (2 puntos) Considerando que $Y_{12g1}$ está dada por una capacidad de $C=0.01\\,pf$, determinar el máximo valor de $V_{g2}$ que permite que el circuito sea estable.                                        \n"
   ]
  },
  {
   "cell_type": "markdown",
   "metadata": {},
   "source": [
    "## Respuesta  1\n",
    "\n",
    "La figura ilustra la ubicación de los polos de los dobles sintonizados. \n",
    "\n",
    "![Polos](fig/butterdosdobles_20200824.png)\n",
    "\n",
    "De la figura, los polos correspondientes al primer doble sintonizado permiten calcular $Q$,$k$ y $h$ en base a su ubicación. \n",
    "\n",
    "$f_o = 100 MHz$\n",
    "\n",
    "$BW = 1 MHz$\n",
    "\n",
    "$Q_1  = \\frac{f_o}{2 \\cdot \\frac{BW}{2} \\cdot sin(45 + \\frac{45}{2})} = 108.23$\n",
    "\n",
    "$K_1  = \\frac{BW \\cdot cos(45+\\frac{45}{2})}{fo}  = 0.0038$\n",
    "\n",
    "$h_1  = Q_2 \\cdot  K_2  = 0.41$"
   ]
  },
  {
   "cell_type": "code",
   "execution_count": 18,
   "metadata": {},
   "outputs": [
    {
     "name": "stdout",
     "output_type": "stream",
     "text": [
      "$$Q1 =  108.24$$\n",
      "$$K1 =  0.0038$$\n",
      "$$h1 =  0.41$$\n"
     ]
    }
   ],
   "source": [
    "import numpy as np\n",
    "\n",
    "fo = 100e6\n",
    "BW = 1e6\n",
    "n  = 4\n",
    "\n",
    "\n",
    "Q1 = fo/(BW*np.sin((np.pi/n+np.pi/(2*n))))\n",
    "K1 = (BW*np.cos((np.pi/n+np.pi/(2*n))))/fo\n",
    "h1 = K1*Q1\n",
    "print('$$Q1 =  {:1.2f}$$'.format(Q1))\n",
    "print('$$K1 =  {:1.4f}$$'.format(K1))\n",
    "print('$$h1 =  {:1.2f}$$'.format(h1))"
   ]
  },
  {
   "cell_type": "markdown",
   "metadata": {},
   "source": [
    "## Respuesta  2\n",
    "\n",
    "De igual manera para el segundo doble sintonizado:\n",
    "\n",
    "$Q_2  = \\frac{f_o}{2 \\cdot \\frac{BW}{2} \\cdot sin(\\frac{45}{2})} = 261.31$\n",
    "\n",
    "$K_2  = \\frac{BW \\cdot cos(\\frac{45}{2})}{fo}  = 0.0092$\n",
    "\n",
    "$h_1  = Q_2 \\cdot  K_2  = 0.41$"
   ]
  },
  {
   "cell_type": "code",
   "execution_count": 22,
   "metadata": {},
   "outputs": [
    {
     "name": "stdout",
     "output_type": "stream",
     "text": [
      "$$Q2 =  261.31$$\n",
      "$$K2 =  0.0092$$\n",
      "$$h2 =  2.4142$$\n"
     ]
    }
   ],
   "source": [
    "Q2 = fo/(BW*np.sin(np.pi/(n*2)) )\n",
    "K2 = BW*np.cos(np.pi/(n*2))/fo\n",
    "h2 = K2*Q2\n",
    "\n",
    "print('$$Q2 =  {:1.2f}$$'.format(Q2))\n",
    "print('$$K2 =  {:1.4f}$$'.format(K2))\n",
    "print('$$h2 =  {:1.4f}$$'.format(h2))"
   ]
  },
  {
   "cell_type": "markdown",
   "metadata": {},
   "source": [
    "# Respuesta  3 \n",
    "\n",
    "Usando la transferencia del filtro Butterworth:\n",
    "\n",
    "$|A| = \\frac{1}{\\sqrt{1 +  (\\frac{f_{imag} - f_o}{f_c - f_o}})^{2\\cdot3} }$\n",
    "\n",
    "$|A| = \\frac{1}{\\sqrt{1 +  (\\frac{2 \\cdot 10.7MHz}{\\frac{1MHz}{2}}})^{6} } = 1.27 \\times 10^{-05}$\n",
    "\n",
    "\n",
    "\n"
   ]
  },
  {
   "cell_type": "code",
   "execution_count": 77,
   "metadata": {},
   "outputs": [
    {
     "name": "stdout",
     "output_type": "stream",
     "text": [
      "0.0025980762113533163 -0.0014999999999999996\n",
      "###############  LINVILL   #####################\n",
      "coeficiente de linvill C= 2.83\n",
      "Es potencialmente inestable\n",
      "###############  STERN   #####################\n",
      "coeficiente de stern K= 1.41e+00\n",
      "Estable\n"
     ]
    }
   ],
   "source": [
    "fo = 100e6\n",
    "wo = 2*np.pi*fo\n",
    "c = 0.001e-12\n",
    "# Parametros del transistor 1 MHz\n",
    "y11 =   10e-6 \n",
    "y12 =   1j*wo*c\n",
    "y21 =   3*(1e-3*np.cos(-30*np.pi/180) + 1j* 1e-3*np.sin(-30*np.pi/180) ) \n",
    "y22 =   50e-6 \n",
    "\n",
    "print(y21.real, y21.imag)\n",
    "\n",
    "C = (abs(y12*y21)+(y12*y21).real)/(2*y11.real*y22.real)\n",
    "print('###############  LINVILL   #####################')\n",
    "print( 'coeficiente de linvill C= {:4.2F}' .format(C))\n",
    "if C < 1:\n",
    "    print( 'Es incondicionalmente estable')\n",
    "else :\n",
    "    print( 'Es potencialmente inestable')\n",
    "\n",
    "K = (2*(y11.real*2)*(y22.real*2)) / (abs(y12*y21)+(y12*y21).real)\n",
    "print('###############  STERN   #####################')\n",
    "print( 'coeficiente de stern K= {:4.2e}' .format(K))\n",
    "if K > 1:\n",
    "    print( 'Estable')\n",
    "else :\n",
    "    print( 'Inestable')\n"
   ]
  },
  {
   "cell_type": "code",
   "execution_count": null,
   "metadata": {},
   "outputs": [],
   "source": []
  }
 ],
 "metadata": {
  "kernelspec": {
   "display_name": "Python 3",
   "language": "python",
   "name": "python3"
  },
  "language_info": {
   "codemirror_mode": {
    "name": "ipython",
    "version": 3
   },
   "file_extension": ".py",
   "mimetype": "text/x-python",
   "name": "python",
   "nbconvert_exporter": "python",
   "pygments_lexer": "ipython3",
   "version": "3.7.0"
  }
 },
 "nbformat": 4,
 "nbformat_minor": 2
}
