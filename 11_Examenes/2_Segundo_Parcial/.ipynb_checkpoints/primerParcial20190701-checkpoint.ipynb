{
 "cells": [
  {
   "cell_type": "code",
   "execution_count": 1,
   "metadata": {},
   "outputs": [],
   "source": [
    "import numpy as np\n",
    "import matplotlib.pyplot as plt\n",
    "import scipy                  # http://scipy.org/\n",
    "from scipy import signal\n",
    "import cmath\n",
    "\n",
    "from IPython.display import Image  \n",
    "%matplotlib inline\n",
    "params = {'legend.fontsize': 24,\n",
    "          'figure.figsize': (12, 8),\n",
    "         'axes.labelsize': 24,\n",
    "         'axes.titlesize': 24,\n",
    "         'xtick.labelsize':24,\n",
    "         'ytick.labelsize':24}\n",
    "plt.rcParams.update(params) \n",
    "\n",
    "\n",
    "\n",
    "from IPython.display import Image\n",
    "import sys "
   ]
  },
  {
   "cell_type": "markdown",
   "metadata": {},
   "source": [
    "<img src=\"fig/primerparcial20190701a.jpg\"  width=\"950\">\n",
    "\n"
   ]
  },
  {
   "cell_type": "markdown",
   "metadata": {},
   "source": [
    "<img src=\"fig/primerparcial20190701b.jpg\"  width=\"950\">"
   ]
  },
  {
   "cell_type": "markdown",
   "metadata": {},
   "source": [
    "# NOTA : T = 300 K\n",
    "\n",
    "# 1\n",
    "\n",
    "La figura ilustra la ubicación de los polos de los dobles sintonizados. \n",
    "\n",
    "<img src=\"fig/butterdosdobles.png\"  width=\"950\">\n",
    "\n",
    "\n",
    "De la figura, los polos correspondientes al primer doble sintonizado permiten calcular $Q$,$k$ y $h$ en base a su ubicación. \n",
    "\n",
    "$f_o = 100 MHz$\n",
    "\n",
    "$BW = 1 MHz$\n",
    "\n",
    "$Q_1  = \\frac{f_o}{2 \\cdot \\frac{BW}{2} \\cdot sin(\\frac{45}{2})} = 261.31$\n",
    "\n",
    "$K_1  = \\frac{BW \\cdot cos(\\frac{45}{2})}{fo}  = 0.0092$\n",
    "\n",
    "## $h_1  = Q_1 \\cdot  K_1  = 2.41 $"
   ]
  },
  {
   "cell_type": "markdown",
   "metadata": {},
   "source": [
    "# 2\n",
    "\n",
    "De igual manera para el segundo doble sintonizado:\n",
    "\n",
    "$Q_2  = \\frac{f_o}{2 \\cdot \\frac{BW}{2} \\cdot sin(45 + \\frac{45}{2})} = 108.23$\n",
    "\n",
    "$K_2  = \\frac{BW \\cdot cos(45+\\frac{45}{2})}{fo}  = 0.0038$\n",
    "\n",
    "## $h_2  = Q_2 \\cdot  K_2  = 0.41 $\n",
    "\n"
   ]
  },
  {
   "cell_type": "markdown",
   "metadata": {},
   "source": [
    "# 3 \n",
    "\n",
    "Usando la transferencia del filtro Butterworth:\n",
    "\n",
    "$ |A| = \\frac{1}{\\sqrt{1 +  (\\frac{f_{imag} - f_o}{f_c - f_o}})^{2\\cdot3} } $\n",
    "\n",
    "$ |A| = \\frac{1}{\\sqrt{1 +  (\\frac{2 \\cdot 10.7MHz}{\\frac{1MHz}{2}}})^{6} } = 1.27 \\times 10^{-05} $\n",
    "\n",
    "## $ |A| = -97.88dB$\n",
    "\n"
   ]
  },
  {
   "cell_type": "markdown",
   "metadata": {},
   "source": [
    "# 4\n",
    "\n",
    "$ |A_o| = \\frac{1}{2} \\cdot gm \\cdot \\frac{r_{22}}{2}$\n",
    "\n",
    "\n",
    "$ |A_o| = \\frac{1}{2} \\cdot 10mS \\cdot \\frac{20K\\Omega}{2} = 50.0$\n",
    "\n",
    "## $ v_o = |A_o| \\cdot 10 \\mu V  = 500 \\mu V$ \n"
   ]
  },
  {
   "cell_type": "markdown",
   "metadata": {},
   "source": [
    "# 5\n",
    "\n",
    "$A(\\chi) = \\frac{j gm M w_o Q^2  }{(1+j(\\chi+h))(1+j(\\chi-h)) }$ \n",
    "\n",
    "$A(\\chi_o) = \\frac{j gm M w_o Q^2  }{(1+j(h))(1+j(h)) } = \\frac{j gm M w_o Q^2  }{(1+h^2) } $ \n",
    "\n",
    "$\\bar{A}(\\chi) = \\frac{A(\\chi)}{A(\\chi_o)} = \\frac{1+h^2 }{ (1+j(\\chi+h))(1+j(\\chi-h)) } $ \n",
    "\n",
    "\n",
    "$| \\bar{A}(\\chi) | =  \\frac{1+h^2 }{\\sqrt{\\chi^4+2\\chi^2(1-h^2)+(1+h^2)^2} } = \\frac{1}{\\sqrt{2}} $ \n",
    "\n",
    "\n",
    "$| \\bar{A}(\\chi) | =  \\frac{(1+h^2)^2 }{\\chi^4+2\\chi^2(1-h^2)+(1+h^2)^2}  = \\frac{1}{2} $ \n",
    "\n",
    "$ \\chi^4+2\\chi^2(1-h^2)+(1+h^2)^2 = 2 \\cdot (1+h^2)^2 $\n",
    "\n",
    "$ \\chi^4+2\\chi^2(1-h^2) =  (1+h^2)^2 $\n",
    "\n",
    "$ \\chi^4+2\\chi^2(1-h^2)   - (1+h^2)^2 = 0 $\n",
    "\n",
    "$ \\chi^4+2\\chi^2(1-2.41^2)   - (1+2.41^2)^2 = 0 $\n",
    "\n",
    "$ a = 1$\n",
    "\n",
    "$ b =  2 \\cdot (1-2.41^2) = -9.61 $\n",
    "\n",
    "$ c =  - (1+2.41^2)^2 = -46.35$ \n",
    "\n",
    "$ x = \\frac{-b + \\sqrt{b^2- 4 \\cdot a \\cdot c}}{2 \\cdot a} = 13.138 $\n",
    "\n",
    "$ \\chi = \\sqrt{x} = 3.62$\n",
    "\n",
    "$ \\frac{BW}{2} = \\frac{\\chi \\cdot fo }{2 \\cdot Q} $\n",
    "\n",
    "$ BW = \\frac{ 3.62 \\cdot 100 \\times 10^{6}}{261}= 1.38\\times 10^{6} $\n",
    "\n",
    "## $ BW =  1.38\\times 10^{6} $"
   ]
  },
  {
   "cell_type": "markdown",
   "metadata": {},
   "source": [
    "# 6\n",
    "Buscamos los maximo y minimos:\n",
    "\n",
    "$ \\frac{d}{d\\chi} (\\chi^4+2\\chi^2(1-h^2)+(1+h^2)^2)= 0 $ \n",
    "\n",
    "\n",
    "$ 4 \\chi^3 + 4\\chi(1-h^2) = 0 $ \n",
    "\n",
    "$ \\chi = 0 $\n",
    "\n",
    "$ 4 \\chi^2 = - 4 (1-h^2)   $ \n",
    "\n",
    "$  \\chi^2  = h^2 - 1   $ \n",
    "\n",
    "$  \\chi^2  = h^2 - 1 =  4.8 $ \n",
    "\n",
    "$  \\chi   = 2.192$ \n",
    "\n",
    "\n",
    "Tranferencia $ \\chi = 0$:  \n",
    "\n",
    "$| \\bar{A}(\\chi= 0) | =  \\frac{1+(2.41)^2 }{\\sqrt{0^4+2\\cdot 0^2 \\cdot (1-(2.41)^2)+(1+(2.41)^2)^2} } $ \n",
    "\n",
    "$| \\bar{A}(\\chi= 0) | =  \\frac{1+(2.41)^2 }{(1+(2.41)^2)} = 1$ \n",
    "\n",
    "Tranferencia $ \\chi = 2.192$:  \n",
    "\n",
    "$| \\bar{A}(\\chi= 0) | =  \\frac{1+(2.41)^2 }{\\sqrt{2.192^4+2\\cdot 2.192^2 \\cdot (1-(2.41)^2)+(1+(2.41)^2)^2} } = 1.412$ \n",
    "\n",
    "\n",
    "Por lo tanto el ripple en la banda de paso es de $1.4$ 0 $3 dB$."
   ]
  },
  {
   "cell_type": "markdown",
   "metadata": {},
   "source": [
    "# 7\n",
    "\n",
    "Stern:\n",
    "$$K = \\frac{2 \\cdot \\Re(y_{11} + y_{11}) \\cdot \\Re(y_{22}+ y_{22})}{| y_{12} \\cdot y_{21} | +\\Re(y_{12} \\cdot y_{21})} $$\n",
    "\n",
    "$$ \\frac{2 \\cdot 2 \\cdot \\Re(y_{11}) \\cdot 2 \\cdot \\Re(y_{22})}{| y_{12} \\cdot y_{21} | +\\Re(y_{12} \\cdot y_{21})} =1 $$\n",
    "\n",
    "$$ | y_{12} \\cdot y_{21} | +\\Re(y_{12} \\cdot y_{21}) = 8 \\cdot \\Re(y_{11}) \\cdot \\Re(y_{22})    $$\n",
    "\n",
    "\n",
    "Recordando :\n",
    "\n",
    "$y_{12} = -j \\cdot \\omega C $\n",
    "\n",
    "$y_{21} = gm $\n",
    "\n",
    "$ y_{12} \\cdot y_{21}  =  -j \\cdot \\omega C \\cdot gm $\n",
    "\n",
    "$ | y_{12} \\cdot y_{21} | =  \\omega C \\cdot gm  $\n",
    "\n",
    "$ \\Re(y_{12} \\cdot y_{21}) = 0 $\n",
    "\n",
    "$ \\omega C \\cdot gm = 8 \\cdot \\Re(y_{11}) \\cdot \\Re(y_{22}) $\n",
    "\n",
    "$ C = \\frac{8 \\cdot \\Re(y_{11}) \\cdot \\Re(y_{22})}{\\omega  \\cdot gm} $\n",
    "\n",
    "$ C = \\frac{8 \\cdot 100 \\mu S \\cdot 50 \\mu S}{2 \\pi 100 \\times 10^{6}  \\cdot 10 mS}  = 6.36 \\times 10^{-15}$\n",
    "\n",
    "## $ C =  6.36 \\times 10^{-15}$$\n"
   ]
  },
  {
   "cell_type": "markdown",
   "metadata": {},
   "source": [
    "# 8\n",
    "\n",
    "$$F_{a}= F_{tr} + \\frac{F_{2}- 1}{G_{1a}} $$\n",
    "\n",
    "$$gm_{a}^2 \\cdot F_{a}= gm_{a}^2 \\cdot F_{tr} + \\frac{F_{2}- 1}{K_{1a}} $$\n",
    "\n",
    "$$\\frac{F_{2}- 1}{K_{1a}} = gm_{a}^2 \\cdot F_{a} - gm_{a}2 \\cdot F_{tr}   $$\n",
    "\n",
    "$$\\frac{F_{2}- 1}{K_{1b}} = gm_{b}^2 \\cdot F_{b} - gm_{b}2 \\cdot F_{tr}   $$\n",
    "\n",
    "$$ F_{a} = 3.16 $$\n",
    "\n",
    "$$ G_{1a} = gm_{a}^2 \\cdot k  $$\n",
    "\n",
    "$$ F_{b} = 100 $$\n",
    "\n",
    "$$ G_{1b} = gm_{b}^2 \\cdot k  $$\n",
    "\n",
    "$$gm_{a}^2 \\cdot F_{a} - gm_{a}^2 \\cdot F_{tr} = gm_{b}^2 \\cdot F_{b} - gm_{b}^2 \\cdot F_{tr} $$\n",
    "\n",
    "$$(gm_{b}^2  - gm_{a}^2) \\cdot F_{tr} = gm_{b}^2 \\cdot F_{b} - gm_{a}^2 \\cdot F_{b} $$\n",
    "\n",
    "$$  F_{tr} = \\frac{gm_{b}^2 \\cdot F_{b} - gm_{a}^2 \\cdot F_{b}}{(gm_{b}^2  - gm_{a}^2)} = 2.12$$\n"
   ]
  },
  {
   "cell_type": "markdown",
   "metadata": {},
   "source": [
    "# 9\n",
    "\n",
    "La  relación de señal a ruido a la salida :\n",
    "\n",
    "$ \\frac{S_o}{N_o}  = 100 $\n",
    "\n",
    "$ F = \\frac{\\frac{S_i}{N_i}}{\\frac{S_o}{N_o}} =  3.16 $\n",
    "\n",
    "$ \\frac{S_i}{N_i}  = 316 $\n",
    "\n",
    "$ N_i = k_B T B = 1.38 \\times 10^{-23} \\cdot 300K \\cdot 100KHz = 4.14 \\times 10^{-16} W$\n",
    "\n",
    "$ S_i = 1.30  \\times 10^{-13} W$ \n",
    "\n",
    "$ V_{irms} = \\sqrt{S_i \\cdot 2 \\cdot 50} = 3.60\\times 10^{-6} V$\n"
   ]
  }
 ],
 "metadata": {
  "kernelspec": {
   "display_name": "Python 3",
   "language": "python",
   "name": "python3"
  },
  "language_info": {
   "codemirror_mode": {
    "name": "ipython",
    "version": 3
   },
   "file_extension": ".py",
   "mimetype": "text/x-python",
   "name": "python",
   "nbconvert_exporter": "python",
   "pygments_lexer": "ipython3",
   "version": "3.5.4"
  }
 },
 "nbformat": 4,
 "nbformat_minor": 2
}
