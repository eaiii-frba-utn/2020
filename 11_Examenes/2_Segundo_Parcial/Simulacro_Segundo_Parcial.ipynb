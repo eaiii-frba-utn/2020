{
 "cells": [
  {
   "cell_type": "markdown",
   "metadata": {},
   "source": [
    "# Segundo Parcial: Clase C exitado con AM.\n",
    "\n",
    "\n",
    "La transferencia del transistor se define en la funcion idi(v).\n",
    "\n",
    "\n",
    "![ex 2.13](fig/circuitoClaseC.png)\n",
    "\n",
    "\n",
    "Dado el amplificador de la figura, diseñar para máxima excursión de salida siendo:\n",
    "  \n",
    "\n",
    " \n",
    "$V_{g}= V_s \\cdot (1+m \\cdot cos(w_{m}. t)) \\cdot \\cos(w_{o} \\cdot t) [V]$ \n",
    "\n",
    "$f_{o}= 1 MHz$ \n",
    "\n",
    "$f_{m}= 1 KHz$ \n",
    "\n",
    "$m= 0.7$\n",
    "\n",
    "\n",
    "\n",
    "\n",
    "$V_{DD}=110 V$\n",
    "\n",
    "\n",
    "El tanque PI opera a $Q_c= 10$, sus componentes no tienen perdidas  resuena a $f_o= 10 MHz$ reflejando sobre el Drain una resistencia pura ($X= 0$) de valor $R_c$. \n",
    "En el pico positivo de la modulación el amplificador opera con un ángulo de circulación de corriente de Drain de $\\theta = 160$\n",
    "\n",
    "\n",
    "|Symbol        | Parameter                  | Value | Unit |   \n",
    "|--------------|----------------------------|-------|------|\n",
    "|$V_{(BR)DSS}$ |  Drain source voltage      | 250   | V    |\n",
    "|$V_{GS}     $ |  Gate source voltage       | 100   | V    |\n",
    "|$I_{D}      $ |  Drain current             | 10    | A    |\n",
    "|$V_{(min)DS}$ |  Drain source voltage min. | 10    | V    |\n",
    "\n",
    "![ex 2.13](fig/parcial20192811e2b.png)\n",
    "\n",
    "Exitación, polarización y carga entán diseñados par que el amplificador entregue máxima potancia sobre la carga. \n",
    "\n",
    "Determinar \n",
    "\n",
    "1.\t$V_{GG}$ y $V_s$\n",
    "2. \t$R_c$\n",
    "3. \tPEP:  Potencia pico de envolvente sobre RL.\n",
    "4.  Angulo de circulación en condicón de portadora  y de valle. \n",
    "5.  Indice de modulación a la salida ($m = \\frac{V_{pico} - V_{valle} }{V_{pico} + V_{valle}}$) \t\n",
    "6.  Potencia en la carga ($P_{AM}$), potencia entregada por la fuente ($P_{DC}$) y potencia disipada en el mosfet ($P_{MOSFET}$).\t\n",
    "7. \tSe reduce $V_{DD} = 90V$. Sin modificar el filtro de salida, determinar el valor de PEPsi se pretende un indice de modulación del 100 porciento, sin recortes de envolvente. \n",
    "8. \tEn las condiciones del ítem 7, determinar $V_{GG}$  si se mantiene constante $V_s$.\n",
    "\n"
   ]
  },
  {
   "cell_type": "markdown",
   "metadata": {},
   "source": []
  },
  {
   "cell_type": "code",
   "execution_count": null,
   "metadata": {},
   "outputs": [],
   "source": []
  },
  {
   "cell_type": "code",
   "execution_count": null,
   "metadata": {},
   "outputs": [],
   "source": []
  }
 ],
 "metadata": {
  "kernelspec": {
   "display_name": "Python 3",
   "language": "python",
   "name": "python3"
  },
  "language_info": {
   "codemirror_mode": {
    "name": "ipython",
    "version": 3
   },
   "file_extension": ".py",
   "mimetype": "text/x-python",
   "name": "python",
   "nbconvert_exporter": "python",
   "pygments_lexer": "ipython3",
   "version": "3.7.0"
  }
 },
 "nbformat": 4,
 "nbformat_minor": 1
}
