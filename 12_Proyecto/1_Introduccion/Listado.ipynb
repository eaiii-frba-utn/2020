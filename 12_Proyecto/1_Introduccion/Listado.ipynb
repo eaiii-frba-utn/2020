{
 "cells": [
  {
   "cell_type": "markdown",
   "metadata": {},
   "source": [
    "# Notas de Aplicación. \n",
    "\n",
    "\n",
    "\n",
    "# Filtros\n",
    "\n",
    "###  [LC filter with improved high-frequency attenuation](./NotasTecnicas/1-2157.pdf)\n",
    "### [A Low-Cost Surface Mount PIN Diode π Attenuator](./NotasTecnicas/AN1048.pdf)\n",
    "### [IMPEDANCE MATCHING NETWORKSAPPLIED TO RF POWER TRANSISTORS](./NotasTecnicas/AN721.pdf) \n",
    "\n",
    "# LNA\n",
    "\n",
    "### [Low-voltage capable RF MOSFET BF5030W](./NotasTecnicas/AN095.pdf)\n",
    "### [BFU550  ISM 866 MHz LNA design](./NotasTecnicas/AN11432.pdf)\n",
    "### [BFU520X ISM 433 MHz LNA design](./NotasTecnicas/AN11433.pdf)\n",
    "### [Highly Linear FM LNA design with BFU580Q](./NotasTecnicas/AN11499.pdf)\n",
    "### [Ultra Low Noise Amplifiersfor 900 and 2000 MHzwith High IP3](./NotasTecnicas/KV96157A.pdf)\n",
    "### [BFU5xx series ](./NotasTecnicas/UM10772.pdf)\n",
    "\n",
    "\n",
    "# PA\n",
    "### [AN15261RF  Power Device Impedances:Practical Considerations](./NotasTecnicas/AN1526.pdf)\n",
    "\n",
    "\n",
    "# Mezcladores \n",
    "### [Active Mixer Design Using the NE25139](./NotasTecnicas/an1020.pdf)\n",
    "\n",
    "# Osciladores\n",
    "### [Designing VCOs and Buffers](./NotasTecnicas/an1034.pdf)\n",
    "### [A 1GHz discrete VCO based on the BFR92A](./NotasTecnicas/AN11225.pdf)\n",
    "### [Applying the oscillator of the SA602A in low-power mixer applications](./NotasTecnicas/AN1982.pdf)\n",
    "### [Transistor Mixer Design using 2-Port parameters](./NotasTecnicas/AN238.pdf)\n",
    "### [CDMA CELLULAR VCO WITH THE BFG425W](./NotasTecnicas/VCOB827.pdf) \n"
   ]
  },
  {
   "cell_type": "code",
   "execution_count": null,
   "metadata": {},
   "outputs": [],
   "source": []
  }
 ],
 "metadata": {
  "kernelspec": {
   "display_name": "Python 3",
   "language": "python",
   "name": "python3"
  },
  "language_info": {
   "codemirror_mode": {
    "name": "ipython",
    "version": 3
   },
   "file_extension": ".py",
   "mimetype": "text/x-python",
   "name": "python",
   "nbconvert_exporter": "python",
   "pygments_lexer": "ipython3",
   "version": "3.7.4"
  }
 },
 "nbformat": 4,
 "nbformat_minor": 2
}
