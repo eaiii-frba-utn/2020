{
 "cells": [
  {
   "cell_type": "markdown",
   "metadata": {},
   "source": [
    "# Notas de Aplicación. \n",
    "\n",
    "# Basicos y Teoria\n",
    "### [RF Basics, RF for Non-RF Engineers](./NotasTecnicas/slap127.pdf)\n",
    "### [Stability Analysis for RF](./NotasTecnicas/Stability-Analysis-Presentation.pdf)\n",
    "### [RF Interference Hunting Concepts ](./NotasTecnicas/11410-00972A(1).pdf)\n",
    "### [AN3169: Low-Noise Amplifier (LNA) Matching Techniquesfor Optimizing Noise Figures](./NotasTecnicas/AN3169.pdf)\n",
    "### [AN2371: Consider Overall Cascaded Performance WhenComparing Integrated RF Frequency Mixers toPassive Mixer Solutions](./NotasTecnicas/AN2371.pdf)\n",
    "### [AN419: UHF Amplifier Design Using Data SheetDesign Curves](./NotasTecnicas/AN419.pdf)\n",
    "### [AN955: A cost effective VHF Amplifier for land Mobile Radio](./NotasTecnicas/AN955.pdf)\n",
    "### [The ABC’s of PA](./NotasTecnicas/Module_6_2_PA_Classes.pdf)\n",
    "### [A Robust, Large-Signal Model for LDMOS RF Power Transistors](./NotasTecnicas/mwrf_3496_20b.pdf)\n",
    "### [Low-Power Mixer Converts UWB Signals](./NotasTecnicas/mwrf_2754_low_power_mixer.pdf)\n",
    "\n",
    "\n",
    "# Filtros\n",
    "\n",
    "\n",
    "### [A Low-Cost Surface Mount PIN Diode π Attenuator](./NotasTecnicas/AN1048.pdf)\n",
    "### [IMPEDANCE MATCHING NETWORKSAPPLIED TO RF POWER TRANSISTORS](./NotasTecnicas/AN721.pdf) \n",
    "### [AT16802: Antenna Tune Up](./NotasTecnicas/Atmel-42732-Antenna-Tune-Up_ApplicationNote_AT16802.pdf)\n",
    "\n",
    "\n",
    "# LNA\n",
    "\n",
    "### [Low-voltage capable RF MOSFET BF5030W](./NotasTecnicas/AN095.pdf)\n",
    "### [BFU550  ISM 866 MHz LNA design](./NotasTecnicas/AN11432.pdf)\n",
    "### [BFU520X ISM 433 MHz LNA design](./NotasTecnicas/AN11433.pdf)\n",
    "### [Highly Linear FM LNA design with BFU580Q](./NotasTecnicas/AN11499.pdf)\n",
    "### [Ultra Low Noise Amplifiersfor 900 and 2000 MHzwith High IP3](./NotasTecnicas/KV96157A.pdf)\n",
    "### [BFU5xx series ](./NotasTecnicas/UM10772.pdf)\n",
    "### [RF small signal design two-port parameters](./NotasTecnicas/AN215A.pdf)\n",
    "### [Field Effect Transistor RF AmplifierDesign Techniques](./NotasTecnicas/AN423.pdf)\n",
    "### [REP025: Custom-Tuned LNA at 345MHz forWireless Security System](./NotasTecnicas/AN620.pdf)\n",
    "### [Increasing the IP3 of the MAX2659 Low-NoiseAmplifier (LNA)](./NotasTecnicas/AN4264.pdf)\n",
    "### [Designing an AM/FM Active Antenna LNA Solutionwith the MAX2180 LNA](./NotasTecnicas/AN4264.pdf)\n",
    "### [Improving Receiver Sensitivity with External LNA](./NotasTecnicas/AN1836.pdf)\n",
    "\n",
    "\n",
    "\n",
    "\n",
    "\n",
    "# PA\n",
    "### [AN15261: RF  Power Device Impedances:Practical Considerations](./NotasTecnicas/AN1526.pdf)\n",
    "### [Simulating Class C RF Amplifiers](./NotasTecnicas/classc.pdf)\n",
    "### [A computerized study of the class-C-biased RF-power amplifie](./NotasTecnicas/Jens.pdf)\n",
    "### [Practical Approach Yields Class-C PA](./NotasTecnicas/Firas_2006_6.pdf)\n",
    "### [Refine Biasing Networks for High PA Low-Frequency Stability](./NotasTecnicas/mwrf_8676_0418_31e_pdflayout.pdf)\n",
    "#### [AN10945: 174 MHz to 230 MHz DVB-T power amplifier with the BLF881](./NotasTecnicas/AN10945.pdf)\n",
    "### [800 MHz Test Fixture Desig](.)\n",
    "\n",
    "# Mezcladores \n",
    "### [Active Mixer Design Using the NE25139](./NotasTecnicas/an1020.pdf)\n",
    "\n",
    "# Osciladores\n",
    "### [Designing VCOs and Buffers](./NotasTecnicas/an1034.pdf)\n",
    "### [A 1GHz discrete VCO based on the BFR92A](./NotasTecnicas/AN11225.pdf)\n",
    "### [Applying the oscillator of the SA602A in low-power mixer applications](./NotasTecnicas/AN1982.pdf)\n",
    "### [Transistor Mixer Design using 2-Port parameters](./NotasTecnicas/AN238.pdf)\n",
    "### [CDMA CELLULAR VCO WITH THE BFG425W](./NotasTecnicas/VCOB827.pdf) \n",
    "### [Trimless IF VCO: Part 1: Design Considerations /NotasTecnicas/AN2032.pdf](./NotasTecnicas/AN2032.pdf)\n",
    "### [Trimless IF VCO: Part 2: New ICs SimplifyImplementation](./NotasTecnicas/AN688.pdf)\n",
    "### [VCO Enables a Hands-Free Car Kit for CellPhones](./NotasTecnicas/AN5123.pdf)\n",
    "### [Crystal Oscillator Has Dual or Differential Outputs](./NotasTecnicas/AN1210.pdf)\n",
    "\n",
    "# Sistemas\n",
    "### [Alarm Sounds When RF Transmitter is Out of Range](./NotasTecnicas/AN5099.pdf)\n",
    "### [Ultra-Low-Cost, Medium Impedance RF Probe IsRugged and Wideband](./NotasTecnicas/AN3699.pdf)\n",
    "### [Satellite Radio Receiver 1st Mixer: MAX2682Tuned for 2642.5MHz](./NotasTecnicas/AN1826.pdf)\n"
   ]
  },
  {
   "cell_type": "markdown",
   "metadata": {},
   "source": [
    "###  [LC filter with improved high-frequency attenuation](./NotasTecnicas/1-2157.pdf)"
   ]
  },
  {
   "cell_type": "code",
   "execution_count": null,
   "metadata": {},
   "outputs": [],
   "source": []
  }
 ],
 "metadata": {
  "kernelspec": {
   "display_name": "Python 3",
   "language": "python",
   "name": "python3"
  },
  "language_info": {
   "codemirror_mode": {
    "name": "ipython",
    "version": 3
   },
   "file_extension": ".py",
   "mimetype": "text/x-python",
   "name": "python",
   "nbconvert_exporter": "python",
   "pygments_lexer": "ipython3",
   "version": "3.7.4"
  }
 },
 "nbformat": 4,
 "nbformat_minor": 2
}
