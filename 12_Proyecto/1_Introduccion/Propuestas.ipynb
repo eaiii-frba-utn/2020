{
 "cells": [
  {
   "cell_type": "markdown",
   "metadata": {},
   "source": [
    "# Propuestas de proyecto\n",
    "\n",
    "\n",
    "\n",
    "### [A Low-Cost Surface Mount PIN Diode π Attenuator](./NotasTecnicas/AN1048.pdf)\n",
    "\n"
   ]
  }
 ],
 "metadata": {
  "kernelspec": {
   "display_name": "Python 3",
   "language": "python",
   "name": "python3"
  },
  "language_info": {
   "codemirror_mode": {
    "name": "ipython",
    "version": 3
   },
   "file_extension": ".py",
   "mimetype": "text/x-python",
   "name": "python",
   "nbconvert_exporter": "python",
   "pygments_lexer": "ipython3",
   "version": "3.7.4"
  }
 },
 "nbformat": 4,
 "nbformat_minor": 2
}
