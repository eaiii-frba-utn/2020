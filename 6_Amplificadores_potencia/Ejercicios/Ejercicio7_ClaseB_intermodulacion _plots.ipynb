{
 "cells": [
  {
   "cell_type": "markdown",
   "metadata": {},
   "source": [
    "# Ejercicio 7\n",
    "\n",
    "El circuito de la figura corresponde amplificador de potencia de RF sintonizado, realizado con un MOSFET, para una portadora de $f = 10 MHz$.\n",
    "\n",
    "El amplificador de la figura trabaja en clase B\n",
    "\n",
    "![ex 2.13](fig/circuitoClaseC.png)\n",
    "\n",
    "\n",
    "Para este proyecto se busca máxima excursión de señal para un amplificador de RF Clase B. \n",
    "\n",
    "Se asume la impedancia del dispositivo a su salida entre  Drain  y Source es lo suficientemente elevada como para desestimarla frente a la carga.\n",
    "\n",
    "|Symbol        | Parameter                  | Value     | Unit     |   \n",
    "|--------------|----------------------------|-----------|----------|\n",
    "|$V_{(BR)DSS}$ |  Drain source voltage      | $125$     | V        |\n",
    "|$V_{GS}$      |  Gate source voltage       | $\\pm 20$  | V        |\n",
    "|$I_{D}$       |  Drain current             | $10$      | A        |\n",
    "|$V_{(min)DS}$ |  Drain source voltage min. | $10$      | V        |\n",
    "\n",
    "Impedancia de entrada del MOSFET a $f = 10MHz$ \n",
    "$$Z_{in}  = (4 -2j) \\Omega$$ \n",
    "\n",
    "Impedancia de salida del MOSFET   a $f = 10MHz$ \n",
    "$$Z_{out} = (80-2j)  \\Omega$$ \n",
    "\n",
    "![ex 2.13](fig/mosfet_intermo.png)\n",
    "\n",
    "\n",
    "La tensión de excitación en Gate es una señal BLU.\n",
    "\n",
    "La señal de BLU formada por dos tonos de igual nivel y frecuencias $f_1=9.99 MHz$ y  $f_2=10.10 MHz$\n",
    "\n",
    "\n",
    "El Q cargado de ambos tanques (Gate y  Drain) es de $Q_C = 10$ y el  $Q_{oL} = Q_{oC} = infinito$ de los elementos reactivos es infinito. \n",
    "\n",
    "La tensión de fuente es de $V_{DD} = 50V$. \n",
    "\n",
    "Potencia en la carga $P_L = 150 W$. \n",
    "\n",
    "\n",
    "Se definen como componentes de intermodulación (IDM) de 3er orden  las que se encuentran en frecuencias:  $$|2(f_1-f_2)|\\  y\\ |2(f_2-f_1)|$$\n",
    "\n",
    "\n",
    "Se definen como componentes de intermodulación (IDM) de 5to orden  las que se encuentran en frecuencias:  $$|3(f_1-f_2)|\\  y\\ |3(f_2-f_1)|$$\n",
    "\n",
    "\n",
    "NOTA: En ambos casos (IDM de 3 y 5 orden) se desprecian dentro de los paréntesis los signos MAS ya que dichas componentes son eliminadas por el filtro de salida.\n",
    " \n",
    "\n",
    "Determinar:\n",
    "\n",
    "   1. $V_{GG}$ y $V_{s}$ (tener en cuenta que la señal es AM) \n",
    "   2. Componentes fundamentales de la corriente de drain Id1(f1), Id1(f2)\n",
    "   3. Componentes de IDM de 3er orden de la corriente de drain \n",
    "   4. Componentes de IDM de 5to orden de la corriente de drain \n",
    "   5. $R_{o}$ para maxima escursión de la salida (dada la fuente de alimentación).\n",
    "   6. $P_{dc}$.\n",
    "   7. $P_{tr}$ \n",
    "   8. Rendimiento.\n",
    "   9. Ganancia de potencia\n",
    "   10. Rendimiento\n",
    "   \n",
    "\n",
    "\n",
    "![ex 2.13](fig/circuitoClaseC_mosfet_1.png)\n"
   ]
  },
  {
   "cell_type": "code",
   "execution_count": 1,
   "metadata": {},
   "outputs": [],
   "source": [
    "import numpy as np\n",
    "import matplotlib.pyplot as plt\n",
    "import scipy                  # http://scipy.org/\n",
    "from scipy import signal\n",
    "\n",
    "from scipy.fftpack import fft, fftfreq\n",
    "from time import time\n",
    "\n",
    "\n",
    "\n",
    "from IPython.display import Image  \n",
    "%matplotlib inline\n",
    "params = {'legend.fontsize': 24,\n",
    "          'figure.figsize': (8, 8),\n",
    "         'axes.labelsize': 24,\n",
    "         'axes.titlesize': 24,\n",
    "         'xtick.labelsize':24,\n",
    "         'ytick.labelsize':24}\n",
    "plt.rcParams.update(params) \n"
   ]
  },
  {
   "cell_type": "code",
   "execution_count": 2,
   "metadata": {},
   "outputs": [],
   "source": [
    "#Calculos \n",
    "#parametros de la senal \n",
    "fc   = 10e6 #Hz\n",
    "fm   = 10e3\n",
    "th_c = np.pi\n",
    "m    = 0.5\n",
    "\n",
    "\n",
    "\n",
    "\n",
    "#tiempo de un periodo de la modulante\n",
    "Tm  = 1/fm\n",
    "\n",
    "#Muestreo\n",
    "fs  =  24*fc\n",
    "\n",
    "#delta time para el calculo de los armonicos\n",
    "ds  = 1/(fs)\n",
    "\n",
    "\n",
    "\n",
    "#parametros del filtro de entrada y de salida \n",
    "Qo = np.inf\n",
    "Qc = 10\n",
    "\n",
    "#parametros del transistor\n",
    "Vds_min = 10  #V\n",
    "Vds_max = 125 #V\n",
    "Vgs_max = 7.5 #V\n",
    "Vth     = 2.5 #V\n",
    "Zin     =  4-2j #ohms\n",
    "Zout    = 80-2j #ohms\n",
    "\n",
    "# Generador\n",
    "Zg      = 50 #ohms\n",
    "\n",
    "# Carga\n",
    "Zl      = 50 #ohms\n",
    "rlp     = 5.33\n",
    "VDD     = 50 #V\n",
    "PL      = 150 #W\n",
    "### Para los calculos!\n",
    "#tiempo de un periodo \n",
    "Tc  = 1/fc\n",
    "\n",
    "# muestreo (empleando 24 ya que corresponde a el muestreo del empleado comunmente en el metodo de los trapecios)\n",
    "ns  =  24       \n",
    "fs  =  fc*ns\n",
    "ds  =  1/(fs)"
   ]
  },
  {
   "cell_type": "code",
   "execution_count": 3,
   "metadata": {},
   "outputs": [
    {
     "name": "stdout",
     "output_type": "stream",
     "text": [
      "$Vs  = 3.33$\n",
      "$VGG = 2.50$\n"
     ]
    }
   ],
   "source": [
    "#### 1\n",
    "\n",
    "Vsp  = (Vgs_max-Vth)/(1-np.cos(th_c/2))\n",
    "VGG = Vgs_max - Vsp\n",
    "\n",
    "Vs   = Vsp/(1+m)\n",
    "print('$Vs  = {:.2f}$'.format(Vs))\n",
    "\n",
    "print('$VGG = {:.2f}$'.format(VGG))"
   ]
  },
  {
   "cell_type": "code",
   "execution_count": 4,
   "metadata": {},
   "outputs": [
    {
     "name": "stdout",
     "output_type": "stream",
     "text": [
      "$v_gs(pico) = 2.50 + 5.00 cos(\\theta)$\n",
      "$v_gs(portadora) = 2.50 + 3.33 cos(\\theta)$\n",
      "$v_gs(valle) = 2.50 + 1.67 cos(\\theta)$\n"
     ]
    }
   ],
   "source": [
    "#### 2. $V_{gs(portadora)}$, $V_{gs(valle)}$ \n",
    "\n",
    "print('$v_gs(pico) = {:.2f} + {:.2f} cos(\\\\theta)$'.format(VGG,Vs*(1+m)))\n",
    "\n",
    "\n",
    "print('$v_gs(portadora) = {:.2f} + {:.2f} cos(\\\\theta)$'.format(VGG,Vs))\n",
    "\n",
    "\n",
    "print('$v_gs(valle) = {:.2f} + {:.2f} cos(\\\\theta)$'.format(VGG,Vs*(1-m)))"
   ]
  },
  {
   "cell_type": "code",
   "execution_count": 5,
   "metadata": {},
   "outputs": [
    {
     "name": "stdout",
     "output_type": "stream",
     "text": [
      "$P_inp = 0.56 W$\n",
      "$igp = 0.30 A$\n",
      "$P_in = 0.25 W$\n"
     ]
    }
   ],
   "source": [
    "#### 3. $i_{g}$ ( valor pico de la componente alterna de la excitación).\n",
    "\n",
    "Yin = 1/Zin\n",
    "Pinp = Vs**2*Yin.real/(4)\n",
    "\n",
    "print('$P_inp = {:.2f} W$'.format(Pinp))\n",
    "\n",
    "ig  = (Pinp*4/(Zg.real/2))**0.5\n",
    "\n",
    "print('$igp = {:.2f} A$'.format(ig))\n",
    "\n",
    "Pin = Pinp/(1+m)**2\n",
    "print('$P_in = {:.2f} W$'.format(Pin))\n"
   ]
  },
  {
   "cell_type": "code",
   "execution_count": 6,
   "metadata": {},
   "outputs": [
    {
     "data": {
      "image/png": "[encoded data removed]",
      "text/plain": [
       "<Figure size 432x288 with 1 Axes>"
      ]
     },
     "metadata": {
      "needs_background": "light"
     },
     "output_type": "display_data"
    },
    {
     "data": {
      "image/png": "[encoded data removed]",
      "text/plain": [
       "<Figure size 432x288 with 1 Axes>"
      ]
     },
     "metadata": {
      "needs_background": "light"
     },
     "output_type": "display_data"
    }
   ],
   "source": [
    "#### 4. $I_{do(pico)}$, $I_{d1(pico)}$\n",
    "\n",
    "def vgsi(VGG,Vs,fm,fc,time):\n",
    "    return VGG+Vs*(np.cos(2*np.pi*(fc-fm)*time))*(np.cos(2*np.pi*(fc+fm)*time))\n",
    "\n",
    "\n",
    "def idi(v):\n",
    "    i =  0.             if (v < 2.5) else 0\n",
    "    i = 5*(v-2.5)-0.045*(v-2.5)**3 if (v >= 2.50  and v < 8) else i\n",
    "    i = (20) if (v >= 8  ) else i\n",
    "    return i\n",
    "\n",
    "\n",
    "time = np.arange(0,Tm,ds)\n",
    "\n",
    "vgs = vgsi(VGG,Vs,fm,fc,time)\n",
    "\n",
    "idd = np.array([idi(v) for v in vgs])\n",
    "\n",
    "\n",
    "plt.plot(time, vgs)\n",
    "plt.ylabel('$v_{gs}$ [V]')\n",
    "plt.xlabel('${time}$')\n",
    "\n",
    "plt.grid()\n",
    "plt.show()\n",
    "\n",
    "\n",
    "plt.plot(time, idd)\n",
    "plt.ylabel('$i_{d}$ [V]')\n",
    "plt.xlabel('${time}$')\n",
    "\n",
    "plt.grid()\n",
    "plt.show()\n"
   ]
  },
  {
   "cell_type": "code",
   "execution_count": null,
   "metadata": {},
   "outputs": [
    {
     "name": "stderr",
     "output_type": "stream",
     "text": [
      "/home/aalmela/anaconda3/lib/python3.7/site-packages/ipykernel_launcher.py:7: UserWarning: In Matplotlib 3.3 individual lines on a stem plot will be added as a LineCollection instead of individual lines. This significantly improves the performance of a stem plot. To remove this warning and switch to the new behaviour, set the \"use_line_collection\" keyword argument to True.\n",
      "  import sys\n"
     ]
    }
   ],
   "source": [
    "# FFT\n",
    "\n",
    "Fam = fft(vgs) / len(vgs)  # Normalizada\n",
    "\n",
    "frq = fftfreq(len(vgs), ds)  # Recuperamos las frecuencias\n",
    "\n",
    "plt.stem(frq, np.abs(Fam) )  \n",
    "\n",
    "plt.xlim(-12e6, 12e6)\n",
    "plt.xlabel('Frecuencia (MHz)')\n",
    "plt.ylabel('Abs($Y$)')\n",
    "plt.grid()\n",
    "plt.show()"
   ]
  },
  {
   "cell_type": "code",
   "execution_count": null,
   "metadata": {},
   "outputs": [],
   "source": [
    "# FFT\n",
    "\n",
    "Fam = fft(idd) / len(idd)  # Normalizada\n",
    "\n",
    "frq = fftfreq(len(idd), ds)  # Recuperamos las frecuencias\n",
    "\n",
    "plt.stem(frq, np.abs(Fam)*2 )  \n",
    "\n",
    "plt.xlim(-2e6, 12e6)\n",
    "plt.ylim(0, 14)\n",
    "plt.xlabel('Frecuencia (MHz)')\n",
    "plt.ylabel('Abs($Y$)')\n",
    "plt.grid()\n",
    "plt.show()"
   ]
  },
  {
   "cell_type": "code",
   "execution_count": null,
   "metadata": {},
   "outputs": [],
   "source": []
  }
 ],
 "metadata": {
  "kernelspec": {
   "display_name": "Python 3",
   "language": "python",
   "name": "python3"
  },
  "language_info": {
   "codemirror_mode": {
    "name": "ipython",
    "version": 3
   },
   "file_extension": ".py",
   "mimetype": "text/x-python",
   "name": "python",
   "nbconvert_exporter": "python",
   "pygments_lexer": "ipython3",
   "version": "3.7.0"
  }
 },
 "nbformat": 4,
 "nbformat_minor": 2
}
